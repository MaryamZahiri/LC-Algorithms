{
 "cells": [
  {
   "cell_type": "markdown",
   "metadata": {},
   "source": [
    "1. Balanced Brackets\n",
    "Pattern: Use a stack to check if each opening bracket has a matching closing bracket in the correct order."
   ]
  },
  {
   "cell_type": "code",
   "execution_count": null,
   "metadata": {},
   "outputs": [],
   "source": [
    "def isValid(s):\n",
    "    stack = []\n",
    "    bracket_map = {')': '(', '}': '{', ']': '['}\n",
    "    for char in s:\n",
    "        if char in bracket_map:\n",
    "            if stack and stack[-1] == bracket_map[char]:\n",
    "                stack.pop()\n",
    "            else:\n",
    "                return False\n",
    "        else:\n",
    "            stack.append(char)\n",
    "    return not stack\n"
   ]
  },
  {
   "cell_type": "code",
   "execution_count": null,
   "metadata": {},
   "outputs": [],
   "source": [
    "s = \"({[]})\"\n",
    "'''\n",
    "Stack: [\n",
    "Push '(' -> [(]\n",
    "Push '{' -> [({]\n",
    "Push '[' -> [({[]\n",
    "Pop ']'  -> [({]\n",
    "Pop '}'  -> [(]\n",
    "Pop ')'  -> []\n",
    "]\n",
    "'''\n",
    "# Result: Stack is empty, so the brackets are balanced."
   ]
  },
  {
   "cell_type": "markdown",
   "metadata": {},
   "source": [
    "2. Next Greater Element"
   ]
  },
  {
   "cell_type": "markdown",
   "metadata": {},
   "source": [
    "Pattern: Use a stack to keep track of elements in decreasing order. When finding a larger element, pop from the stack to set the \"next greater\" for each element."
   ]
  },
  {
   "cell_type": "code",
   "execution_count": null,
   "metadata": {},
   "outputs": [],
   "source": [
    "def nextGreaterElements(nums):\n",
    "    result = [-1] * len(nums)\n",
    "    stack = []\n",
    "    for i in range(len(nums) * 2):\n",
    "        num = nums[i % len(nums)]\n",
    "        while stack and nums[stack[-1]] < num:\n",
    "            result[stack.pop()] = num\n",
    "        if i < len(nums):\n",
    "            stack.append(i)\n",
    "    return result"
   ]
  },
  {
   "cell_type": "code",
   "execution_count": null,
   "metadata": {},
   "outputs": [],
   "source": [
    "nums = [2, 1, 3]\n",
    "'''\n",
    "Stack: []\n",
    "Push 2  -> [2]\n",
    "1 < 2, do nothing\n",
    "3 > 2, Pop -> result[0] = 3\n",
    "\n",
    "Result: [3, 3, -1]\n",
    "'''"
   ]
  },
  {
   "cell_type": "markdown",
   "metadata": {},
   "source": [
    "3. Largest Rectangle in Histogram\n",
    "\n",
    "Pattern: Use a stack to store indices of bars in increasing order. For each bar, calculate the area by popping the stack until the current height is taller."
   ]
  },
  {
   "cell_type": "code",
   "execution_count": null,
   "metadata": {},
   "outputs": [],
   "source": [
    "def largestRectangleArea(heights):\n",
    "    heights.append(0)  # Sentinel to clear stack at the end\n",
    "    stack = []\n",
    "    max_area = 0\n",
    "    for i, h in enumerate(heights):\n",
    "        while stack and heights[stack[-1]] > h:\n",
    "            height = heights[stack.pop()]\n",
    "            width = i if not stack else i - stack[-1] - 1\n",
    "            max_area = max(max_area, height * width)\n",
    "        stack.append(i)\n",
    "    return max_area\n"
   ]
  },
  {
   "cell_type": "code",
   "execution_count": null,
   "metadata": {},
   "outputs": [],
   "source": [
    "heights = [2, 1, 5, 6, 2, 3]\n",
    "'''\n",
    "Stack: []\n",
    "2 -> [0]\n",
    "1 -> Pop 2, width=1 -> max_area=2 -> [1]\n",
    "\n",
    "Result: Maximum area is 10\n",
    "'''"
   ]
  },
  {
   "cell_type": "markdown",
   "metadata": {},
   "source": [
    "4. Remove K Digits to Get the Smallest Number\n",
    "\n",
    "Pattern: Use a stack to build the smallest possible number by maintaining a monotonic increasing stack and removing elements that are larger than the current digit if there’s room to remove more.\n",
    "\n",
    "Use Case: Given a number as a string, remove k digits to form the smallest possible number."
   ]
  },
  {
   "cell_type": "code",
   "execution_count": null,
   "metadata": {},
   "outputs": [],
   "source": [
    "def removeKdigits(num, k):\n",
    "    stack = []\n",
    "    for digit in num:\n",
    "        while k > 0 and stack and stack[-1] > digit:\n",
    "            stack.pop()\n",
    "            k -= 1\n",
    "        stack.append(digit)\n",
    "    final_stack = stack[:-k] if k else stack\n",
    "    return ''.join(final_stack).lstrip('0') or '0'\n"
   ]
  },
  {
   "cell_type": "code",
   "execution_count": null,
   "metadata": {},
   "outputs": [],
   "source": [
    "num = \"1432219\", k = 3\n",
    "Result: \"1219\""
   ]
  },
  {
   "cell_type": "markdown",
   "metadata": {},
   "source": [
    "5. Decode String (Nested Decoding)\n",
    "\n",
    "Pattern: Use two stacks to handle nested patterns — one for numbers and one for strings. Push intermediate results and repeat counts to the stacks as you encounter opening brackets.\n",
    "\n",
    "Use Case: Decode strings like \"3[a2[c]]\" to \"accaccacc\"."
   ]
  },
  {
   "cell_type": "code",
   "execution_count": null,
   "metadata": {},
   "outputs": [],
   "source": [
    "def decodeString(s):\n",
    "    stack = []\n",
    "    num = 0\n",
    "    current_str = \"\"\n",
    "    for char in s:\n",
    "        if char.isdigit():\n",
    "            num = num * 10 + int(char)\n",
    "        elif char == '[':\n",
    "            stack.append((current_str, num))\n",
    "            current_str, num = \"\", 0\n",
    "        elif char == ']':\n",
    "            last_str, repeat = stack.pop()\n",
    "            current_str = last_str + current_str * repeat\n",
    "        else:\n",
    "            current_str += char\n",
    "    return current_str\n"
   ]
  },
  {
   "cell_type": "code",
   "execution_count": null,
   "metadata": {},
   "outputs": [],
   "source": [
    "s = \"3[a2[c]]\"\n",
    "'''\n",
    "Result: \"accaccacc\"\n",
    "'''"
   ]
  },
  {
   "cell_type": "markdown",
   "metadata": {},
   "source": [
    "6. Simplify File Path (Unix Path Simplification)\n",
    "\n",
    "Pattern: Use a stack to navigate paths by pushing valid directories and popping when encountering ...\n",
    "\n",
    "Use Case: Simplify a Unix-style path like \"/a/./b/../../c/\" to \"/c\"."
   ]
  },
  {
   "cell_type": "code",
   "execution_count": null,
   "metadata": {},
   "outputs": [],
   "source": [
    "def simplifyPath(path):\n",
    "    stack = []\n",
    "    for part in path.split('/'):\n",
    "        if part == '..':\n",
    "            if stack: stack.pop()\n",
    "        elif part and part != '.':\n",
    "            stack.append(part)\n",
    "    return '/' + '/'.join(stack)\n"
   ]
  },
  {
   "cell_type": "code",
   "execution_count": null,
   "metadata": {},
   "outputs": [],
   "source": [
    "path = \"/a/./b/../../c/\"\n",
    "'''\n",
    "Result: \"/c\"\n",
    "'''"
   ]
  },
  {
   "cell_type": "markdown",
   "metadata": {},
   "source": [
    "7. Evaluate Infix Expression Using Two Stacks\n",
    "\n",
    "Pattern: Use two stacks, one for values and one for operators. Process operators based on precedence.\n",
    "\n",
    "Use Case: Evaluate expressions like \"3 + 5 * (2 - 8)\"."
   ]
  },
  {
   "cell_type": "code",
   "execution_count": null,
   "metadata": {},
   "outputs": [],
   "source": [
    "def evaluate(expression):\n",
    "    def apply_op(a, b, op):\n",
    "        if op == '+': return a + b\n",
    "        if op == '-': return a - b\n",
    "        if op == '*': return a * b\n",
    "        if op == '/': return int(a / b)\n",
    "\n",
    "    def precedence(op):\n",
    "        if op in ('+', '-'): return 1\n",
    "        if op in ('*', '/'): return 2\n",
    "        return 0\n",
    "\n",
    "    values, ops = [], []\n",
    "    i = 0\n",
    "    while i < len(expression):\n",
    "        if expression[i] == ' ':\n",
    "            i += 1\n",
    "            continue\n",
    "        if expression[i] == '(':\n",
    "            ops.append(expression[i])\n",
    "        elif expression[i].isdigit():\n",
    "            val = 0\n",
    "            while i < len(expression) and expression[i].isdigit():\n",
    "                val = val * 10 + int(expression[i])\n",
    "                i += 1\n",
    "            values.append(val)\n",
    "            i -= 1\n",
    "        elif expression[i] == ')':\n",
    "            while ops and ops[-1] != '(':\n",
    "                values.append(apply_op(values.pop(-2), values.pop(), ops.pop()))\n",
    "            ops.pop()\n",
    "        else:\n",
    "            while (ops and precedence(ops[-1]) >= precedence(expression[i])):\n",
    "                values.append(apply_op(values.pop(-2), values.pop(), ops.pop()))\n",
    "            ops.append(expression[i])\n",
    "        i += 1\n",
    "\n",
    "    while ops:\n",
    "        values.append(apply_op(values.pop(-2), values.pop(), ops.pop()))\n",
    "\n",
    "    return values[0]\n"
   ]
  },
  {
   "cell_type": "code",
   "execution_count": null,
   "metadata": {},
   "outputs": [],
   "source": [
    "expression = \"3 + 5 * ( 2 - 8 )\"\n",
    "'''\n",
    "Result: -13\n",
    "'''"
   ]
  },
  {
   "cell_type": "markdown",
   "metadata": {},
   "source": [
    "8. Basic Calculator with Parentheses\n",
    "\n",
    "Pattern: Use a stack to handle nested calculations, especially when dealing with parentheses.\n",
    "\n",
    "Use Case: Evaluate basic expressions with +, -, (, ) without operator precedence."
   ]
  },
  {
   "cell_type": "code",
   "execution_count": null,
   "metadata": {},
   "outputs": [],
   "source": [
    "def calculate(s):\n",
    "    stack = []\n",
    "    current_number = 0\n",
    "    result = 0\n",
    "    sign = 1\n",
    "    \n",
    "    for char in s:\n",
    "        if char.isdigit():\n",
    "            current_number = current_number * 10 + int(char)\n",
    "        elif char == '+':\n",
    "            result += sign * current_number\n",
    "            sign = 1\n",
    "            current_number = 0\n",
    "        elif char == '-':\n",
    "            result += sign * current_number\n",
    "            sign = -1\n",
    "            current_number = 0\n",
    "        elif char == '(':\n",
    "            stack.append(result)\n",
    "            stack.append(sign)\n",
    "            result = 0\n",
    "            sign = 1\n",
    "        elif char == ')':\n",
    "            result += sign * current_number\n",
    "            result *= stack.pop()\n",
    "            result += stack.pop()\n",
    "            current_number = 0\n",
    "\n",
    "    return result + sign * current_number\n"
   ]
  },
  {
   "cell_type": "code",
   "execution_count": null,
   "metadata": {},
   "outputs": [],
   "source": [
    "Example: s = \"1 + (2 - (3 + 4))\"\n",
    "'''\n",
    "Result: -4\n",
    "'''"
   ]
  }
 ],
 "metadata": {
  "language_info": {
   "name": "python"
  }
 },
 "nbformat": 4,
 "nbformat_minor": 2
}
