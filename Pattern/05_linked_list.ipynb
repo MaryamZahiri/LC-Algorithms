{
 "cells": [
  {
   "cell_type": "code",
   "execution_count": 1,
   "metadata": {},
   "outputs": [],
   "source": [
    "class ListNode:\n",
    "    def __init__(self, val=0, next=None):\n",
    "        self.val = val\n",
    "        self.next = next"
   ]
  },
  {
   "cell_type": "markdown",
   "metadata": {},
   "source": [
    "Two-Pointer Technique (Cycle Detection)"
   ]
  },
  {
   "cell_type": "code",
   "execution_count": null,
   "metadata": {},
   "outputs": [],
   "source": [
    "def hasCycle(head):\n",
    "    slow, fast = head, head\n",
    "    while fast and fast.next:\n",
    "        slow = slow.next\n",
    "        fast = fast.next.next\n",
    "        if slow == fast:\n",
    "            return True\n",
    "    return False\n"
   ]
  },
  {
   "cell_type": "code",
   "execution_count": null,
   "metadata": {},
   "outputs": [],
   "source": [
    "head -> 1 -> 2 -> 3 -> 4 -> 5\n",
    "               ^             |\n",
    "               |_____________|\n"
   ]
  },
  {
   "cell_type": "markdown",
   "metadata": {},
   "source": [
    "Explanation:\n",
    "\n",
    "slow moves one step, fast moves two steps.\n",
    "\n",
    "If they meet inside the cycle, it confirms a cycle exists."
   ]
  },
  {
   "cell_type": "markdown",
   "metadata": {},
   "source": [
    "Two-Pointer - Find middle"
   ]
  },
  {
   "cell_type": "code",
   "execution_count": null,
   "metadata": {},
   "outputs": [],
   "source": [
    "def findMiddle(head):\n",
    "    slow, fast = head, head\n",
    "    while fast and fast.next:\n",
    "        slow = slow.next\n",
    "        fast = fast.next.next\n",
    "    return slow"
   ]
  },
  {
   "cell_type": "markdown",
   "metadata": {},
   "source": [
    "2. Reversal of Linked List"
   ]
  },
  {
   "cell_type": "code",
   "execution_count": null,
   "metadata": {},
   "outputs": [],
   "source": [
    "def reverseList(head):\n",
    "    pre, cur = None, head\n",
    "    while cur:\n",
    "        # record temp\n",
    "        tmp = cur.next\n",
    "        # update pointer\n",
    "        cur.next = pre\n",
    "        # Move next\n",
    "        pre = cur\n",
    "        cur = tmp\n",
    "\n",
    "    return pre"
   ]
  },
  {
   "cell_type": "code",
   "execution_count": null,
   "metadata": {},
   "outputs": [],
   "source": [
    "Original:     1 -> 2 -> 3 -> 4 -> None\n",
    "Reversed: None <- 1 <- 2 <- 3 <- 4\n"
   ]
  },
  {
   "cell_type": "markdown",
   "metadata": {},
   "source": [
    "Time Complexity:\n",
    "\n",
    "O(N) N is number of nodes (List's Length)\n",
    "\n",
    "Space Complexity:\n",
    "\n",
    "O(1)"
   ]
  },
  {
   "cell_type": "markdown",
   "metadata": {},
   "source": [
    "Recursive Approach:"
   ]
  },
  {
   "cell_type": "code",
   "execution_count": null,
   "metadata": {},
   "outputs": [],
   "source": [
    "def reverseList(head):\n",
    "    if not head or not head.next:\n",
    "        return head\n",
    "    \n",
    "    res = reverseList(head.next)\n",
    "    head.next.next = head\n",
    "    head.next = None\n",
    "\n",
    "    return res"
   ]
  },
  {
   "cell_type": "markdown",
   "metadata": {},
   "source": [
    "Time Complexity:\n",
    "\n",
    "O(N) list's length \n",
    "\n",
    "Space Complexity:\n",
    "\n",
    "O(N) stack space because of recursive calls"
   ]
  },
  {
   "cell_type": "markdown",
   "metadata": {},
   "source": [
    "Explanation:\n",
    "\n",
    "We move each node’s next pointer to point to the previous node, effectively reversing the list."
   ]
  },
  {
   "cell_type": "markdown",
   "metadata": {},
   "source": [
    "3. Merging Sorted Linked Lists"
   ]
  },
  {
   "cell_type": "code",
   "execution_count": null,
   "metadata": {},
   "outputs": [],
   "source": [
    "def mergeTwoLists(l1, l2):\n",
    "    '''\n",
    "    Time: O(n)\n",
    "    Space: O(1)\n",
    "    '''\n",
    "    dummy = ListNode(0)\n",
    "    current = dummy\n",
    "    while l1 and l2:\n",
    "        if l1.val < l2.val:\n",
    "            current.next = l1\n",
    "            l1 = l1.next\n",
    "        else:\n",
    "            current.next = l2\n",
    "            l2 = l2.next\n",
    "        current = current.next\n",
    "    current.next = l1 if l1 else l2\n",
    "    return dummy.next\n"
   ]
  },
  {
   "cell_type": "code",
   "execution_count": null,
   "metadata": {},
   "outputs": [],
   "source": [
    "List 1:  1 -> 3 -> 5\n",
    "List 2:  2 -> 4 -> 6\n",
    "\n",
    "Merged: 1 -> 2 -> 3 -> 4 -> 5 -> 6\n"
   ]
  },
  {
   "cell_type": "markdown",
   "metadata": {},
   "source": [
    "Explanation:\n",
    "\n",
    "Merge nodes by comparing values, appending the smaller node to the result list until one list is exhausted."
   ]
  },
  {
   "cell_type": "markdown",
   "metadata": {},
   "source": [
    "4. Reordering Linked List"
   ]
  },
  {
   "cell_type": "code",
   "execution_count": null,
   "metadata": {},
   "outputs": [],
   "source": [
    "class Solution:\n",
    "    '''\n",
    "    Time: O(N)\n",
    "    - Middle of node takes O(N)\n",
    "    - Reverse the second part of list is O(N/2)\n",
    "    - Merge two lists O(N/2)\n",
    "    Space: O(1)\n",
    "    '''\n",
    "    def reorderList(self, head):\n",
    "        # TODO: ListNode class\n",
    "\n",
    "        # Find the middle - half\n",
    "        def findMiddle(node):\n",
    "            slow = fast = node\n",
    "            while fast and fast.next:\n",
    "                # move pointers\n",
    "                slow = slow.next\n",
    "                fast = fast.next.next\n",
    "\n",
    "            return slow\n",
    "        middle = findMiddle(head)\n",
    "\n",
    "        # reverse second half part\n",
    "        def reverseList(node):\n",
    "            pre, cur = None, node\n",
    "            # traverse list of node\n",
    "            while cur:\n",
    "                next_cur = cur.next \n",
    "                cur.next = pre\n",
    "                # move pointers\n",
    "                pre = cur\n",
    "                cur = next_cur\n",
    "            return pre\n",
    "        reverse_head = reverseList(middle)\n",
    "\n",
    "        # merge unsorted lists\n",
    "        def mergeLists(node1, node2):\n",
    "            first, second = node1, node2\n",
    "\n",
    "            while second.next:\n",
    "                next_first = first.next\n",
    "                # update\n",
    "                first.next = second\n",
    "                # move pointer\n",
    "                first = next_first\n",
    "\n",
    "                next_second = second.next\n",
    "                # update \n",
    "                second.next = first\n",
    "                # move pointer\n",
    "                second = next_second\n",
    "\n",
    "        mergeLists(head, reverse_head)\n"
   ]
  },
  {
   "cell_type": "code",
   "execution_count": null,
   "metadata": {},
   "outputs": [],
   "source": [
    "Original:   1 -> 2 -> 3 -> 4 -> 5\n",
    "Reordered: 1 -> 5 -> 2 -> 4 -> 3\n"
   ]
  },
  {
   "cell_type": "markdown",
   "metadata": {},
   "source": [
    "Explanation:\n",
    "\n",
    "Split the list in half, reverse the second half, and merge the halves by alternating nodes."
   ]
  },
  {
   "cell_type": "markdown",
   "metadata": {},
   "source": [
    "5. In-Place Deletion and Insertion"
   ]
  },
  {
   "cell_type": "code",
   "execution_count": null,
   "metadata": {},
   "outputs": [],
   "source": [
    "def removeNthFromEnd(head, n):\n",
    "    '''\n",
    "    Time: O(n) - n nodes\n",
    "    Space: O(1)\n",
    "    '''\n",
    "    dummy = ListNode(0, head)\n",
    "    left = dummy\n",
    "    right = head\n",
    "\n",
    "    # gap\n",
    "    while n > 0 and right:\n",
    "        right = right.next \n",
    "        n -= 1\n",
    "\n",
    "    # find removed position while right get to None and left get to the place to remove the nth node\n",
    "    while right:\n",
    "        right = right.next \n",
    "        left = left.next\n",
    "\n",
    "    left.next = left.next.next\n",
    "\n",
    "    return dummy.next\n"
   ]
  },
  {
   "cell_type": "code",
   "execution_count": null,
   "metadata": {},
   "outputs": [],
   "source": [
    "Original:   1 -> 2 -> 3 -> 4 -> 5\n",
    "After Removal: 1 -> 2 -> 3 -> 5\n"
   ]
  },
  {
   "cell_type": "markdown",
   "metadata": {},
   "source": [
    "Explanation:\n",
    "\n",
    "Fast pointer moves n steps ahead, then both move together until fast reaches the end, allowing slow to delete the n-th node from the end."
   ]
  },
  {
   "cell_type": "markdown",
   "metadata": {},
   "source": [
    "Remove Linked List element"
   ]
  },
  {
   "cell_type": "code",
   "execution_count": null,
   "metadata": {},
   "outputs": [],
   "source": [
    "class Solution:\n",
    "    '''\n",
    "    Time: O(n)\n",
    "    Space: O(1)\n",
    "    '''\n",
    "    def removeElements(self, head, val):\n",
    "        dummy = ListNode(next=head)\n",
    "        pre, cur = dummy, head\n",
    "\n",
    "        while cur:\n",
    "            nxt = cur.next\n",
    "\n",
    "            if cur.val == val:\n",
    "                pre.next = nxt\n",
    "            else:\n",
    "                pre = cur\n",
    "\n",
    "            cur = nxt\n",
    "\n",
    "        return dummy.next"
   ]
  },
  {
   "cell_type": "markdown",
   "metadata": {},
   "source": [
    "6. Partitioning the Linked List"
   ]
  },
  {
   "cell_type": "code",
   "execution_count": null,
   "metadata": {},
   "outputs": [],
   "source": [
    "def partition(head, x):\n",
    "    left_dummy, right_dummy = ListNode(0), ListNode(0)\n",
    "    left, right = left_dummy, right_dummy\n",
    "    while head:\n",
    "        if head.val < x:\n",
    "            left.next = head\n",
    "            left = left.next\n",
    "        else:\n",
    "            right.next = head\n",
    "            right = right.next\n",
    "        head = head.next\n",
    "    right.next = None\n",
    "    left.next = right_dummy.next\n",
    "    return left_dummy.next\n"
   ]
  },
  {
   "cell_type": "code",
   "execution_count": null,
   "metadata": {},
   "outputs": [],
   "source": [
    "Original:   1 -> 4 -> 3 -> 2 -> 5 -> 2\n",
    "Partitioned: 1 -> 2 -> 2 -> 4 -> 3 -> 5\n"
   ]
  },
  {
   "cell_type": "markdown",
   "metadata": {},
   "source": [
    "Explanation:\n",
    "\n",
    "Separate nodes less than x into one list and nodes greater than or equal to x into another, then connect the lists."
   ]
  },
  {
   "cell_type": "markdown",
   "metadata": {},
   "source": [
    "7. Using a Dummy Node"
   ]
  },
  {
   "cell_type": "code",
   "execution_count": null,
   "metadata": {},
   "outputs": [],
   "source": [
    "def deleteDuplicates(head):\n",
    "    dummy = ListNode(0, head)\n",
    "    current = dummy\n",
    "    while current.next and current.next.next:\n",
    "        if current.next.val == current.next.next.val:\n",
    "            duplicate_val = current.next.val\n",
    "            while current.next and current.next.val == duplicate_val:\n",
    "                current.next = current.next.next\n",
    "        else:\n",
    "            current = current.next\n",
    "    return dummy.next\n"
   ]
  },
  {
   "cell_type": "code",
   "execution_count": null,
   "metadata": {},
   "outputs": [],
   "source": [
    "Original: 1 -> 1 -> 2 -> 3 -> 3\n",
    "After Removal: 1 -> 2 -> 3\n"
   ]
  },
  {
   "cell_type": "markdown",
   "metadata": {},
   "source": [
    "Explanation:\n",
    "\n",
    "Use a dummy node to simplify handling of duplicate nodes, making it easier to adjust pointers while removing duplicates."
   ]
  }
 ],
 "metadata": {
  "kernelspec": {
   "display_name": "Python 3",
   "language": "python",
   "name": "python3"
  },
  "language_info": {
   "codemirror_mode": {
    "name": "ipython",
    "version": 3
   },
   "file_extension": ".py",
   "mimetype": "text/x-python",
   "name": "python",
   "nbconvert_exporter": "python",
   "pygments_lexer": "ipython3",
   "version": "3.10.5"
  }
 },
 "nbformat": 4,
 "nbformat_minor": 2
}
