{
 "cells": [
  {
   "cell_type": "markdown",
   "metadata": {},
   "source": [
    "TODO:\n",
    "\n",
    "In monotonic stack:\n",
    "\n",
    "Find where we should pop. The example values shows if it is increasing or decreasing stack.\n",
    "\n",
    "In increasing:\n",
    "\n",
    "We cannot extend stack in minimum values. when current value is less, we should pop all stack till we can add the new value\n",
    "\n",
    "The calculations happend while poping"
   ]
  },
  {
   "cell_type": "markdown",
   "metadata": {},
   "source": [
    "1. Balanced Brackets\n",
    "Pattern: Use a stack to check if each opening bracket has a matching closing bracket in the correct order."
   ]
  },
  {
   "cell_type": "code",
   "execution_count": null,
   "metadata": {},
   "outputs": [],
   "source": [
    "def isValid(s):\n",
    "    stack = []\n",
    "    bracket_map = {')': '(', '}': '{', ']': '['}\n",
    "    for char in s:\n",
    "        if char in bracket_map:\n",
    "            if stack and stack[-1] == bracket_map[char]:\n",
    "                stack.pop()\n",
    "            else:\n",
    "                return False\n",
    "        else:\n",
    "            stack.append(char)\n",
    "    return not stack\n"
   ]
  },
  {
   "cell_type": "code",
   "execution_count": null,
   "metadata": {},
   "outputs": [],
   "source": [
    "s = \"({[]})\"\n",
    "'''\n",
    "Stack: [\n",
    "Push '(' -> [(]\n",
    "Push '{' -> [({]\n",
    "Push '[' -> [({[]\n",
    "Pop ']'  -> [({]\n",
    "Pop '}'  -> [(]\n",
    "Pop ')'  -> []\n",
    "]\n",
    "'''\n",
    "# Result: Stack is empty, so the brackets are balanced."
   ]
  },
  {
   "cell_type": "markdown",
   "metadata": {},
   "source": [
    "2. Next Greater Element"
   ]
  },
  {
   "cell_type": "markdown",
   "metadata": {},
   "source": [
    "Pattern: Use a stack to keep track of elements in decreasing order. When finding a larger element, pop from the stack to set the \"next greater\" for each element."
   ]
  },
  {
   "cell_type": "markdown",
   "metadata": {},
   "source": [
    "Circular Fashion (wrap around): \n",
    "\n",
    "one additional round is sufficient:\n",
    "\n",
    "First Round: In the first len(nums) iterations, we process each element normally, pushing it to the stack and trying to find its next greater element using elements to its right.\n",
    "\n",
    "Second Round: In the next len(nums) iterations, we wrap around to the beginning of the array without adding elements to the stack again (to avoid duplicates). This allows elements near the end of the array to \"see\" elements from the beginning, simulating the circular behavior.\n",
    "\n",
    "Since every element has been processed in the first round, one more pass through the array is enough to make sure each element can “see” any larger element that appears earlier in the array."
   ]
  },
  {
   "cell_type": "code",
   "execution_count": null,
   "metadata": {},
   "outputs": [],
   "source": [
    "def nextGreaterElements(nums):\n",
    "    result = [-1] * len(nums)\n",
    "    stack = []\n",
    "    for i in range(len(nums) * 2):\n",
    "        num = nums[i % len(nums)]\n",
    "        while stack and nums[stack[-1]] < num:\n",
    "            result[stack.pop()] = num\n",
    "        if i < len(nums):\n",
    "            stack.append(i)\n",
    "    return result"
   ]
  },
  {
   "cell_type": "code",
   "execution_count": null,
   "metadata": {},
   "outputs": [],
   "source": [
    "nums = [2, 1, 3]\n",
    "'''\n",
    "Stack: []\n",
    "Push 2  -> [2]\n",
    "1 < 2, do nothing\n",
    "3 > 2, Pop -> result[0] = 3\n",
    "\n",
    "Result: [3, 3, -1]\n",
    "'''\n",
    "\n",
    "nums = [1,1,2,1,1]\n",
    "'''\n",
    "why 2nd loop: See end of array by wrap around (2nd round of loop)\n",
    "It allows to record last elements and give chances to 2 last elements (num = 1) in stack, to compare with num = 2\n",
    "Result: [2,2,-1,2,2]\n",
    "'''"
   ]
  },
  {
   "cell_type": "markdown",
   "metadata": {},
   "source": [
    "3. Largest Rectangle in Histogram\n",
    "\n",
    "Pattern: Use a stack to store indices of bars in increasing order. For each bar, calculate the area by popping the stack until the current height is taller."
   ]
  },
  {
   "cell_type": "code",
   "execution_count": null,
   "metadata": {},
   "outputs": [],
   "source": [
    "def largestRectangleArea(heights):\n",
    "    heights.append(0)  # Sentinel to clear stack at the end\n",
    "    stack = []\n",
    "    max_area = 0\n",
    "    for i, h in enumerate(heights):\n",
    "        while stack and heights[stack[-1]] > h:\n",
    "            height = heights[stack.pop()]\n",
    "            # The width of the rectangle with height heights[start_idx] extends from the next element after stack[-1] (i.e., stack[-1] + 1) up to cur_idx - 1\n",
    "            width = i if not stack else i - stack[-1] - 1\n",
    "            max_area = max(max_area, height * width)\n",
    "        stack.append(i)\n",
    "    return max_area\n"
   ]
  },
  {
   "cell_type": "code",
   "execution_count": null,
   "metadata": {},
   "outputs": [],
   "source": [
    "heights = [2, 1, 5, 6, 2, 3]\n",
    "'''\n",
    "Stack: []\n",
    "2 -> [0]\n",
    "1 -> Pop 2, width=1 -> max_area=2 -> [1]\n",
    "\n",
    "Result: Maximum area is 10\n",
    "'''\n",
    "\n",
    "'''\n",
    "monotonic stack - increasing\n",
    "            |\n",
    "        |   |\n",
    "    |   |   |\n",
    "|   |   |   |   |   Pop happen in small current values\n",
    "                    Stack is always increasing\n",
    "                    Then, append an 0 value to end of height to pop at the end and go backward\n",
    "'''"
   ]
  },
  {
   "cell_type": "markdown",
   "metadata": {},
   "source": [
    "4. Remove K Digits to Get the Smallest Number\n",
    "\n",
    "Pattern: Use a stack to build the smallest possible number by maintaining a monotonic increasing stack and removing elements that are larger than the current digit if there’s room to remove more.\n",
    "\n",
    "Use Case: Given a number as a string, remove k digits to form the smallest possible number."
   ]
  },
  {
   "cell_type": "code",
   "execution_count": null,
   "metadata": {},
   "outputs": [],
   "source": [
    "def removeKdigits(num, k):\n",
    "    stack = []\n",
    "    for digit in num:\n",
    "        while k > 0 and stack and stack[-1] > digit:\n",
    "            stack.pop()\n",
    "            k -= 1\n",
    "        stack.append(digit)\n",
    "    final_stack = stack[:-k] if k else stack\n",
    "    # lstrip('0') removes zeros from the start (left side) of the string to produce a clean number representation, and or '0' ensures that we get \"0\" if the string was initially all zeros.\n",
    "    return ''.join(final_stack).lstrip('0') or '0'\n"
   ]
  },
  {
   "cell_type": "code",
   "execution_count": null,
   "metadata": {},
   "outputs": [],
   "source": [
    "num = \"1432219\", k = 3\n",
    "Result: \"1219\""
   ]
  },
  {
   "cell_type": "markdown",
   "metadata": {},
   "source": [
    "5. Decode String (Nested Decoding)\n",
    "\n",
    "Pattern: Use two stacks to handle nested patterns — one for numbers and one for strings. Push intermediate results and repeat counts to the stacks as you encounter opening brackets.\n",
    "\n",
    "Use Case: Decode strings like \"3[a2[c]]\" to \"accaccacc\"."
   ]
  },
  {
   "cell_type": "code",
   "execution_count": null,
   "metadata": {},
   "outputs": [],
   "source": [
    "def decodeString(s):\n",
    "    stack = []\n",
    "    num = 0\n",
    "    current_str = \"\"\n",
    "    for char in s:\n",
    "        if char.isdigit():\n",
    "            num = num * 10 + int(char)\n",
    "        elif char == '[':\n",
    "            stack.append((current_str, num))\n",
    "            current_str, num = \"\", 0\n",
    "        elif char == ']':\n",
    "            last_str, repeat = stack.pop()\n",
    "            current_str = last_str + current_str * repeat\n",
    "        else:\n",
    "            current_str += char\n",
    "    return current_str\n"
   ]
  },
  {
   "cell_type": "code",
   "execution_count": null,
   "metadata": {},
   "outputs": [],
   "source": [
    "s = \"100[leetcode]\"\n",
    "'''\n",
    "1: 0 * 10 + 1\n",
    "0: 1 * 10 + 0\n",
    "0: 10 * 10 + 0 = 100 \n",
    "num = num * 10 + int(char)\n",
    "'''\n",
    "\n",
    "s = \"3[a2[c]]\"\n",
    "'''\n",
    "3: counter = 3, current_string = ''\n",
    "[: push stack ['', 3]\n",
    "a: current_string = a\n",
    "2: counter = 2, \n",
    "[: push stack [('', 3), (a, 2)] current_string = '' counter = 0\n",
    "c: current_string = c\n",
    "]: pop (a,2): curret_string = a + 2 * c = acc\n",
    "]: pop ('', 3): pre_string + pre_counter * current_string = '' + 3 * acc = accaccacc\n",
    "'''"
   ]
  },
  {
   "cell_type": "markdown",
   "metadata": {},
   "source": [
    "6. Simplify File Path (Unix Path Simplification)\n",
    "\n",
    "Pattern: Use a stack to navigate paths by pushing valid directories and popping when encountering ...\n",
    "\n",
    "Use Case: Simplify a Unix-style path like \"/a/./b/../../c/\" to \"/c\"."
   ]
  },
  {
   "cell_type": "code",
   "execution_count": null,
   "metadata": {},
   "outputs": [],
   "source": [
    "def simplifyPath(path):\n",
    "    stack = []\n",
    "    for part in path.split('/'):\n",
    "        if part == '..':\n",
    "            if stack: stack.pop()\n",
    "        elif part and part != '.':\n",
    "            stack.append(part)\n",
    "    return '/' + '/'.join(stack)\n"
   ]
  },
  {
   "cell_type": "markdown",
   "metadata": {},
   "source": [
    "time complexity is:\n",
    "\n",
    "O(n) for split() + O(n) for processing each component, which sums up to O(n)."
   ]
  },
  {
   "cell_type": "code",
   "execution_count": null,
   "metadata": {},
   "outputs": [],
   "source": [
    "path = \"/a/./b/../../c/\"\n",
    "'''\n",
    "Result: \"/c\"\n",
    "'''"
   ]
  },
  {
   "cell_type": "markdown",
   "metadata": {},
   "source": [
    "7. Evaluate Infix Expression Using Two Stacks\n",
    "\n",
    "Pattern: Use two stacks, one for values and one for operators. Process operators based on precedence.\n",
    "\n",
    "Use Case: Evaluate expressions like \"3 + 5 * (2 - 8)\"."
   ]
  },
  {
   "cell_type": "code",
   "execution_count": null,
   "metadata": {},
   "outputs": [],
   "source": [
    "'''\n",
    "Basic Calculator 3\n",
    "'''\n",
    "class Solution:\n",
    "    '''\n",
    "    string = \"3 + 5 * (2 - 8)\"\n",
    "    3: num -> num * 10 + 3\n",
    "            add to value\n",
    "    +: op -> add to op\n",
    "    5: num -> ..\n",
    "            add to val\n",
    "    *: ops -> \n",
    "            calculate based on ops[-1] > * -> no\n",
    "            just add to ops\n",
    "    (: ops -> add to ops\n",
    "    ...\n",
    "    ): pop ops while != )\n",
    "            pop values\n",
    "            pop ops\n",
    "            calculate_op\n",
    "            add to values\n",
    "        pop ) ops\n",
    "\n",
    "    remaining 3 + 5 * -6\n",
    "    -6 * 5 = -30\n",
    "    3 + -30 = 27\n",
    "    '''\n",
    "    def calculate(self, s: str) -> int:\n",
    "        def apply_op(left, right, op):\n",
    "            if op == \"+\": return left + right\n",
    "            elif op == \"-\": return left - right\n",
    "            elif op == \"*\": return left * right \n",
    "            elif op == \"/\": return int(left / right)\n",
    "        \n",
    "        def priority_op(op):\n",
    "            if op in (\"-\", \"+\"): return 1\n",
    "            elif op in (\"*\", \"/\"): return 2\n",
    "            return 0\n",
    "        \n",
    "        def calculate_op(value, operator):\n",
    "            right, left = value.pop(), value.pop()\n",
    "            op = operator.pop()\n",
    "            calculation = apply_op(left, right, op)\n",
    "            value.append(calculation)\n",
    "\n",
    "        # stack for numbers\n",
    "        value = []\n",
    "        # stack for operators\n",
    "        operator = []\n",
    "\n",
    "        num = 0\n",
    "        is_num = False\n",
    "\n",
    "        for char in s + \" \":\n",
    "            if char.isdigit(): \n",
    "                num = num * 10 + int(char)\n",
    "                is_num = True\n",
    "            else:\n",
    "                if is_num:\n",
    "                    value.append(num)\n",
    "                    num = 0\n",
    "                    is_num = False\n",
    "                if char == \" \": continue\n",
    "                elif char == \"(\":\n",
    "                    operator.append(char)\n",
    "                elif char == \")\":\n",
    "                    while operator and operator[-1] != \"(\":\n",
    "                        calculate_op(value, operator)\n",
    "                    # Remove the '(' from ops stack\n",
    "                    operator.pop() \n",
    "                else:\n",
    "                    # find if it is a priority \n",
    "                    while operator and priority_op(operator[-1]) >= priority_op(char):\n",
    "                        calculate_op(value, operator)\n",
    "                    operator.append(char)\n",
    "\n",
    "        # For what is remained in operator\n",
    "        while operator:\n",
    "            calculate_op(value, operator)\n",
    "\n",
    "        return value[0]\n",
    "        "
   ]
  },
  {
   "cell_type": "code",
   "execution_count": null,
   "metadata": {},
   "outputs": [],
   "source": [
    "expression = \"3 + 5 * ( 2 - 8 )\"\n",
    "'''\n",
    "Result: -27\n",
    "'''"
   ]
  },
  {
   "cell_type": "markdown",
   "metadata": {},
   "source": [
    "8. Basic Calculator with Parentheses\n",
    "\n",
    "Pattern: Use a stack to handle nested calculations, especially when dealing with parentheses.\n",
    "\n",
    "Use Case: Evaluate basic expressions with +, -, (, ) without operator precedence."
   ]
  },
  {
   "cell_type": "code",
   "execution_count": null,
   "metadata": {},
   "outputs": [],
   "source": [
    "def calculate(s):\n",
    "    stack = []\n",
    "    current_number = 0\n",
    "    result = 0\n",
    "    sign = 1\n",
    "    \n",
    "    for char in s:\n",
    "        if char.isdigit():\n",
    "            current_number = current_number * 10 + int(char)\n",
    "        elif char == '+':\n",
    "            result += sign * current_number\n",
    "            sign = 1\n",
    "            current_number = 0\n",
    "        elif char == '-':\n",
    "            result += sign * current_number\n",
    "            sign = -1\n",
    "            current_number = 0\n",
    "        elif char == '(':\n",
    "            stack.append(result)\n",
    "            stack.append(sign)\n",
    "            result = 0\n",
    "            sign = 1\n",
    "        elif char == ')':\n",
    "            result += sign * current_number\n",
    "            result *= stack.pop()\n",
    "            result += stack.pop()\n",
    "            current_number = 0\n",
    "\n",
    "    return result + sign * current_number\n"
   ]
  },
  {
   "cell_type": "code",
   "execution_count": null,
   "metadata": {},
   "outputs": [],
   "source": [
    "Example: s = \"1 + (2 - (3 + 4))\"\n",
    "'''\n",
    "Result: -4\n",
    "'''"
   ]
  }
 ],
 "metadata": {
  "language_info": {
   "name": "python"
  }
 },
 "nbformat": 4,
 "nbformat_minor": 2
}
