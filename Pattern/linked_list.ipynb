{
 "cells": [
  {
   "cell_type": "markdown",
   "metadata": {},
   "source": [
    "Two-Pointer Technique (Cycle Detection)"
   ]
  },
  {
   "cell_type": "code",
   "execution_count": null,
   "metadata": {},
   "outputs": [],
   "source": [
    "def hasCycle(head):\n",
    "    slow, fast = head, head\n",
    "    while fast and fast.next:\n",
    "        slow = slow.next\n",
    "        fast = fast.next.next\n",
    "        if slow == fast:\n",
    "            return True\n",
    "    return False\n"
   ]
  },
  {
   "cell_type": "code",
   "execution_count": null,
   "metadata": {},
   "outputs": [],
   "source": [
    "head -> 1 -> 2 -> 3 -> 4 -> 5\n",
    "               ^             |\n",
    "               |_____________|\n"
   ]
  },
  {
   "cell_type": "markdown",
   "metadata": {},
   "source": [
    "Explanation:\n",
    "\n",
    "slow moves one step, fast moves two steps.\n",
    "\n",
    "If they meet inside the cycle, it confirms a cycle exists."
   ]
  },
  {
   "cell_type": "markdown",
   "metadata": {},
   "source": [
    "2. Reversal of Linked List"
   ]
  },
  {
   "cell_type": "code",
   "execution_count": null,
   "metadata": {},
   "outputs": [],
   "source": [
    "def reverseList(head):\n",
    "    prev = None\n",
    "    while head:\n",
    "        next_node = head.next\n",
    "        head.next = prev\n",
    "        prev = head\n",
    "        head = next_node\n",
    "    return prev\n"
   ]
  },
  {
   "cell_type": "code",
   "execution_count": null,
   "metadata": {},
   "outputs": [],
   "source": [
    "Original:     1 -> 2 -> 3 -> 4 -> None\n",
    "Reversed: None <- 1 <- 2 <- 3 <- 4\n"
   ]
  },
  {
   "cell_type": "markdown",
   "metadata": {},
   "source": [
    "Explanation:\n",
    "\n",
    "We move each node’s next pointer to point to the previous node, effectively reversing the list."
   ]
  },
  {
   "cell_type": "markdown",
   "metadata": {},
   "source": [
    "3. Merging Linked Lists"
   ]
  },
  {
   "cell_type": "code",
   "execution_count": null,
   "metadata": {},
   "outputs": [],
   "source": [
    "def mergeTwoLists(l1, l2):\n",
    "    dummy = ListNode(0)\n",
    "    current = dummy\n",
    "    while l1 and l2:\n",
    "        if l1.val < l2.val:\n",
    "            current.next = l1\n",
    "            l1 = l1.next\n",
    "        else:\n",
    "            current.next = l2\n",
    "            l2 = l2.next\n",
    "        current = current.next\n",
    "    current.next = l1 if l1 else l2\n",
    "    return dummy.next\n"
   ]
  },
  {
   "cell_type": "code",
   "execution_count": null,
   "metadata": {},
   "outputs": [],
   "source": [
    "List 1:  1 -> 3 -> 5\n",
    "List 2:  2 -> 4 -> 6\n",
    "\n",
    "Merged: 1 -> 2 -> 3 -> 4 -> 5 -> 6\n"
   ]
  },
  {
   "cell_type": "markdown",
   "metadata": {},
   "source": [
    "Explanation:\n",
    "\n",
    "Merge nodes by comparing values, appending the smaller node to the result list until one list is exhausted."
   ]
  },
  {
   "cell_type": "markdown",
   "metadata": {},
   "source": [
    "4. Reordering Linked List"
   ]
  },
  {
   "cell_type": "code",
   "execution_count": null,
   "metadata": {},
   "outputs": [],
   "source": [
    "def reorderList(head):\n",
    "    if not head: return\n",
    "    \n",
    "    # Find middle (two-pointer technique)\n",
    "    slow, fast = head, head\n",
    "    while fast and fast.next:\n",
    "        slow = slow.next\n",
    "        fast = fast.next.next\n",
    "    \n",
    "    # Reverse second half\n",
    "    prev, curr = None, slow\n",
    "    while curr:\n",
    "        temp = curr.next\n",
    "        curr.next = prev\n",
    "        prev = curr\n",
    "        curr = temp\n",
    "\n",
    "    # Merge two halves\n",
    "    first, second = head, prev\n",
    "    while second.next:\n",
    "        temp1, temp2 = first.next, second.next\n",
    "        first.next = second\n",
    "        second.next = temp1\n",
    "        first, second = temp1, temp2\n"
   ]
  },
  {
   "cell_type": "code",
   "execution_count": null,
   "metadata": {},
   "outputs": [],
   "source": [
    "Original:   1 -> 2 -> 3 -> 4 -> 5\n",
    "Reordered: 1 -> 5 -> 2 -> 4 -> 3\n"
   ]
  },
  {
   "cell_type": "markdown",
   "metadata": {},
   "source": [
    "Explanation:\n",
    "\n",
    "Split the list in half, reverse the second half, and merge the halves by alternating nodes."
   ]
  },
  {
   "cell_type": "markdown",
   "metadata": {},
   "source": [
    "5. In-Place Deletion and Insertion"
   ]
  },
  {
   "cell_type": "code",
   "execution_count": null,
   "metadata": {},
   "outputs": [],
   "source": [
    "def removeNthFromEnd(head, n):\n",
    "    dummy = ListNode(0, head)\n",
    "    slow, fast = dummy, dummy\n",
    "    for _ in range(n + 1):\n",
    "        fast = fast.next\n",
    "    while fast:\n",
    "        slow = slow.next\n",
    "        fast = fast.next\n",
    "    slow.next = slow.next.next\n",
    "    return dummy.next\n"
   ]
  },
  {
   "cell_type": "code",
   "execution_count": null,
   "metadata": {},
   "outputs": [],
   "source": [
    "Original:   1 -> 2 -> 3 -> 4 -> 5\n",
    "After Removal: 1 -> 2 -> 3 -> 5\n"
   ]
  },
  {
   "cell_type": "markdown",
   "metadata": {},
   "source": [
    "Explanation:\n",
    "\n",
    "Fast pointer moves n steps ahead, then both move together until fast reaches the end, allowing slow to delete the n-th node from the end."
   ]
  },
  {
   "cell_type": "markdown",
   "metadata": {},
   "source": [
    "6. Partitioning the Linked List"
   ]
  },
  {
   "cell_type": "code",
   "execution_count": null,
   "metadata": {},
   "outputs": [],
   "source": [
    "def partition(head, x):\n",
    "    left_dummy, right_dummy = ListNode(0), ListNode(0)\n",
    "    left, right = left_dummy, right_dummy\n",
    "    while head:\n",
    "        if head.val < x:\n",
    "            left.next = head\n",
    "            left = left.next\n",
    "        else:\n",
    "            right.next = head\n",
    "            right = right.next\n",
    "        head = head.next\n",
    "    right.next = None\n",
    "    left.next = right_dummy.next\n",
    "    return left_dummy.next\n"
   ]
  },
  {
   "cell_type": "code",
   "execution_count": null,
   "metadata": {},
   "outputs": [],
   "source": [
    "Original:   1 -> 4 -> 3 -> 2 -> 5 -> 2\n",
    "Partitioned: 1 -> 2 -> 2 -> 4 -> 3 -> 5\n"
   ]
  },
  {
   "cell_type": "markdown",
   "metadata": {},
   "source": [
    "Explanation:\n",
    "\n",
    "Separate nodes less than x into one list and nodes greater than or equal to x into another, then connect the lists."
   ]
  },
  {
   "cell_type": "markdown",
   "metadata": {},
   "source": [
    "7. Using a Dummy Node"
   ]
  },
  {
   "cell_type": "code",
   "execution_count": null,
   "metadata": {},
   "outputs": [],
   "source": [
    "def deleteDuplicates(head):\n",
    "    dummy = ListNode(0, head)\n",
    "    current = dummy\n",
    "    while current.next and current.next.next:\n",
    "        if current.next.val == current.next.next.val:\n",
    "            duplicate_val = current.next.val\n",
    "            while current.next and current.next.val == duplicate_val:\n",
    "                current.next = current.next.next\n",
    "        else:\n",
    "            current = current.next\n",
    "    return dummy.next\n"
   ]
  },
  {
   "cell_type": "code",
   "execution_count": null,
   "metadata": {},
   "outputs": [],
   "source": [
    "Original: 1 -> 1 -> 2 -> 3 -> 3\n",
    "After Removal: 1 -> 2 -> 3\n"
   ]
  },
  {
   "cell_type": "markdown",
   "metadata": {},
   "source": [
    "Explanation:\n",
    "\n",
    "Use a dummy node to simplify handling of duplicate nodes, making it easier to adjust pointers while removing duplicates."
   ]
  }
 ],
 "metadata": {
  "language_info": {
   "name": "python"
  }
 },
 "nbformat": 4,
 "nbformat_minor": 2
}
