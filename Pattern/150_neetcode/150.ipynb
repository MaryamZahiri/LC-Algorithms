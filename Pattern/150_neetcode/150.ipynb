{
 "cells": [
  {
   "cell_type": "markdown",
   "id": "a3caccd0",
   "metadata": {},
   "source": [
    "# Array & Hash"
   ]
  },
  {
   "cell_type": "markdown",
   "id": "bd3e2eb5",
   "metadata": {},
   "source": [
    "## 217. Contain Duplicate"
   ]
  },
  {
   "cell_type": "code",
   "execution_count": null,
   "id": "7bbf2cf6",
   "metadata": {},
   "outputs": [],
   "source": [
    "# Edge cases:\n",
    "# 1. Empty list: []\n",
    "# 2. Single element: [1]\n",
    "# 3. No duplicates: [1, 2, 3, 4]"
   ]
  },
  {
   "cell_type": "markdown",
   "id": "dc189256",
   "metadata": {},
   "source": [
    "### Approach 1. Brute Force\n",
    "\n",
    "T: O(n^2), S: O(1)"
   ]
  },
  {
   "cell_type": "code",
   "execution_count": null,
   "id": "0445a831",
   "metadata": {
    "vscode": {
     "languageId": "coffeescript"
    }
   },
   "outputs": [],
   "source": [
    "nums = [1, 2, 3]\n",
    "\n",
    "# Visualization of i and j movement\n",
    "# Initial state\n",
    "# [1, 2, 3]\n",
    "#  i  j\n",
    "\n",
    "# Step 1: i = 0, j = 1\n",
    "# [1, 2, 3]\n",
    "#  i     j\n",
    "\n",
    "# Step 2: i = 0, j = 2\n",
    "# [1, 2, 3]\n",
    "#  i        j\n",
    "\n",
    "# Step 3: i = 1, j = 2\n",
    "# [1, 2, 3]\n",
    "#     i     j"
   ]
  },
  {
   "cell_type": "code",
   "execution_count": null,
   "id": "9ff6df4f",
   "metadata": {},
   "outputs": [],
   "source": [
    "from typing import List\n",
    "\n",
    "class Solution:\n",
    "    def containsDuplicate(self, nums: List[int]) -> bool:\n",
    "        # Compare each element with every other element\n",
    "        for i in range(len(nums)):\n",
    "            for j in range(i + 1, len(nums)):\n",
    "                if nums[i] == nums[j]:  # Check for duplicates\n",
    "                    return True\n",
    "        return False"
   ]
  },
  {
   "cell_type": "markdown",
   "id": "beaeadf1",
   "metadata": {},
   "source": [
    "### Approach 2. Sort\n",
    "\n",
    "T: O(n log n), S: O(n)"
   ]
  },
  {
   "cell_type": "code",
   "execution_count": null,
   "id": "c7ecd3ae",
   "metadata": {},
   "outputs": [],
   "source": [
    "nums = [1, 2, 3]\n",
    "\n",
    "# Visualization of index and index + 1 movement\n",
    "# Initial state\n",
    "# [1, 2, 3]\n",
    "#  i  i+1\n",
    "\n",
    "# Step 1: index = 0, index + 1 = 1\n",
    "# [1, 2, 3]\n",
    "#  i     i+1\n",
    "\n",
    "# Step 2: index = 1, index + 1 = 2\n",
    "# [1, 2, 3]\n",
    "#     i     i+1"
   ]
  },
  {
   "cell_type": "code",
   "execution_count": null,
   "id": "ae265bf4",
   "metadata": {},
   "outputs": [],
   "source": [
    "from typing import List\n",
    "\n",
    "class Solution:\n",
    "    def containsDuplicate(self, nums: List[int]) -> bool:\n",
    "        nums.sort()  # Sort the array\n",
    "        for i in range(1, len(nums)):\n",
    "            if nums[i] == nums[i - 1]:  # Check for consecutive duplicates\n",
    "                return True\n",
    "        return False"
   ]
  },
  {
   "cell_type": "code",
   "execution_count": null,
   "id": "7694639c",
   "metadata": {
    "vscode": {
     "languageId": "markdown"
    }
   },
   "outputs": [],
   "source": [
    "#### Space Complexity Analysis\n",
    "\n",
    "The space complexity for this approach using `nums.sort()` is often considered `O(1)` because the sorting is done in place, meaning no additional data structures are explicitly created. However, Python's built-in `sort()` method uses *Timsort*, which has a worst-case space complexity of `O(n)` due to the temporary memory required for merging. Thus, while the algorithm modifies the list in place, the actual space complexity depends on the implementation of the sorting algorithm.\n"
   ]
  },
  {
   "cell_type": "markdown",
   "id": "415fba00",
   "metadata": {},
   "source": [
    "### Approach 3. Hashset\n",
    "\n",
    "T: O(n), S: O(n)"
   ]
  },
  {
   "cell_type": "code",
   "execution_count": null,
   "id": "83d22f13",
   "metadata": {
    "vscode": {
     "languageId": "markdown"
    }
   },
   "outputs": [],
   "source": [
    "```markdown\n",
    "#### Visualization of `seen` and comparing `num`\n",
    "\n",
    "Example: `nums = [1, 2, 3, 1]`\n",
    "\n",
    "- Initial state:\n",
    "    - `seen = {}`\n",
    "\n",
    "- Step 1: `num = 1`\n",
    "    - `1` is not in `seen`\n",
    "    - Add `1` to `seen`\n",
    "    - `seen = {1}`\n",
    "\n",
    "- Step 2: `num = 2`\n",
    "    - `2` is not in `seen`\n",
    "    - Add `2` to `seen`\n",
    "    - `seen = {1, 2}`\n",
    "\n",
    "- Step 3: `num = 3`\n",
    "    - `3` is not in `seen`\n",
    "    - Add `3` to `seen`\n",
    "    - `seen = {1, 2, 3}`\n",
    "\n",
    "- Step 4: `num = 1`\n",
    "    - `1` is already in `seen`\n",
    "    - Duplicate found, return `True`\n",
    "```"
   ]
  },
  {
   "cell_type": "code",
   "execution_count": null,
   "id": "b1bb50a5",
   "metadata": {},
   "outputs": [],
   "source": [
    "from typing import List\n",
    "\n",
    "class Solution:\n",
    "    def containsDuplicate(self, nums: List[int])-> bool:\n",
    "        seen = {}\n",
    "\n",
    "        for num in nums:\n",
    "            # look up: O(1)\n",
    "            if num in seen: return True\n",
    "            # no duplicate\n",
    "            seen.add(num)\n",
    "        return False"
   ]
  },
  {
   "cell_type": "markdown",
   "id": "0f779b26",
   "metadata": {},
   "source": [
    "### Approach 4. Hashset - 1 line\n",
    "\n",
    "T: O(n), S: O(n)"
   ]
  },
  {
   "cell_type": "code",
   "execution_count": null,
   "id": "ddc6987a",
   "metadata": {},
   "outputs": [],
   "source": [
    "# Example: nums = [1, 2, 3, 1]\n",
    "\n",
    "# Step 1: Convert nums to a set\n",
    "# set(nums) = {1, 2, 3}\n",
    "\n",
    "# Step 2: Compare lengths\n",
    "# len(nums) = 4\n",
    "# len(set(nums)) = 3\n",
    "\n",
    "# Since len(nums) != len(set(nums)), there is a duplicate in the list.\n",
    "# Return True"
   ]
  },
  {
   "cell_type": "code",
   "execution_count": null,
   "id": "ba6b32c1",
   "metadata": {},
   "outputs": [],
   "source": [
    "from typing import List\n",
    "class Solution:\n",
    "    def containsDuplicate(self, nums: List[int])-> bool:\n",
    "        return len(set(nums)) != len(nums)"
   ]
  },
  {
   "cell_type": "markdown",
   "id": "0e8c941e",
   "metadata": {},
   "source": [
    "## 242. Valid Anagram"
   ]
  },
  {
   "cell_type": "markdown",
   "id": "aab251c9",
   "metadata": {},
   "source": [
    "### Approach 1: Brute Force\n",
    "\n",
    "T: O(n^2), S: O(1)"
   ]
  },
  {
   "cell_type": "markdown",
   "id": "50271eb4",
   "metadata": {},
   "source": [
    "#### 2: Sort\n",
    "\n",
    "T: O(n log n), S: (n)"
   ]
  },
  {
   "cell_type": "code",
   "execution_count": null,
   "id": "1ece1fda",
   "metadata": {},
   "outputs": [],
   "source": [
    "# Example: s = \"anagram\", t = \"nagaram\"\n",
    "# Step 1: Sort both strings\n",
    "# sorted(s) = ['a', 'a', 'a', 'g', 'm', 'n', 'r']\n",
    "# sorted(t) = ['a', 'a', 'a', 'g', 'm', 'n', 'r']\n",
    "# Step 2: Compare sorted strings    \n",
    "# Since they are equal, return True"
   ]
  },
  {
   "cell_type": "code",
   "execution_count": null,
   "id": "a9ebcd4c",
   "metadata": {},
   "outputs": [],
   "source": [
    "class Solution:\n",
    "    def isAnagram(self, s: str, t: str) -> bool:\n",
    "        # Check if the lengths of the strings are equal\n",
    "        if len(s) != len(t):\n",
    "            return False\n",
    "\n",
    "        # Sort both strings and compare them\n",
    "        return sorted(s) == sorted(t)"
   ]
  },
  {
   "cell_type": "markdown",
   "id": "73cc9842",
   "metadata": {},
   "source": [
    "### 3. Hash\n",
    "\n",
    "O(2n), O(2*26)"
   ]
  },
  {
   "cell_type": "markdown",
   "id": "cce464d3",
   "metadata": {},
   "source": [
    "### 4. Unicode array 26 size\n",
    "\n",
    "unicode array (26) -> O(2n), O(2*26)"
   ]
  },
  {
   "cell_type": "code",
   "execution_count": null,
   "id": "13d87211",
   "metadata": {},
   "outputs": [],
   "source": [
    "'''\n",
    "count_freq = [0,0,0]\n",
    "cat \n",
    "[1,1,1]\n",
    "tac\n",
    "[-1,-1,-1]\n",
    "\n",
    "[0,0,0]\n",
    "'''"
   ]
  },
  {
   "cell_type": "code",
   "execution_count": null,
   "id": "c10cf937",
   "metadata": {},
   "outputs": [],
   "source": [
    "class Solution:\n",
    "    def isAnagram(self, s: str, t: str) -> bool:\n",
    "        if len(s) != len(t): return False\n",
    "\n",
    "        count_freq = [0] * 26\n",
    "        for i in range(len(s)):\n",
    "            count_freq[ord(s[i]) - ord('a')] += 1\n",
    "            count_freq[ord(t[i]) - ord('a')] -= 1\n",
    "        \n",
    "        for count in count_freq:\n",
    "            if count != 0: return False\n",
    "        return True"
   ]
  },
  {
   "cell_type": "code",
   "execution_count": null,
   "id": "da16a43f",
   "metadata": {},
   "outputs": [],
   "source": [
    "'''\n",
    "Dry Run:\n",
    "c  a  t\n",
    "t  a  c\n",
    "      i\n",
    "a  c  t\n",
    "0  0  0\n",
    "'''"
   ]
  },
  {
   "cell_type": "code",
   "execution_count": null,
   "id": "e718e790",
   "metadata": {
    "vscode": {
     "languageId": "markdown"
    }
   },
   "outputs": [],
   "source": [
    "### Why Unicode is Better Than Hash for Certain Tasks\n",
    "\n",
    "Imagine you have 26 boxes, one for each letter of the alphabet. Unicode lets you directly place each letter into its corresponding box (e.g., 'a' in box 1, 'b' in box 2). It's simple, fast, and there's no confusion.\n",
    "\n",
    "Hashing, on the other hand, is like using a secret code to decide which box to use. Sometimes, two letters might get the same code and end up in the same box, causing a collision. Fixing this takes extra work.\n",
    "\n",
    "So, Unicode is better when you know you're only dealing with letters because it's straightforward and avoids collisions. Hashing is more flexible but can be slower and more complex."
   ]
  }
 ],
 "metadata": {
  "kernelspec": {
   "display_name": "Python 3",
   "language": "python",
   "name": "python3"
  },
  "language_info": {
   "codemirror_mode": {
    "name": "ipython",
    "version": 3
   },
   "file_extension": ".py",
   "mimetype": "text/x-python",
   "name": "python",
   "nbconvert_exporter": "python",
   "pygments_lexer": "ipython3",
   "version": "3.10.5"
  }
 },
 "nbformat": 4,
 "nbformat_minor": 5
}
