{
 "cells": [
  {
   "cell_type": "markdown",
   "metadata": {},
   "source": [
    "24. [Swap Nodes in Pairs](https://leetcode.com/problems/swap-nodes-in-pairs/description/)\n",
    "\n",
    "Given a linked list, swap every two adjacent nodes and return its head. You must solve the problem without modifying the values in the list's nodes (i.e., only nodes themselves may be changed.)"
   ]
  },
  {
   "cell_type": "markdown",
   "metadata": {},
   "source": [
    "Use Case:\n",
    "\n",
    "![image](https://github.com/user-attachments/assets/6f2ad834-9d0f-41d4-a544-7ce2f7907564)"
   ]
  },
  {
   "cell_type": "markdown",
   "metadata": {},
   "source": [
    "Algorithm:\n",
    "- Pointers"
   ]
  },
  {
   "cell_type": "code",
   "execution_count": 1,
   "metadata": {},
   "outputs": [],
   "source": [
    "class ListNode:\n",
    "    def __init__(self, val=0, next=None):\n",
    "        self.val = val\n",
    "        self.next = next"
   ]
  },
  {
   "cell_type": "code",
   "execution_count": 2,
   "metadata": {},
   "outputs": [],
   "source": [
    "class Solution:\n",
    "    def swapPairNode(self, head):\n",
    "        dummy = ListNode(0, head)\n",
    "        pre, cur = dummy, head\n",
    "\n",
    "        while cur and cur.next:\n",
    "            # save pointers\n",
    "            nxtPair = cur.next.next\n",
    "            second = cur.next\n",
    "\n",
    "            # reverse pair       \n",
    "            second.next = cur\n",
    "            cur.next = nxtPair\n",
    "            pre.next = second\n",
    "\n",
    "            # update pointers\n",
    "            pre = cur\n",
    "            cur = nxtPair\n",
    "        \n",
    "        return dummy.next\n",
    "    \n",
    "    def arrayToList(self, array):\n",
    "        head = ListNode(0)\n",
    "        cur = head\n",
    "        for i in range(len(array)):\n",
    "            cur.next = ListNode(array[i])\n",
    "            cur = cur.next\n",
    "        return head.next"
   ]
  },
  {
   "cell_type": "code",
   "execution_count": 3,
   "metadata": {},
   "outputs": [],
   "source": [
    "nodes = [1,2,3,4]\n",
    "solution = Solution()\n",
    "node = solution.arrayToList(nodes)\n",
    "node_swapped = solution.swapPairNode(node)"
   ]
  },
  {
   "cell_type": "markdown",
   "metadata": {},
   "source": [
    "Time Complexity:\n",
    "- O(N) Node length\n",
    "\n",
    "Space Complexity:\n",
    "- O(1)"
   ]
  }
 ],
 "metadata": {
  "kernelspec": {
   "display_name": "Python 3",
   "language": "python",
   "name": "python3"
  },
  "language_info": {
   "codemirror_mode": {
    "name": "ipython",
    "version": 3
   },
   "file_extension": ".py",
   "mimetype": "text/x-python",
   "name": "python",
   "nbconvert_exporter": "python",
   "pygments_lexer": "ipython3",
   "version": "3.10.5"
  }
 },
 "nbformat": 4,
 "nbformat_minor": 2
}
