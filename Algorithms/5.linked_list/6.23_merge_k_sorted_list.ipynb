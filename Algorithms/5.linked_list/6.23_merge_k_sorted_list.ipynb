{
 "cells": [
  {
   "cell_type": "markdown",
   "metadata": {},
   "source": [
    "## 23. [Merge k Sorted Lists](https://leetcode.com/problems/merge-k-sorted-lists/description/)\n",
    "\n",
    "You are given an array of k linked-lists lists, each linked-list is sorted in ascending order.\n",
    "\n",
    "Merge all the linked-lists into one sorted linked-list and return it."
   ]
  },
  {
   "cell_type": "markdown",
   "metadata": {},
   "source": [
    "### Use Case\n",
    "<img src=\"https://github.com/user-attachments/assets/23df55a0-3b32-48e9-9da2-f85f82754934\" width=\"460\"><br>\n",
    "\n",
    "<img src=\"https://github.com/user-attachments/assets/2d2c3a2e-1d07-42b5-bbfd-3917cfedac69\" width=\"460\"><br>\n",
    "\n",
    "<img src=\"https://github.com/user-attachments/assets/b8c18fd7-9acc-4469-90ec-4bd359f5d0a9\" width=\"460\"><br>\n",
    "\n",
    "<img src=\"https://github.com/user-attachments/assets/7e21acfd-e337-4a91-8e6b-0da327654b2d\" width=\"460\"><br>"
   ]
  },
  {
   "cell_type": "code",
   "execution_count": 2,
   "metadata": {},
   "outputs": [],
   "source": [
    "class ListNode:\n",
    "    def __init__(self, val= 0, next = None):\n",
    "        self.val = val\n",
    "        self.next = next"
   ]
  },
  {
   "cell_type": "code",
   "execution_count": null,
   "metadata": {},
   "outputs": [],
   "source": [
    "class Solution:\n",
    "    def mergeKLists(self, lists):\n",
    "        def mergeTwoLists(l1, l2):\n",
    "            dummy = ListNode()\n",
    "            tail = dummy\n",
    "\n",
    "            while l1 and l2:\n",
    "                if l1.val < l2.val:\n",
    "                    tail.next = l1\n",
    "                    l1 = l1.next\n",
    "                else:\n",
    "                    tail.next = l2\n",
    "                    l2 = l2.next\n",
    "                tail = tail.next\n",
    "            \n",
    "            tail.next = l1 if not l2 else l2\n",
    "\n",
    "            return dummy.next\n",
    "        \n",
    "        # repeatedly, merge in pair  \n",
    "        while len(lists) > 1:\n",
    "            merged = []\n",
    "            for i in range(0, len(lists), 2):\n",
    "                # Each layer of merging: all lists merge pairwise, reduce the size of lists by half logn\n",
    "                l1 = lists[i]\n",
    "                l2 = lists[i + 1] if (i + 1) < len(lists) else None\n",
    "                merged.append(mergeTwoLists(l1, l2))\n",
    "            lists = merged\n",
    "        return lists[0]"
   ]
  },
  {
   "cell_type": "code",
   "execution_count": null,
   "metadata": {},
   "outputs": [],
   "source": [
    "lists = [[1, 5, 6],[3,4],[7,8]]\n",
    "Output = [1,3,4,5,6,7,8]"
   ]
  },
  {
   "cell_type": "markdown",
   "metadata": {},
   "source": [
    "Time Complexity:\n",
    "- O(Nlog(N))\n",
    "- Merging two lists takes \n",
    "O(n), where \n",
    "n is the total number of nodes in both lists.\n",
    "\n",
    "- At each level of merging, all \n",
    "k lists are merged pairwise, reducing the number of lists by half at each level.\n",
    "\n",
    "- Total complexity: \n",
    "O(Nlogk), where \n",
    "N is the total number of nodes across all lists, and \n",
    "k is the number of lists.\n",
    "\n",
    "Space Complexity:\n",
    "- O(1)\n",
    "\n",
    "- merge_list itself does not contribute significantly to the space complexity, as it only holds references to the merged heads of the lists.\n",
    "\n",
    "- Space complexity is dominated by the input linked lists and is \n",
    "O(1)\n",
    "\n",
    "- The array merge_list is used as a temporary holder for merged lists at each level. It doesn’t add extra complexity but is essential for maintaining correct functionality."
   ]
  }
 ],
 "metadata": {
  "kernelspec": {
   "display_name": "Python 3",
   "language": "python",
   "name": "python3"
  },
  "language_info": {
   "codemirror_mode": {
    "name": "ipython",
    "version": 3
   },
   "file_extension": ".py",
   "mimetype": "text/x-python",
   "name": "python",
   "nbconvert_exporter": "python",
   "pygments_lexer": "ipython3",
   "version": "3.10.5"
  }
 },
 "nbformat": 4,
 "nbformat_minor": 2
}
