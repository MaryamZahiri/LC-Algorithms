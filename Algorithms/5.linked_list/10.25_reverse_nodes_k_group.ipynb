{
 "cells": [
  {
   "cell_type": "markdown",
   "metadata": {},
   "source": [
    "25. [Reverse Nodes in k-Group](https://leetcode.com/problems/reverse-nodes-in-k-group/)\n",
    "\n",
    "Given the head of a linked list, reverse the nodes of the list k at a time, and return the modified list.\n",
    "\n",
    "k is a positive integer and is less than or equal to the length of the linked list. If the number of nodes is not a multiple of k then left-out nodes, in the end, should remain as it is.\n",
    "\n",
    "You may not alter the values in the list's nodes, only nodes themselves may be changed."
   ]
  },
  {
   "cell_type": "markdown",
   "metadata": {},
   "source": [
    "Use Case:\n",
    "\n",
    "![image](https://github.com/user-attachments/assets/7138dd09-394c-4a46-a5ba-c53ff518377e)"
   ]
  },
  {
   "cell_type": "code",
   "execution_count": null,
   "metadata": {},
   "outputs": [],
   "source": [
    "# Definition for singly-linked list.\n",
    "class ListNode:\n",
    "    def __init__(self, val=0, next=None):\n",
    "        self.val = val\n",
    "        self.next = next\n",
    "class Solution:\n",
    "    def reverseKGroup(self, head, k: int):\n",
    "        def getKth(cur, k):\n",
    "            while cur and k>0:\n",
    "                cur = cur.next\n",
    "                k -= 1\n",
    "            return cur\n",
    "\n",
    "        def reverseNodes(head, groupNext):\n",
    "            pre, cur = None, head\n",
    "            while cur != groupNext:\n",
    "                nxt = cur.next\n",
    "                cur.next = pre \n",
    "                pre = cur\n",
    "                cur = nxt\n",
    "            return pre\n",
    "\n",
    "        dummy = ListNode(0, head)\n",
    "        groupPre = dummy\n",
    "\n",
    "        while True:\n",
    "            kth = getKth(groupPre,k)\n",
    "            if not kth:\n",
    "                break\n",
    "            groupNext = kth.next\n",
    "            \n",
    "            reversed_head = reverseNodes(groupPre.next, groupNext)\n",
    "\n",
    "            tmp = groupPre.next\n",
    "            groupPre.next = kth\n",
    "            groupPre = tmp\n",
    "\n",
    "            # connection between 2 groups\n",
    "            groupPre.next = groupNext if groupNext else None\n",
    "        return dummy.next"
   ]
  },
  {
   "cell_type": "markdown",
   "metadata": {},
   "source": [
    "Time Complexity: \n",
    "\n",
    "- O(n), where \n",
    "n is the number of nodes.\n",
    "\n",
    "- Each node is visited once for group identification and once for reversal.\n",
    "\n",
    "Space Complexity:\n",
    "\n",
    "- O(1), as no additional data structures are used apart from pointers."
   ]
  }
 ],
 "metadata": {
  "language_info": {
   "name": "python"
  }
 },
 "nbformat": 4,
 "nbformat_minor": 2
}
