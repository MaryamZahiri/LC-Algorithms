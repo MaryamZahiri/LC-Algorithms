{
 "cells": [
  {
   "cell_type": "markdown",
   "metadata": {},
   "source": [
    "[322. Coin Change](https://leetcode.com/problems/coin-change/description/)\n",
    "\n",
    "You are given an integer array coins representing coins of different denominations and an integer amount representing a total amount of money.\n",
    "\n",
    "Return the fewest number of coins that you need to make up that amount. If that amount of money cannot be made up by any combination of the coins, return -1.\n",
    "\n",
    "You may assume that you have an infinite number of each kind of coin."
   ]
  },
  {
   "cell_type": "markdown",
   "metadata": {},
   "source": [
    "Algorithm:\n",
    "- Bottom Up, tabulation (array)\n",
    "\n",
    "- Objective Function: Minimum number of coins to make up that amount\n",
    "\n",
    "- Transition Function: Min (1 + F(amount - coin(1)), (1 + F(amount - coin(2))), ...) "
   ]
  },
  {
   "cell_type": "markdown",
   "metadata": {},
   "source": [
    "Use case:\n",
    "\n",
    "![image](https://github.com/user-attachments/assets/70b25e31-abd4-4f51-905a-0dde39913534)\n",
    "\n",
    "![image](https://github.com/user-attachments/assets/072757f2-0d80-4748-bdd3-50163ab614b9)"
   ]
  },
  {
   "cell_type": "code",
   "execution_count": 1,
   "metadata": {},
   "outputs": [],
   "source": [
    "class Solution:\n",
    "    def coinChange(self, coins, amount: int) -> int:\n",
    "        dp = (amount + 1) * [amount + 1]\n",
    "        dp[0] = 0\n",
    "\n",
    "        for i in range(1, amount+1):\n",
    "            for coin in coins:\n",
    "                if i - coin >= 0:\n",
    "                    dp[i] = min(dp[i], 1 + dp[i-coin])\n",
    "        return dp[amount] if dp[amount] != amount + 1 else -1"
   ]
  },
  {
   "cell_type": "code",
   "execution_count": 2,
   "metadata": {},
   "outputs": [
    {
     "data": {
      "text/plain": [
       "4"
      ]
     },
     "execution_count": 2,
     "metadata": {},
     "output_type": "execute_result"
    }
   ],
   "source": [
    "coins = [1,2,3]\n",
    "amount = 11\n",
    "sol = Solution()\n",
    "sol.coinChange(coins, amount)"
   ]
  },
  {
   "cell_type": "markdown",
   "metadata": {},
   "source": [
    "Time Complexity:\n",
    "- O(s*n)\n",
    "\n",
    "Space Complexity:\n",
    "- O(s)"
   ]
  },
  {
   "cell_type": "markdown",
   "metadata": {},
   "source": [
    "Algorithm:\n",
    "- Top Down, recursion + memoization"
   ]
  },
  {
   "cell_type": "markdown",
   "metadata": {},
   "source": [
    "Use Case:\n",
    "\n",
    "![image](https://github.com/user-attachments/assets/9d334cb5-d579-458f-ad32-aa656d33b84d)"
   ]
  },
  {
   "cell_type": "code",
   "execution_count": 1,
   "metadata": {},
   "outputs": [],
   "source": [
    "class Solution:\n",
    "    def coinChange(self, coins, amount: int) -> int:\n",
    "        def dfs(remain):\n",
    "            if remain < 0: return -1\n",
    "            if remain == 0: return 0\n",
    "\n",
    "            min_counter = amount + 1\n",
    "            for coin in coins:\n",
    "                if dfs(remain - coin) != -1:\n",
    "                    min_counter = min(min_counter, 1 + dfs(remain - coin))\n",
    "            \n",
    "            return min_counter if min_counter != amount + 1 else -1\n",
    "\n",
    "        return dfs(amount)"
   ]
  },
  {
   "cell_type": "code",
   "execution_count": 2,
   "metadata": {},
   "outputs": [
    {
     "data": {
      "text/plain": [
       "2"
      ]
     },
     "execution_count": 2,
     "metadata": {},
     "output_type": "execute_result"
    }
   ],
   "source": [
    "coins = [1,2,3]\n",
    "amount = 6\n",
    "sol = Solution()\n",
    "sol.coinChange(coins, amount)"
   ]
  },
  {
   "cell_type": "markdown",
   "metadata": {},
   "source": [
    "Time Complexity:\n",
    "- O(s*n)\n",
    "\n",
    "Space Complexity:\n",
    "- O(s)"
   ]
  }
 ],
 "metadata": {
  "kernelspec": {
   "display_name": "Python 3",
   "language": "python",
   "name": "python3"
  },
  "language_info": {
   "codemirror_mode": {
    "name": "ipython",
    "version": 3
   },
   "file_extension": ".py",
   "mimetype": "text/x-python",
   "name": "python",
   "nbconvert_exporter": "python",
   "pygments_lexer": "ipython3",
   "version": "3.10.5"
  }
 },
 "nbformat": 4,
 "nbformat_minor": 2
}
