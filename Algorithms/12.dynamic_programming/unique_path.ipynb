{
 "cells": [
  {
   "cell_type": "markdown",
   "metadata": {},
   "source": [
    "62. [Unique Paths](https://leetcode.com/problems/unique-paths/description/)\n",
    "\n",
    "There is a robot on an m x n grid. The robot is initially located at the top-left corner (i.e., grid[0][0]). The robot tries to move to the bottom-right corner (i.e., grid[m - 1][n - 1]). The robot can only move either down or right at any point in time.\n",
    "\n",
    "Given the two integers m and n, return the number of possible unique paths that the robot can take to reach the bottom-right corner.\n",
    "\n",
    "The test cases are generated so that the answer will be less than or equal to 2 * 109."
   ]
  },
  {
   "cell_type": "markdown",
   "metadata": {},
   "source": [
    "- Objective Function: number of possible unique paths that the robot can take to reach the bottom-right corner\n",
    "\n",
    "- Transition Function: f[i][j-1] + f[i][j-1]"
   ]
  },
  {
   "cell_type": "markdown",
   "metadata": {},
   "source": [
    "Use case:\n",
    " \n",
    "![image](https://github.com/user-attachments/assets/5e15ef55-d3d5-432d-b1da-df678a3b76ed)\n",
    "\n",
    "![image](https://github.com/user-attachments/assets/949d01a6-eb48-4293-8d5f-43398f3a2057)"
   ]
  },
  {
   "cell_type": "code",
   "execution_count": 10,
   "metadata": {},
   "outputs": [],
   "source": [
    "class Solution:\n",
    "    def uniquePaths(self, n, m):\n",
    "        # Only 1 path when it is row 1 or col 1\n",
    "        if n == 0 or m == 0: return 1\n",
    "        if n == 1 or m == 1: return 1\n",
    "\n",
    "        return self.uniquePaths(n, m-1) + self.uniquePaths(n-1, m)"
   ]
  },
  {
   "cell_type": "code",
   "execution_count": 9,
   "metadata": {},
   "outputs": [
    {
     "data": {
      "text/plain": [
       "10"
      ]
     },
     "execution_count": 11,
     "metadata": {},
     "output_type": "execute_result"
    }
   ],
   "source": [
    "sol = Solution()\n",
    "sol.uniquePaths(3,4)"
   ]
  },
  {
   "cell_type": "markdown",
   "metadata": {},
   "source": [
    "This solution is not fast enough to pass all the testcases, though it could be used as a starting point for the DP solution."
   ]
  },
  {
   "cell_type": "code",
   "execution_count": 1,
   "metadata": {},
   "outputs": [],
   "source": [
    "class Solution:\n",
    "    def uniquePaths(self, m: int, n: int) -> int:\n",
    "        row = m\n",
    "        col = n\n",
    "        dp = [[1] * col for _ in range(row)]\n",
    "\n",
    "        # base case\n",
    "        dp[0][0] = 1\n",
    "        for i in range(row):\n",
    "            for j in range(col):\n",
    "                # in bound cells\n",
    "                if i > 0 and j > 0:\n",
    "                    dp[i][j] = dp[i][j-1] + dp[i - 1][j]\n",
    "                # out of bounds\n",
    "                # j = 0\n",
    "                elif i > 0:\n",
    "                    dp[i][j] = dp[i - 1][j]\n",
    "                # i = 0\n",
    "                elif j > 0:\n",
    "                    dp[i][j] = dp[i][j - 1]\n",
    "        return dp[row - 1][col - 1]"
   ]
  },
  {
   "cell_type": "code",
   "execution_count": 2,
   "metadata": {},
   "outputs": [
    {
     "data": {
      "text/plain": [
       "10"
      ]
     },
     "execution_count": 2,
     "metadata": {},
     "output_type": "execute_result"
    }
   ],
   "source": [
    "n = 3\n",
    "m = 4 \n",
    "sol = Solution()\n",
    "sol.uniquePaths(n, m)"
   ]
  },
  {
   "cell_type": "markdown",
   "metadata": {},
   "source": [
    "Time complexity: O(N×M).\n",
    "\n",
    "Space complexity: O(N×M)."
   ]
  }
 ],
 "metadata": {
  "kernelspec": {
   "display_name": "Python 3",
   "language": "python",
   "name": "python3"
  },
  "language_info": {
   "codemirror_mode": {
    "name": "ipython",
    "version": 3
   },
   "file_extension": ".py",
   "mimetype": "text/x-python",
   "name": "python",
   "nbconvert_exporter": "python",
   "pygments_lexer": "ipython3",
   "version": "3.10.5"
  }
 },
 "nbformat": 4,
 "nbformat_minor": 2
}
