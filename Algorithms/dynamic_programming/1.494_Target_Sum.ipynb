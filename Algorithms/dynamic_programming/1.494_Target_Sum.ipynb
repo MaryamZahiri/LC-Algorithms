{
 "cells": [
  {
   "cell_type": "markdown",
   "metadata": {},
   "source": [
    "494. [Target Sum](https://leetcode.com/problems/target-sum/description/)\n",
    "\n",
    "You are given an integer array nums and an integer target.\n",
    "\n",
    "You want to build an expression out of nums by adding one of the symbols '+' and '-' before each integer in nums and then concatenate all the integers.\n",
    "\n",
    "For example, if nums = [2, 1], you can add a '+' before 2 and a '-' before 1 and concatenate them to build the expression \"+2-1\".\n",
    "\n",
    "Return the number of different expressions that you can build, which evaluates to target."
   ]
  },
  {
   "cell_type": "markdown",
   "metadata": {},
   "source": [
    "Algortithm:\n",
    "- recursion (backtracking) without memoization"
   ]
  },
  {
   "cell_type": "code",
   "execution_count": 1,
   "metadata": {},
   "outputs": [],
   "source": [
    "class Solution:\n",
    "    def findTargetSumWays(self, nums, target: int) -> int:\n",
    "        def backtrack(i, total):\n",
    "            # base case returns 1 possible way if their total meets. otherwise, there is no way\n",
    "            if i == len(nums):\n",
    "                return 1 if total == target else 0\n",
    "            \n",
    "            # 2 decision for decision tree: add or subtrack 1\n",
    "            return backtrack(i + 1, total + nums[i]) + backtrack(i + 1, total - nums[i])\n",
    "        return backtrack(0, 0)"
   ]
  },
  {
   "cell_type": "code",
   "execution_count": 2,
   "metadata": {},
   "outputs": [
    {
     "data": {
      "text/plain": [
       "5"
      ]
     },
     "execution_count": 2,
     "metadata": {},
     "output_type": "execute_result"
    }
   ],
   "source": [
    "nums = [1,1,1,1,1]\n",
    "target = 3\n",
    "sol = Solution()\n",
    "sol.findTargetSumWays(nums, target)"
   ]
  },
  {
   "cell_type": "markdown",
   "metadata": {},
   "source": [
    "Time Complexity:\n",
    "- O(2^n)\n",
    "- 2 decision ^ height of tree\n",
    "\n",
    "Space Complexity:\n",
    "- O(n)\n",
    "- stack calls"
   ]
  },
  {
   "cell_type": "markdown",
   "metadata": {},
   "source": [
    "Algorithm:\n",
    "- recursion with memoization (DP)"
   ]
  },
  {
   "cell_type": "code",
   "execution_count": 3,
   "metadata": {},
   "outputs": [],
   "source": [
    "class Solution:\n",
    "    def findTargetSumWays(self, nums, target: int) -> int:\n",
    "        dp = {} # (index, total): #ways\n",
    "        def backtrack(i, total):\n",
    "            # base case returns 1 possible way if their total meets. otherwise, there is no way\n",
    "            if i == len(nums):\n",
    "                return 1 if total == target else 0\n",
    "                \n",
    "            # 2 decision for decision tree: add or subtrack 1\n",
    "            if (i, total) not in dp:\n",
    "                dp[(i,total)] = backtrack(i + 1, total + nums[i]) + backtrack(i + 1, total - nums[i])\n",
    "            \n",
    "            return dp[(i,total)]\n",
    "        return backtrack(0, 0)"
   ]
  },
  {
   "cell_type": "code",
   "execution_count": 4,
   "metadata": {},
   "outputs": [
    {
     "data": {
      "text/plain": [
       "5"
      ]
     },
     "execution_count": 4,
     "metadata": {},
     "output_type": "execute_result"
    }
   ],
   "source": [
    "nums = [1,1,1,1,1]\n",
    "target = 3\n",
    "sol = Solution()\n",
    "sol.findTargetSumWays(nums, target)"
   ]
  },
  {
   "cell_type": "markdown",
   "metadata": {},
   "source": [
    "Time Complexity:\n",
    "- O(n*t)\n",
    "\n",
    "Space Complexity:\n",
    "- O(n)"
   ]
  }
 ],
 "metadata": {
  "kernelspec": {
   "display_name": "Python 3",
   "language": "python",
   "name": "python3"
  },
  "language_info": {
   "codemirror_mode": {
    "name": "ipython",
    "version": 3
   },
   "file_extension": ".py",
   "mimetype": "text/x-python",
   "name": "python",
   "nbconvert_exporter": "python",
   "pygments_lexer": "ipython3",
   "version": "3.10.5"
  }
 },
 "nbformat": 4,
 "nbformat_minor": 2
}
