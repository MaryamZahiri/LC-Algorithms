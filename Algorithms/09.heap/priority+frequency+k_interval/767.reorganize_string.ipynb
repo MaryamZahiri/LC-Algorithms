{
 "cells": [
  {
   "cell_type": "code",
   "execution_count": null,
   "metadata": {},
   "outputs": [],
   "source": [
    "from collections import Counter\n",
    "from heapq import heappush, heappop\n",
    "class Solution:\n",
    "    '''\n",
    "    count frequency + heap (priotity queue)\n",
    "\n",
    "    Time: nlogk = n\n",
    "    - n: s length\n",
    "    - k: unique character\n",
    "    - logk: 26 character\n",
    "\n",
    "    Space: n + k\n",
    "    '''\n",
    "    def reorganizeString(self, s: str) -> str:\n",
    "        # 4a 3b -> \n",
    "        # i != i+1\n",
    "        # counter -1\n",
    "        # distance k - skip only 1 time\n",
    "                    # in next loop, push it \n",
    "        \n",
    "        # count frequency\n",
    "        count_frequency = Counter(s)\n",
    "\n",
    "        # construct a max heap\n",
    "        max_heap = []\n",
    "        for char, count in count_frequency.items(): \n",
    "            heappush(max_heap, (-count, char))\n",
    "\n",
    "        # reorgonize based on priority and skip 1 loop for same character by removing and adding in next loop\n",
    "        result = []\n",
    "        pre_freq, pre_char = 0,\"\"\n",
    "        while max_heap:\n",
    "            # give me the most frequent char\n",
    "            freq, char = heappop(max_heap)\n",
    "            result.append(char)\n",
    "\n",
    "            # add previous char with freq < 0 - this line is one loop behind -> never add same character to result\n",
    "            if pre_freq < 0:\n",
    "                heappush(max_heap, (pre_freq, pre_char))\n",
    "\n",
    "            pre_freq, pre_char = freq + 1, char\n",
    "\n",
    "        return \"\".join(result) if len(s) == len(result) else \"\""
   ]
  }
 ],
 "metadata": {
  "language_info": {
   "name": "python"
  }
 },
 "nbformat": 4,
 "nbformat_minor": 2
}
