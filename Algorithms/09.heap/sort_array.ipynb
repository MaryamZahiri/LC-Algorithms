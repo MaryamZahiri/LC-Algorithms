{
 "cells": [
  {
   "cell_type": "markdown",
   "metadata": {},
   "source": [
    "[Heap Sort](https://leetcode.com/problems/sort-an-array/submissions/1445146356/)"
   ]
  },
  {
   "cell_type": "markdown",
   "metadata": {},
   "source": [
    "Use case :\n",
    "\n",
    "![image](https://github.com/user-attachments/assets/9c459551-a66b-4e01-9bf5-1be8a007d7ad)\n",
    "\n",
    "![image](https://github.com/user-attachments/assets/cc693c2b-2b0e-4048-ad9a-742acbea69b0)"
   ]
  },
  {
   "cell_type": "code",
   "execution_count": null,
   "metadata": {},
   "outputs": [],
   "source": [
    "class Solution:\n",
    "    def sortArray(self, nums):\n",
    "        # Size of heap\n",
    "        n = len(nums)\n",
    "\n",
    "        # Heapify\n",
    "        def heapify():\n",
    "            # non-leaf node\n",
    "            non_leaf = n // 2 - 1\n",
    "            # Start from non leaf and go upward\n",
    "            # Including index 0 which is root and exclude -1 from right to left\n",
    "            for i in range(non_leaf, -1, -1):\n",
    "                siftDown(nums, n, i)\n",
    "\n",
    "        # Sift Down\n",
    "        def siftDown(heap, size, i):\n",
    "            # largest index\n",
    "            largest = i\n",
    "            left = i * 2 + 1\n",
    "            right = i * 2 + 2\n",
    "\n",
    "            # Check if left is largest and update largest index\n",
    "            if left < size and heap[left] > heap[largest]:\n",
    "                largest = left\n",
    "\n",
    "            # check if right is largest and update largest\n",
    "            if right < size and heap[right] > heap[largest]:\n",
    "                largest = right\n",
    "\n",
    "            # check if there is any update in largest and any child is bigger than parent\n",
    "            if i != largest:\n",
    "                # swap\n",
    "                heap[i], heap[largest] = heap[largest], heap[i]\n",
    "                # heapify the heap\n",
    "                siftDown(heap, size, largest)\n",
    "\n",
    "        # Sort\n",
    "        def sortHeap():\n",
    "            # heapify\n",
    "            heapify()\n",
    "\n",
    "            # Extract element from heap one by one\n",
    "            # Exclude index 0 as it starts from n - 1 to 1\n",
    "            for track_i in range(n - 1, 0, -1):\n",
    "                # swap largest number in heap with last element of heap\n",
    "                nums[0], nums[track_i] = nums[track_i], nums[0]\n",
    "\n",
    "                # maintain heapify from root to n - 1 node and n -2 and so on \n",
    "                # Exclude n - 1 as it is already the largest one. In sift down, \n",
    "                siftDown(nums, track_i, 0)\n",
    "            \n",
    "            return nums\n",
    "\n",
    "        return sortHeap()"
   ]
  },
  {
   "cell_type": "markdown",
   "metadata": {},
   "source": [
    "Time Complexity: \n",
    "\n",
    "Time Complexity: Building the max-heap is \n",
    "O(n), and each extraction is \n",
    "O(logn). Since we perform \n",
    "n extractions, the total time complexity is \n",
    "O(nlogn).\n",
    "\n",
    "Space Complexity: Heap sort is an in-place sorting algorithm, so it has \n",
    "O(1) space complexity if implemented on arrays."
   ]
  }
 ],
 "metadata": {
  "language_info": {
   "name": "python"
  }
 },
 "nbformat": 4,
 "nbformat_minor": 2
}
