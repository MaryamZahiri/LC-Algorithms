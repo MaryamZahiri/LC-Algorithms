{
 "cells": [
  {
   "cell_type": "code",
   "execution_count": null,
   "metadata": {},
   "outputs": [],
   "source": [
    "class TextEditor:\n",
    "    def __init__(self):\n",
    "        self.text = \"\"               # Current text content\n",
    "        self.history = []             # Stack to track history of changes\n",
    "    \n",
    "    def write(self, new_text):\n",
    "        # Save current state before making a change\n",
    "        self.history.append(self.text)\n",
    "        # Update the text with the new content\n",
    "        self.text += new_text\n",
    "    \n",
    "    def undo(self):\n",
    "        # Revert to the last state if history is not empty\n",
    "        if self.history:\n",
    "            self.text = self.history.pop()\n",
    "        else:\n",
    "            print(\"No more actions to undo.\")\n",
    "    \n",
    "    def show_text(self):\n",
    "        print(\"Current Text:\", self.text)\n",
    "\n",
    "# Usage example\n",
    "editor = TextEditor()\n",
    "editor.write(\"Hello\")\n",
    "editor.show_text()     # Output: \"Hello\"\n",
    "\n",
    "editor.write(\" World\")\n",
    "editor.show_text()     # Output: \"Hello World\"\n",
    "\n",
    "# Undo the last change\n",
    "editor.undo()\n",
    "editor.show_text()     # Output: \"Hello\"\n",
    "\n",
    "# Undo another change\n",
    "editor.undo()\n",
    "editor.show_text()     # Output: \"\""
   ]
  }
 ],
 "metadata": {
  "language_info": {
   "name": "python"
  }
 },
 "nbformat": 4,
 "nbformat_minor": 2
}
