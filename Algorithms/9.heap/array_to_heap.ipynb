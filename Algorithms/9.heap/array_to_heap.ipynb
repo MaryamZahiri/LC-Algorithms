{
 "cells": [
  {
   "cell_type": "markdown",
   "metadata": {},
   "source": [
    "Turn Array to heap:"
   ]
  },
  {
   "cell_type": "markdown",
   "metadata": {},
   "source": [
    "Sift Down: Compare Parent with children and swap the largest with parent if one child (left , or right) is bigger \n",
    "\n",
    "Bottom Up Approach: Start from non-leaf node from bottom and go upward to root"
   ]
  },
  {
   "cell_type": "markdown",
   "metadata": {},
   "source": [
    "Use Case:\n",
    "\n",
    "![image](https://github.com/user-attachments/assets/16fc4b02-7cbf-461e-a367-67dc5720f2ad)\n",
    "\n",
    "![image](https://github.com/user-attachments/assets/d98379ba-e390-4173-8570-6a195ffbbf1b)\n",
    "\n",
    "![image](https://github.com/user-attachments/assets/de09037c-a397-4a21-b388-0660fd77e97f)\n",
    "\n",
    "![image](https://github.com/user-attachments/assets/64d0b8dc-5c7e-4681-9ff8-9ce5ae4702b5)\n",
    "\n",
    "![image](https://github.com/user-attachments/assets/f43df993-5903-4882-8517-bda1cfe0c5da)"
   ]
  },
  {
   "cell_type": "code",
   "execution_count": null,
   "metadata": {},
   "outputs": [],
   "source": [
    "class Solution:\n",
    "    def __init__(self):\n",
    "        self.heap = []\n",
    "\n",
    "    def heapify(self, array):\n",
    "        # Convert array to heap\n",
    "        self.heap = array\n",
    "\n",
    "        # array size\n",
    "        n = len(self.heap)\n",
    "\n",
    "        # Find non leaf node\n",
    "        non_leaf = n//2 - 1\n",
    "\n",
    "        # bottom up approach. Start from non-leaf node and go upwards\n",
    "        for i in range(non_leaf, -1, -1):\n",
    "            self.siftDown(i, n)\n",
    "\n",
    "    def siftDown(self, idx, n):\n",
    "        largest = idx\n",
    "        # left child index\n",
    "        left = 2 * idx + 1\n",
    "        # right child index\n",
    "        right = 2 * idx + 2 \n",
    "\n",
    "        # Check if the largest is in left child. If so, update the largest index to left\n",
    "        if left < n and self.heap[left] > self.heap[largest]:\n",
    "            largest = left\n",
    "\n",
    "        # Check if the largest is the right child. If so, update the largest idx \n",
    "        if right < n and self.heap[right] > self.heap[largest]:\n",
    "            largest = right\n",
    "\n",
    "        # if latgest is different from parrent, swap the largest with parent indx. Then, recall sift down for the updated parent. It continue till it gets to root\n",
    "        if largest != idx:\n",
    "            # swap\n",
    "            self.heap[idx], self.heap[largest] = self.heap[largest], self.heap[idx]\n",
    "            # Recall sift down for new largest index\n",
    "            self.siftDown(largest, n)\n",
    "\n",
    "    def getHeap(self):\n",
    "        return self.heap"
   ]
  },
  {
   "cell_type": "code",
   "execution_count": 6,
   "metadata": {},
   "outputs": [
    {
     "data": {
      "text/plain": [
       "[9, 4, 7, 1, 3, 5, 2]"
      ]
     },
     "execution_count": 6,
     "metadata": {},
     "output_type": "execute_result"
    }
   ],
   "source": [
    "array_heap = [3, 9, 2, 1, 4, 5, 7]\n",
    "solution = Solution()\n",
    "solution.heapify(array_heap)\n",
    "solution.getHeap()"
   ]
  }
 ],
 "metadata": {
  "kernelspec": {
   "display_name": "Python 3",
   "language": "python",
   "name": "python3"
  },
  "language_info": {
   "codemirror_mode": {
    "name": "ipython",
    "version": 3
   },
   "file_extension": ".py",
   "mimetype": "text/x-python",
   "name": "python",
   "nbconvert_exporter": "python",
   "pygments_lexer": "ipython3",
   "version": "3.10.5"
  }
 },
 "nbformat": 4,
 "nbformat_minor": 2
}
