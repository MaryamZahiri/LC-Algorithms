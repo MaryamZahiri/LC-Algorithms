{
 "cells": [
  {
   "cell_type": "markdown",
   "metadata": {},
   "source": [
    "Find smallest -> max heap"
   ]
  },
  {
   "cell_type": "code",
   "execution_count": null,
   "metadata": {},
   "outputs": [],
   "source": [
    "from typing import List \n",
    "from heapq import heappush, heappop\n",
    "from math import sqrt\n",
    "\n",
    "class Solution:\n",
    "    def kClosest(self, points: List[List[int]], k: int) -> List[List[int]]:\n",
    "        # distance sqrt(x**2 + y**2) -> smallest\n",
    "\n",
    "        max_heap = []\n",
    "        for x, y in points:\n",
    "            distance = sqrt(x**2 + y**2)\n",
    "            heappush(max_heap, (-distance, [x, y]))\n",
    "\n",
    "            # remove until k \n",
    "            if len(max_heap) > k:\n",
    "                heappop(max_heap)\n",
    "\n",
    "        return [coordinate for _, coordinate in max_heap]"
   ]
  },
  {
   "cell_type": "markdown",
   "metadata": {},
   "source": [
    "Here N refers to the length of the given array points.\n",
    "\n",
    "Time complexity: O(N⋅logk)\n",
    "\n",
    "Adding to/removing from the heap (or priority queue) only takes O(logk) time when the size of the heap is capped at k elements.\n",
    "\n",
    "Space complexity: O(k)\n",
    "\n",
    "The heap (or priority queue) will contain at most k elements."
   ]
  }
 ],
 "metadata": {
  "language_info": {
   "name": "python"
  }
 },
 "nbformat": 4,
 "nbformat_minor": 2
}
