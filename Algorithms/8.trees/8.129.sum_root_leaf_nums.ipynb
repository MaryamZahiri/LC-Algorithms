{
 "cells": [
  {
   "cell_type": "markdown",
   "metadata": {},
   "source": [
    "129. Sum Root to Leaf Numbers\n",
    "\n",
    "You are given the root of a binary tree containing digits from 0 to 9 only.\n",
    "\n",
    "Each root-to-leaf path in the tree represents a number.\n",
    "- For example, the root-to-leaf path 1 -> 2 -> 3 represents the number 123.\n",
    "\n",
    "Return the total sum of all root-to-leaf numbers. Test cases are generated so that the answer will fit in a 32-bit integer.\n",
    "\n",
    "A leaf node is a node with no children."
   ]
  },
  {
   "cell_type": "code",
   "execution_count": null,
   "metadata": {},
   "outputs": [],
   "source": [
    "class TreeNode:\n",
    "    def __init__(self, val= 0, left = None, right = None):\n",
    "        self.val = val\n",
    "        self.right = right\n",
    "        self.left = left"
   ]
  },
  {
   "cell_type": "code",
   "execution_count": null,
   "metadata": {},
   "outputs": [],
   "source": [
    "class Solution:\n",
    "    def sumNumbers(self, root: TreeNode):\n",
    "        def dfs(cur, path_sum):\n",
    "            if not cur: return 0\n",
    "\n",
    "            path_sum = path_sum * 10 + cur.val\n",
    "\n",
    "            # leaf\n",
    "            if not cur.left and not cur.right: return path_sum\n",
    "\n",
    "            left = dfs(cur.left, path_sum)\n",
    "            right = dfs(cur.right, path_sum)\n",
    "\n",
    "            return left + right\n",
    "        \n",
    "        return dfs(root, 0)"
   ]
  },
  {
   "cell_type": "markdown",
   "metadata": {},
   "source": [
    "Time Complexity: O(N)\n",
    "\n",
    "Space Complexity: O(log n)\n",
    "- height of tree"
   ]
  }
 ],
 "metadata": {
  "language_info": {
   "name": "python"
  }
 },
 "nbformat": 4,
 "nbformat_minor": 2
}
