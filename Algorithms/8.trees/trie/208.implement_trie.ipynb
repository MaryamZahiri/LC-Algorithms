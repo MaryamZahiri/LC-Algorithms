{
 "cells": [
  {
   "cell_type": "markdown",
   "metadata": {},
   "source": [
    "Trie (Prefix tree) -> shared prefixes characters"
   ]
  },
  {
   "cell_type": "code",
   "execution_count": null,
   "metadata": {},
   "outputs": [],
   "source": [
    "class TrieNode:\n",
    "    def __init__(self):\n",
    "        self.children = {}\n",
    "        self.end_of_word = False\n",
    "        \n",
    "class Trie:\n",
    "\n",
    "    def __init__(self):\n",
    "        self.root = TrieNode()\n",
    "\n",
    "    def insert(self, word: str) -> None:\n",
    "        node = self.root\n",
    "        # Traverse trie\n",
    "        for char in word:\n",
    "            if char not in node.children:\n",
    "                node.children[char] = TrieNode()\n",
    "            # move to child node\n",
    "            node = node.children[char]\n",
    "        # Mark as end of word\n",
    "        node.end_of_word = True\n",
    "\n",
    "    def search(self, word: str) -> bool:\n",
    "        node = self.root\n",
    "        \n",
    "        # traverse trie to search\n",
    "        for char in word:\n",
    "            if char not in node.children:\n",
    "                return False\n",
    "            # Move to child node\n",
    "            node = node.children[char]\n",
    "        return node.end_of_word\n",
    "\n",
    "    def startsWith(self, prefix: str) -> bool:\n",
    "        node = self.root\n",
    "        \n",
    "        # traverse in prefix\n",
    "        for char in prefix:\n",
    "            if char not in node.children:\n",
    "                # character is not found\n",
    "                return False\n",
    "            # Move to child\n",
    "            node = node.children[char]\n",
    "        # all character are found\n",
    "        return True\n",
    "\n",
    "# Your Trie object will be instantiated and called as such:\n",
    "# obj = Trie()\n",
    "# obj.insert(word)\n",
    "# param_2 = obj.search(word)\n",
    "# param_3 = obj.startsWith(prefix)"
   ]
  },
  {
   "cell_type": "markdown",
   "metadata": {},
   "source": [
    "Step-by-Step Example:\n",
    "\n",
    "Let's insert \"apple\" and visualize it step by step:\n",
    "\n",
    "Insert \"apple\":\n",
    "\n",
    "Start at root.\n",
    "\n",
    "Add a child node a to root.\n",
    "\n",
    "Add a child node p to a.\n",
    "\n",
    "Add another p under the first p.\n",
    "\n",
    "Add l under the second p.\n",
    "\n",
    "Add e under l and mark it as the end of the word."
   ]
  },
  {
   "cell_type": "code",
   "execution_count": null,
   "metadata": {
    "vscode": {
     "languageId": "javascript"
    }
   },
   "outputs": [],
   "source": [
    "          (root)\n",
    "           |\n",
    "           a\n",
    "           |\n",
    "           p\n",
    "           |\n",
    "           p\n",
    "           |\n",
    "           l\n",
    "           |\n",
    "           e (end)\n"
   ]
  },
  {
   "cell_type": "markdown",
   "metadata": {},
   "source": [
    "Common Applications:\n",
    "- Autocomplete:\n",
    "\n",
    "Given a prefix, find all words starting with that prefix.\n",
    "\n",
    "- Spell Checker:\n",
    "\n",
    "Check if a word exists in a dictionary.\n",
    "\n",
    "- Word Games:\n",
    "\n",
    "Solve word search puzzles or find valid words from a set of letters."
   ]
  }
 ],
 "metadata": {
  "language_info": {
   "name": "python"
  }
 },
 "nbformat": 4,
 "nbformat_minor": 2
}
