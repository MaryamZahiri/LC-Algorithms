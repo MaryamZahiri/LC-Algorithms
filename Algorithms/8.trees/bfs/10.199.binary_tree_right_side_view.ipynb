{
 "cells": [
  {
   "cell_type": "markdown",
   "metadata": {},
   "source": [
    "199. Binary Tree Right Side View\n",
    "\n",
    "Given the root of a binary tree, imagine yourself standing on the right side of it, return the values of the nodes you can see ordered from top to bottom."
   ]
  },
  {
   "cell_type": "markdown",
   "metadata": {},
   "source": [
    "Use Case:\n",
    "\n",
    "![image](https://github.com/user-attachments/assets/25772610-09d7-4183-9ed5-855657fa7e84)"
   ]
  },
  {
   "cell_type": "markdown",
   "metadata": {},
   "source": [
    "Algorithm:\n",
    "- BFS: Level-order traversal (Queue)"
   ]
  },
  {
   "cell_type": "code",
   "execution_count": 1,
   "metadata": {},
   "outputs": [],
   "source": [
    "class TreeNode:\n",
    "    def __init__(self, val=0, left=None, right=None):\n",
    "        self.val = val\n",
    "        self.left = left\n",
    "        self.right = right"
   ]
  },
  {
   "cell_type": "code",
   "execution_count": 2,
   "metadata": {},
   "outputs": [],
   "source": [
    "import collections \n",
    "class Solution:\n",
    "    def rightSideView(self, root: TreeNode):\n",
    "        result = []\n",
    "        queue = collections.deque([root])\n",
    "\n",
    "        while queue:\n",
    "            right_side_view = None\n",
    "\n",
    "            for i in range(len(queue)):\n",
    "                cur_node = queue.popleft()\n",
    "                if cur_node:\n",
    "                    right_side_view = cur_node\n",
    "                    queue.append(cur_node.left)\n",
    "                    queue.append(cur_node.right)\n",
    "\n",
    "            if right_side_view:\n",
    "                result.append(right_side_view)\n",
    "\n",
    "        return right_side_view"
   ]
  },
  {
   "cell_type": "markdown",
   "metadata": {},
   "source": [
    "Time complexity: O(N) since one has to visit each node.\n",
    "\n",
    "Space complexity: O(D) to keep the queues, where D is a tree diameter. Let's use the last level to estimate the queue size. This level could contain up to N/2 tree nodes in the case of complete binary tree."
   ]
  }
 ],
 "metadata": {
  "kernelspec": {
   "display_name": "Python 3",
   "language": "python",
   "name": "python3"
  },
  "language_info": {
   "codemirror_mode": {
    "name": "ipython",
    "version": 3
   },
   "file_extension": ".py",
   "mimetype": "text/x-python",
   "name": "python",
   "nbconvert_exporter": "python",
   "pygments_lexer": "ipython3",
   "version": "3.9.6"
  }
 },
 "nbformat": 4,
 "nbformat_minor": 2
}
