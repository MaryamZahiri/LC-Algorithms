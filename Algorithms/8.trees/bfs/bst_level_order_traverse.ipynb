{
 "cells": [
  {
   "cell_type": "markdown",
   "metadata": {},
   "source": [
    "102. [Binary Tree Level Order Traversal](https://leetcode.com/problems/binary-tree-level-order-traversal/description/)"
   ]
  },
  {
   "cell_type": "code",
   "execution_count": null,
   "metadata": {},
   "outputs": [],
   "source": [
    "import collections\n",
    "# Definition for a binary tree node.\n",
    "# class TreeNode:\n",
    "#     def __init__(self, val=0, left=None, right=None):\n",
    "#         self.val = val\n",
    "#         self.left = left\n",
    "#         self.right = right\n",
    "class Solution:\n",
    "    def levelOrder(self, root):\n",
    "        if root is None: return [[]]\n",
    "        \n",
    "        queue = collections.deque([root])\n",
    "        level_order = []\n",
    "\n",
    "        while queue:\n",
    "            level = []\n",
    "            n = len(queue)\n",
    "            for i in range(n):\n",
    "                # for each level, pop from left of queue and add to level\n",
    "                node = queue.popleft()\n",
    "                level.append(node.val)\n",
    "\n",
    "                # Traverse left and right of each node\n",
    "                if node.left: queue.append(node.left)\n",
    "                if node.right: queue.append(node.right)\n",
    "\n",
    "            # add level to levels \n",
    "            level_order.append(level)\n",
    "\n",
    "        return level_order"
   ]
  },
  {
   "cell_type": "markdown",
   "metadata": {},
   "source": [
    "Time Complexity:\n",
    "\n",
    "- O(n): n nodes\n",
    "\n",
    "Space Complexity:\n",
    "\n",
    "- O(n): The last level, is double of others. N/2 of other parts"
   ]
  },
  {
   "cell_type": "markdown",
   "metadata": {},
   "source": [
    "source:\n",
    "\n",
    "- algoMap"
   ]
  }
 ],
 "metadata": {
  "language_info": {
   "name": "python"
  }
 },
 "nbformat": 4,
 "nbformat_minor": 2
}
