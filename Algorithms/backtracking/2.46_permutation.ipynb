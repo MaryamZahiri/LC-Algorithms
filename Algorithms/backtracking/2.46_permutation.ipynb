{
 "cells": [
  {
   "cell_type": "markdown",
   "metadata": {},
   "source": [
    "46. [Permutations](https://leetcode.com/problems/permutations/description/)\n",
    "\n",
    "Given an array nums of distinct integers, return all the possible permutations. You can return the answer in any order.\n",
    "\n",
    "Example 1:\n",
    "\n",
    "Input: nums = [1,2,3]\n",
    "\n",
    "Output: [[1,2,3],[1,3,2],[2,1,3],[2,3,1],[3,1,2],[3,2,1]]"
   ]
  },
  {
   "cell_type": "code",
   "execution_count": 1,
   "metadata": {},
   "outputs": [],
   "source": [
    "class Solution:\n",
    "    def permute(self, nums):\n",
    "        res = []\n",
    "        path = []\n",
    "        def backtracking(i, path):\n",
    "            if len(nums) == len(path):\n",
    "                res.append(path[:])\n",
    "                return\n",
    "            \n",
    "            for num in nums:\n",
    "                if num not in path:\n",
    "                    path.append(num)\n",
    "                    backtracking(i + 1, path)\n",
    "                    path.pop()\n",
    "                \n",
    "        backtracking(0, path)\n",
    "        return res"
   ]
  },
  {
   "cell_type": "code",
   "execution_count": 2,
   "metadata": {},
   "outputs": [
    {
     "data": {
      "text/plain": [
       "[[1, 2, 3], [1, 3, 2], [2, 1, 3], [2, 3, 1], [3, 1, 2], [3, 2, 1]]"
      ]
     },
     "execution_count": 2,
     "metadata": {},
     "output_type": "execute_result"
    }
   ],
   "source": [
    "nums = [1,2,3]\n",
    "solution = Solution()\n",
    "solution.permute(nums)"
   ]
  },
  {
   "cell_type": "markdown",
   "metadata": {},
   "source": [
    "Time Complexity:\n",
    "- O(n⋅n!)\n",
    "- for n = 3 , there is 3 * 2 * 1 ways (n! = n factorial) with n length for each path\n",
    "\n",
    "Space Complexity:\n",
    "- O(n)\n",
    "- The extra space we use here is for curr and the recursion call stack. The depth of the call stack is equal to the length of curr"
   ]
  }
 ],
 "metadata": {
  "kernelspec": {
   "display_name": "Python 3",
   "language": "python",
   "name": "python3"
  },
  "language_info": {
   "codemirror_mode": {
    "name": "ipython",
    "version": 3
   },
   "file_extension": ".py",
   "mimetype": "text/x-python",
   "name": "python",
   "nbconvert_exporter": "python",
   "pygments_lexer": "ipython3",
   "version": "3.10.5"
  }
 },
 "nbformat": 4,
 "nbformat_minor": 2
}
