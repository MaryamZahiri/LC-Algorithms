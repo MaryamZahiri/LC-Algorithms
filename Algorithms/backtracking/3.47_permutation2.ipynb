{
 "cells": [
  {
   "cell_type": "markdown",
   "metadata": {},
   "source": [
    "47. [Permutations II](https://leetcode.com/problems/permutations-ii/description/)\n",
    "\n",
    "Given a collection of numbers, nums, that might contain duplicates, return all possible unique permutations in any order."
   ]
  },
  {
   "cell_type": "markdown",
   "metadata": {},
   "source": [
    "Example:\n",
    "\n",
    "![image](https://github.com/user-attachments/assets/37fd5729-4362-4db7-8241-8983b855cdd6)"
   ]
  },
  {
   "cell_type": "code",
   "execution_count": null,
   "metadata": {},
   "outputs": [],
   "source": [
    "class Solution:\n",
    "    def permuteUnique(self, nums):\n",
    "        counter = {n:0 for n in nums}\n",
    "        for n in nums:\n",
    "            counter[n] += 1\n",
    "\n",
    "        res = []\n",
    "        path = []\n",
    "\n",
    "        def backtrack(i):\n",
    "            if len(path) == len(nums):\n",
    "                res.append(path[:])\n",
    "                return\n",
    "\n",
    "            for n in counter:\n",
    "                if counter[n] > 0:\n",
    "                    path.append(n)\n",
    "                    counter[n] -= 1\n",
    "\n",
    "                    backtrack(i + 1)\n",
    "\n",
    "                    path.pop()\n",
    "                    counter[n] += 1\n",
    "        \n",
    "        backtrack(0)\n",
    "        return res"
   ]
  },
  {
   "cell_type": "markdown",
   "metadata": {},
   "source": [
    "Time Complexity:\n",
    "- O(n.n!)\n",
    "- It takes N steps to generate a single permutation. Since there are in total N! possible permutations, at most it would take us N⋅N! steps to generate all permutations\n",
    "\n",
    "Space Complexity:\n",
    "- O(n)\n",
    "- First of all, we build a hash table out of the input numbers. In the worst case where each number is unique, we would need O(N) space for the table.\n",
    "\n",
    "Since we applied recursion in the algorithm which consumes some extra space in the function call stack, we would need another O(N) space for the recursion.\n",
    "\n",
    "During the exploration, we keep a candidate of permutation along the way, which takes yet another O(N).\n",
    "\n",
    "To sum up, the total space complexity would be O(N)+O(N)+O(N)=O(N).\n",
    "\n",
    "Note, we did not take into account the space needed to hold the results. Otherwise, the space complexity would become O(N⋅N!)."
   ]
  }
 ],
 "metadata": {
  "language_info": {
   "name": "python"
  }
 },
 "nbformat": 4,
 "nbformat_minor": 2
}
