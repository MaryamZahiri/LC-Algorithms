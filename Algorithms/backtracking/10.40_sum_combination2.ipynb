{
 "cells": [
  {
   "cell_type": "markdown",
   "metadata": {},
   "source": [
    "40. [Combination Sum II](https://leetcode.com/problems/combination-sum-ii/description/)\n",
    "\n",
    "Given a collection of candidate numbers (candidates) and a target number (target), find all unique combinations in candidates where the candidate numbers sum to target.\n",
    "\n",
    "Each number in candidates may only be used once in the combination.\n",
    "\n",
    "Note: The solution set must not contain duplicate combinations."
   ]
  },
  {
   "cell_type": "markdown",
   "metadata": {},
   "source": [
    "Use Case:\n",
    "\n",
    "![image](https://github.com/user-attachments/assets/26cd6063-1f92-454b-86ef-90f2a77da527)\n"
   ]
  },
  {
   "cell_type": "code",
   "execution_count": 2,
   "metadata": {},
   "outputs": [],
   "source": [
    "class Solution:\n",
    "    def combinationSum2(self, candidates, target: int):\n",
    "        candidates.sort()\n",
    "        res = []\n",
    "\n",
    "        def backtrack(cur, pos, total):\n",
    "            if target == total:\n",
    "                # cur is changing during recursion\n",
    "                res.append(cur.copy())\n",
    "            if total >= target:\n",
    "                return \n",
    "                \n",
    "            prev = -1\n",
    "            for i in range(pos, len(candidates)):\n",
    "                # To prevent repeatation, skip in the second tree decision\n",
    "                if prev == candidates[i]: continue\n",
    "\n",
    "                cur.append(candidates[i])\n",
    "                backtrack(cur, i + 1, total + candidates[i])\n",
    "                # undo appending to clean up and back to prev track\n",
    "                cur.pop()\n",
    "\n",
    "                prev = candidates[i]\n",
    "            \n",
    "        backtrack([], 0, 0)\n",
    "        return res"
   ]
  },
  {
   "cell_type": "code",
   "execution_count": 3,
   "metadata": {},
   "outputs": [
    {
     "data": {
      "text/plain": [
       "[[1, 7], [3, 5]]"
      ]
     },
     "execution_count": 3,
     "metadata": {},
     "output_type": "execute_result"
    }
   ],
   "source": [
    "candidates = [10, 1, 7, 3, 5, 1]\n",
    "target = 8\n",
    "solution = Solution()\n",
    "solution.combinationSum2(candidates, target)"
   ]
  },
  {
   "cell_type": "markdown",
   "metadata": {},
   "source": [
    "Time Complexity:\n",
    "- O(2^n) 2 decision for n candidates\n",
    "\n",
    "Space Complexity:\n",
    "- O(n) cur has at most n candidates\n",
    "- apply recursion in the algorithm, which will incur additional memory consumption in the function call stack"
   ]
  }
 ],
 "metadata": {
  "kernelspec": {
   "display_name": "Python 3",
   "language": "python",
   "name": "python3"
  },
  "language_info": {
   "codemirror_mode": {
    "name": "ipython",
    "version": 3
   },
   "file_extension": ".py",
   "mimetype": "text/x-python",
   "name": "python",
   "nbconvert_exporter": "python",
   "pygments_lexer": "ipython3",
   "version": "3.10.5"
  }
 },
 "nbformat": 4,
 "nbformat_minor": 2
}
