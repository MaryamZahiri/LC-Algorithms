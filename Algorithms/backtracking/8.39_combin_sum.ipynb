{
 "cells": [
  {
   "cell_type": "markdown",
   "metadata": {},
   "source": [
    "39. [Combination Sum](https://leetcode.com/problems/combination-sum/description/)\n",
    "\n",
    "Given an array of distinct integers candidates and a target integer target, return a list of all unique combinations of candidates where the chosen numbers sum to target. You may return the combinations in any order.\n",
    "\n",
    "The same number may be chosen from candidates an unlimited number of times. Two combinations are unique if the \n",
    "frequency\n",
    " of at least one of the chosen numbers is different.\n",
    "\n",
    "The test cases are generated such that the number of unique combinations that sum up to target is less than 150 combinations for the given input.\n",
    "\n",
    "Example 1:\n",
    "\n",
    "Input: candidates = [2,3,6,7], target = 7\n",
    "\n",
    "Output: [[2,2,3],[7]]\n",
    "\n",
    "Explanation:\n",
    "\n",
    "2 and 3 are candidates, and 2 + 2 + 3 = 7. Note that 2 can be used multiple times.\n",
    "\n",
    "7 is a candidate, and 7 = 7.\n",
    "\n",
    "These are the only two combinations."
   ]
  },
  {
   "cell_type": "markdown",
   "metadata": {},
   "source": [
    "Use Case:\n",
    "\n",
    "![image](https://github.com/user-attachments/assets/a4e7e15e-685b-489d-b0a8-282023031c5d)"
   ]
  },
  {
   "cell_type": "code",
   "execution_count": null,
   "metadata": {},
   "outputs": [],
   "source": [
    "class Solution:\n",
    "    def combinationSum(self, candidates,target):\n",
    "        res = []\n",
    "        def backtracking(i, cur, total):\n",
    "            # base case\n",
    "            if total == target:\n",
    "                res.append(cur.copy())\n",
    "                return\n",
    "            if total > target or i >= len(candidates):\n",
    "                return\n",
    "\n",
    "            cur.append(candidates[i])\n",
    "            # decision 1\n",
    "            backtracking(i, cur, total + candidates[i])\n",
    "            # backtracking by remove the wrong candidate and back to the base\n",
    "            cur.pop()\n",
    "            # decision 2\n",
    "            backtracking(i+1, cur, total)\n",
    "\n",
    "        backtracking(0, [], 0)\n",
    "        return res"
   ]
  },
  {
   "cell_type": "markdown",
   "metadata": {},
   "source": [
    "Time Complexity:\n",
    "- O(2 ^ target)\n",
    "\n",
    "Space Complexity:\n",
    "- O(n)"
   ]
  }
 ],
 "metadata": {
  "language_info": {
   "name": "python"
  }
 },
 "nbformat": 4,
 "nbformat_minor": 2
}
