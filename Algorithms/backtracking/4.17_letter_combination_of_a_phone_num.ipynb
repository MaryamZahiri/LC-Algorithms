{
 "cells": [
  {
   "cell_type": "markdown",
   "metadata": {},
   "source": [
    "## 17. [Letter Combinations of a Phone Number](https://leetcode.com/problems/letter-combinations-of-a-phone-number/description/)\n",
    "\n",
    "Given a string containing digits from 2-9 inclusive, return all possible letter combinations that the number could represent. Return the answer in any order.\n",
    "\n",
    "A mapping of digits to letters (just like on the telephone buttons) is given below. Note that 1 does not map to any letters."
   ]
  },
  {
   "cell_type": "code",
   "execution_count": null,
   "metadata": {},
   "outputs": [],
   "source": [
    "class Solution:\n",
    "    def letterCombinations(self, digits: str):\n",
    "        letters = {\n",
    "            \"2\": \"abc\",\n",
    "            \"3\": \"def\", \n",
    "            \"4\": \"ghi\",\n",
    "            \"5\": \"jkl\", \n",
    "            \"6\": \"mno\",\n",
    "            \"7\": \"pqrs\",\n",
    "            \"8\": \"tuv\",\n",
    "            \"9\": \"wxyz\"\n",
    "        }\n",
    "\n",
    "        res = []\n",
    "        curPath = []\n",
    "\n",
    "        def backtracking(i, curPath):\n",
    "            if len(curPath) == len(digits):\n",
    "                res.append(\"\".join(curPath))\n",
    "                return\n",
    "            \n",
    "            for s in letters[digits[i]]:\n",
    "                curPath.append(s)\n",
    "                backtracking(i + 1, curPath)\n",
    "                curPath.pop()\n",
    "\n",
    "        if digits:\n",
    "            backtracking(0, curPath)\n",
    "        return res"
   ]
  },
  {
   "cell_type": "code",
   "execution_count": null,
   "metadata": {},
   "outputs": [],
   "source": [
    "digits = \"23\"\n",
    "solution = Solution()\n",
    "solution.letterCombinations(digits)"
   ]
  },
  {
   "cell_type": "markdown",
   "metadata": {},
   "source": [
    "Time Complexity:\n",
    "- O(n * 4 ^ n) \n",
    "- at worst case, 7 and 9 has 4 letters. 4 ^ n choices\n",
    "- The length of each path * 4^n\n",
    "\n",
    "Space Complexity:\n",
    "- O(n) size of current path"
   ]
  }
 ],
 "metadata": {
  "language_info": {
   "name": "python"
  }
 },
 "nbformat": 4,
 "nbformat_minor": 2
}
