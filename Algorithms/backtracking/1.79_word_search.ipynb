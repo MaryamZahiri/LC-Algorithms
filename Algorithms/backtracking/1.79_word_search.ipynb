{
 "cells": [
  {
   "cell_type": "markdown",
   "metadata": {},
   "source": [
    "79. Word Search\n",
    "\n",
    "Given an m x n grid of characters board and a string word, return true if word exists in the grid.\n",
    "\n",
    "The word can be constructed from letters of sequentially adjacent cells, where adjacent cells are horizontally or vertically neighboring. The same letter cell may not be used more than once."
   ]
  },
  {
   "cell_type": "markdown",
   "metadata": {},
   "source": [
    "Example 1:\n",
    "\n",
    "![image](https://github.com/user-attachments/assets/1cbf72df-d60f-45c8-b504-2e949576c55d)\n",
    "\n",
    "Input: board = [[\"A\",\"B\",\"C\",\"E\"],[\"S\",\"F\",\"C\",\"S\"],[\"A\",\"D\",\"E\",\"E\"]], word = \"ABCCED\"\n",
    "\n",
    "Output: true"
   ]
  },
  {
   "cell_type": "code",
   "execution_count": 1,
   "metadata": {},
   "outputs": [],
   "source": [
    "class Solution:\n",
    "    def exist(self, board, word: str) -> bool:\n",
    "        ROW, COL = len(board), len(board[0])\n",
    "        path = set()\n",
    "\n",
    "        def dfs(r, c, i):\n",
    "            if i == len(word): return True\n",
    "\n",
    "            if (r < 0 or c < 0\n",
    "                or r >= ROW or c >= COL\n",
    "                or board[r][c] != word[i]\n",
    "                or (r, c) in path): \n",
    "                return False\n",
    "\n",
    "            # current cell is visited\n",
    "            path.add((r, c))\n",
    "\n",
    "            # Traverse backtracking: iterate through the four possible directions\n",
    "            res = (dfs(r + 1, c, i+1) or \n",
    "                    dfs(r - 1, c, i+1) or \n",
    "                    dfs(r, c + 1, i+1) or \n",
    "                    dfs(r, c - 1, i+1))\n",
    "            \n",
    "            path.remove((r,c))\n",
    "            return res\n",
    "        \n",
    "        for r in range(ROW):\n",
    "            for c in range(COL):\n",
    "                if (dfs(r, c, 0)): return True\n",
    "        \n",
    "        return False"
   ]
  },
  {
   "cell_type": "code",
   "execution_count": 2,
   "metadata": {},
   "outputs": [
    {
     "name": "stdout",
     "output_type": "stream",
     "text": [
      "True\n"
     ]
    }
   ],
   "source": [
    "board = [[\"C\",\"A\",\"A\"],[\"A\",\"A\",\"A\"],[\"B\",\"C\",\"D\"]]\n",
    "word = \"AAB\"\n",
    "solution = Solution()\n",
    "print(solution.exist(board, word))\n"
   ]
  },
  {
   "cell_type": "markdown",
   "metadata": {},
   "source": [
    "Time Complexity:\n",
    "- O(n * m * dfs) = O(n * m * 4n)\n",
    "\n",
    "Space Complexity:\n",
    "- O(n)"
   ]
  }
 ],
 "metadata": {
  "kernelspec": {
   "display_name": "Python 3",
   "language": "python",
   "name": "python3"
  },
  "language_info": {
   "codemirror_mode": {
    "name": "ipython",
    "version": 3
   },
   "file_extension": ".py",
   "mimetype": "text/x-python",
   "name": "python",
   "nbconvert_exporter": "python",
   "pygments_lexer": "ipython3",
   "version": "3.9.6"
  }
 },
 "nbformat": 4,
 "nbformat_minor": 2
}
