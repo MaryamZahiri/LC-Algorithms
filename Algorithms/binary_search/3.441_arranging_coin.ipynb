{
 "cells": [
  {
   "cell_type": "markdown",
   "metadata": {},
   "source": [
    "441. [Arranging Coins](https://leetcode.com/problems/arranging-coins/description/)\n",
    "\n",
    "You have n coins and you want to build a staircase with these coins. The staircase consists of k rows where the ith row has exactly i coins. The last row of the staircase may be incomplete.\n",
    "\n",
    "Given the integer n, return the number of complete rows of the staircase you will build."
   ]
  },
  {
   "cell_type": "code",
   "execution_count": 1,
   "metadata": {},
   "outputs": [],
   "source": [
    "class Solution:\n",
    "    def arrangeCoin(self, num):\n",
    "        l, r = 0, num\n",
    "        res = 0\n",
    "\n",
    "        while l<=r:\n",
    "            mid = l + ((r - l)//2)\n",
    "            coins = mid * (mid + 1) // 2\n",
    "\n",
    "            if coins > num:\n",
    "                r = mid - 1\n",
    "            else:\n",
    "                l = mid + 1\n",
    "                res = max(res, mid)\n",
    "\n",
    "        return res"
   ]
  },
  {
   "cell_type": "code",
   "execution_count": 2,
   "metadata": {},
   "outputs": [
    {
     "name": "stdout",
     "output_type": "stream",
     "text": [
      "2\n"
     ]
    }
   ],
   "source": [
    "num = 5 \n",
    "solution = Solution()\n",
    "stairs = solution.arrangeCoin(num)\n",
    "print(stairs)"
   ]
  },
  {
   "cell_type": "markdown",
   "metadata": {},
   "source": [
    "Time Complexity:\n",
    "- O(log n) binary search\n",
    "\n",
    "Space Complexity:\n",
    "- O(1)"
   ]
  }
 ],
 "metadata": {
  "kernelspec": {
   "display_name": "Python 3",
   "language": "python",
   "name": "python3"
  },
  "language_info": {
   "codemirror_mode": {
    "name": "ipython",
    "version": 3
   },
   "file_extension": ".py",
   "mimetype": "text/x-python",
   "name": "python",
   "nbconvert_exporter": "python",
   "pygments_lexer": "ipython3",
   "version": "3.10.5"
  }
 },
 "nbformat": 4,
 "nbformat_minor": 2
}
