{
 "cells": [
  {
   "cell_type": "markdown",
   "metadata": {},
   "source": [
    "## 153. [Find rotated sorted array](https://leetcode.com/problems/find-minimum-in-rotated-sorted-array/description/)\n",
    "\n",
    "Suppose an array of length n sorted in ascending order is rotated between 1 and n times. For example, the array nums = [0,1,2,4,5,6,7] might become:\n",
    "\n",
    "[4,5,6,7,0,1,2] if it was rotated 4 times.\n",
    "[0,1,2,4,5,6,7] if it was rotated 7 times.\n",
    "Notice that rotating an array [a[0], a[1], a[2], ..., a[n-1]] 1 time results in the array [a[n-1], a[0], a[1], a[2], ..., a[n-2]].\n",
    "\n",
    "Given the sorted rotated array nums of unique elements, return the minimum element of this array.\n",
    "\n",
    "You must write an algorithm that runs in O(log n) time."
   ]
  },
  {
   "cell_type": "code",
   "execution_count": 3,
   "metadata": {},
   "outputs": [],
   "source": [
    "class Solution:\n",
    "    def findMin(self, arr):\n",
    "        l, r = 0, len(arr) - 1\n",
    "        # edge cases\n",
    "        if len(arr) == 1: return arr[0]\n",
    "        if arr[l] < arr[r]: return arr[l]\n",
    "\n",
    "        while l <= r:\n",
    "            mid = l + ((r - l)//2)\n",
    "            if arr[mid + 1] < arr[mid]: return arr[mid + 1]\n",
    "            if arr[mid] < arr[mid - 1]: return arr[mid]\n",
    "\n",
    "            if arr[mid] < arr[l]: r = mid\n",
    "            if arr[r] < arr[mid]: l = mid + 1\n"
   ]
  },
  {
   "cell_type": "code",
   "execution_count": 4,
   "metadata": {},
   "outputs": [
    {
     "name": "stdout",
     "output_type": "stream",
     "text": [
      "1\n"
     ]
    }
   ],
   "source": [
    "nums = [5,1,2,3,4]\n",
    "solution = Solution()\n",
    "minRotatedSorted = solution.findMin(nums)\n",
    "print(minRotatedSorted)"
   ]
  },
  {
   "cell_type": "markdown",
   "metadata": {},
   "source": [
    "Time Complexity: \n",
    "- O(log n): binary search\n",
    "\n",
    "Space Complexity:\n",
    "- O(1)"
   ]
  }
 ],
 "metadata": {
  "kernelspec": {
   "display_name": "Python 3",
   "language": "python",
   "name": "python3"
  },
  "language_info": {
   "codemirror_mode": {
    "name": "ipython",
    "version": 3
   },
   "file_extension": ".py",
   "mimetype": "text/x-python",
   "name": "python",
   "nbconvert_exporter": "python",
   "pygments_lexer": "ipython3",
   "version": "3.10.5"
  }
 },
 "nbformat": 4,
 "nbformat_minor": 2
}
