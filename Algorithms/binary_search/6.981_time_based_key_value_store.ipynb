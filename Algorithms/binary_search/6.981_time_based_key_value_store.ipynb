{
 "cells": [
  {
   "cell_type": "markdown",
   "metadata": {},
   "source": [
    "## 981. [Time Based Key-Value Store](https://leetcode.com/problems/time-based-key-value-store/description/)\n",
    "\n",
    "Design a time-based key-value data structure that can store multiple values for the same key at different time stamps and retrieve the key's value at a certain timestamp.\n",
    "\n",
    "Implement the TimeMap class:\n",
    "\n",
    "TimeMap() Initializes the object of the data structure.\n",
    "\n",
    "void set(String key, String value, int timestamp) Stores the key key with the value value at the given time timestamp.\n",
    "\n",
    "String get(String key, int timestamp) Returns a value such that set was called previously, with timestamp_prev <= timestamp. If there are multiple such values, it returns the value associated with the largest timestamp_prev. If there are no values, it returns \"\".\n",
    " \n",
    "\n",
    "Example 1:\n",
    "\n",
    "Input\n",
    "[\"TimeMap\", \"set\", \"get\", \"get\", \"set\", \"get\", \"get\"]\n",
    "\n",
    "[[], [\"foo\", \"bar\", 1], [\"foo\", 1], [\"foo\", 3], [\"foo\", \"bar2\", 4], [\"foo\", 4], [\"foo\", 5]]\n",
    "\n",
    "Output\n",
    "\n",
    "[null, null, \"bar\", \"bar\", null, \"bar2\", \"bar2\"]\n",
    "\n",
    "Explanation\n",
    "\n",
    "TimeMap timeMap = new TimeMap();\n",
    "\n",
    "timeMap.set(\"foo\", \"bar\", 1);  // store the key \"foo\" and value \"bar\" along with timestamp = 1.\n",
    "\n",
    "timeMap.get(\"foo\", 1);         // return \"bar\"\n",
    "\n",
    "timeMap.get(\"foo\", 3);         // return \"bar\", since there is no value corresponding to foo at timestamp 3 and timestamp 2, then the only value is at timestamp 1 is \"bar\".\n",
    "\n",
    "timeMap.set(\"foo\", \"bar2\", 4); // store the key \"foo\" and value \"bar2\" along with timestamp = 4.\n",
    "\n",
    "timeMap.get(\"foo\", 4);         // return \"bar2\"\n",
    "\n",
    "timeMap.get(\"foo\", 5);         // return \"bar2\""
   ]
  },
  {
   "cell_type": "code",
   "execution_count": null,
   "metadata": {},
   "outputs": [],
   "source": [
    "class TimeMap:\n",
    "    def __init__(self):\n",
    "        self.store = {}\n",
    "\n",
    "    def set(self, key: str, value: str, timestamp: int):\n",
    "        if key not in self.store:\n",
    "            self.store[key] = []\n",
    "        self.store[key].append([value, timestamp])\n",
    "\n",
    "    def get(self, key: str, timestamp: int)-> str:\n",
    "        value = self.store.get(key, [])\n",
    "        res = \"\"\n",
    "\n",
    "        l, r = 0, len(value) - 1\n",
    "        while l <= r:\n",
    "            mid = l + ((r - l) // 2)\n",
    "            # it is in order\n",
    "            pre_time = value[mid][1]\n",
    "            \n",
    "            # closest timestamp\n",
    "            if pre_time <= timestamp:\n",
    "                res = value[mid][0]\n",
    "                l = mid + 1\n",
    "            else:\n",
    "                r = mid - 1\n",
    "    \n",
    "        return res"
   ]
  },
  {
   "cell_type": "markdown",
   "metadata": {},
   "source": [
    "Time Complexity:\n",
    "- O(log n) binary search\n",
    "\n",
    "Space Complexity:\n",
    "- O(n) store in dictionary data structure"
   ]
  }
 ],
 "metadata": {
  "language_info": {
   "name": "python"
  }
 },
 "nbformat": 4,
 "nbformat_minor": 2
}
