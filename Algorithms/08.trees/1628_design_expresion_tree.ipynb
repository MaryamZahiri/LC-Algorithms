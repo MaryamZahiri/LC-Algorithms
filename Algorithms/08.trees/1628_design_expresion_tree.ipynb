{
 "cells": [
  {
   "cell_type": "markdown",
   "metadata": {},
   "source": [
    "[1628. Design an Expression Tree with Evaluate Function](https://leetcode.com/problems/design-an-expression-tree-with-evaluate-function/)"
   ]
  },
  {
   "cell_type": "code",
   "execution_count": null,
   "metadata": {},
   "outputs": [
    {
     "name": "stdout",
     "output_type": "stream",
     "text": [
      "2\n"
     ]
    }
   ],
   "source": [
    "from abc import ABC, abstractmethod\n",
    "\n",
    "class Node(ABC):\n",
    "    @abstractmethod\n",
    "    def postfixProcess(self):\n",
    "        pass\n",
    "\n",
    "class OperandNode(Node):\n",
    "    def __init__(self, data) -> None:\n",
    "        self.data = data\n",
    "    \n",
    "    def postfixProcess(self):\n",
    "        return self.data\n",
    "    \n",
    "class OperationNode(Node):\n",
    "    def __init__(self, operation, left, right):\n",
    "        self.operation = operation\n",
    "        self.left = left\n",
    "        self.right = right\n",
    "\n",
    "    def postfixProcess(self):\n",
    "        left_node = self.left.postfixProcess()\n",
    "        right_node = self.right.postfixProcess()\n",
    "\n",
    "        # evaluate operators\n",
    "        if self.operation == \"+\":\n",
    "            return left_node + right_node\n",
    "        if self.operation == \"-\":\n",
    "            return left_node - right_node\n",
    "        if self.operation == \"*\":\n",
    "            return left_node * right_node\n",
    "        if self.operation == \"/\":\n",
    "            return left_node // right_node\n",
    "\n",
    "class BuildExpressionTree:\n",
    "    \"\"\" \n",
    "    from bottom to up \n",
    "    left, right, root\n",
    "    \"\"\"\n",
    "    \"\"\"\n",
    "    create a expression tree\n",
    "    Postorder tree: right, left, data operation\n",
    "    postfix: [left, right, operator]\n",
    "    track with stack to access top of stack - we need to access top of stack \n",
    "        - first: remove right (top of stack)\n",
    "        - right: remove left (next top of stack)\n",
    "        - then append result subtraction to stack\n",
    "    \"\"\"\n",
    "    def buildTree(self, postfix):\n",
    "        stack = []\n",
    "\n",
    "        # traverse postfix\n",
    "        for token in postfix:\n",
    "            # check if it is number\n",
    "            if token.isdigit():\n",
    "                # TODO: class for get node\n",
    "                stack.append(OperandNode(int(token)))\n",
    "            # check if it is operator\n",
    "            else:\n",
    "                right = stack.pop()\n",
    "                left = stack.pop()\n",
    "                # TODO: class for operations\n",
    "                stack.append(OperationNode(token, left, right))\n",
    "\n",
    "        return stack[-1]\n",
    "\"\"\"\n",
    "Time: O(n)\n",
    "- build tree O(n) - n is token\n",
    "- evaluate tree O(n) - each node visited once\n",
    "Space: O(n)\n",
    "- Tree storage: O(n)\n",
    "- stack: O(logn) balanced - worst case - O(n)\n",
    "\"\"\"\n",
    "\n",
    "object = BuildExpressionTree()\n",
    "expression = object.buildTree(postfix=[\"3\",\"4\",\"+\",\"2\",\"*\",\"7\",\"/\"])\n",
    "print(expression.postfixProcess())"
   ]
  }
 ],
 "metadata": {
  "kernelspec": {
   "display_name": "Python 3",
   "language": "python",
   "name": "python3"
  },
  "language_info": {
   "codemirror_mode": {
    "name": "ipython",
    "version": 3
   },
   "file_extension": ".py",
   "mimetype": "text/x-python",
   "name": "python",
   "nbconvert_exporter": "python",
   "pygments_lexer": "ipython3",
   "version": "3.10.5"
  }
 },
 "nbformat": 4,
 "nbformat_minor": 2
}
