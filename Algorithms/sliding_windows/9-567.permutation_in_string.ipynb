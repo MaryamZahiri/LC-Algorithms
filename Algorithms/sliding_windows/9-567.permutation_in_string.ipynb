{
 "cells": [
  {
   "cell_type": "markdown",
   "metadata": {},
   "source": [
    "## 567. [Permutation in string](https://leetcode.com/problems/permutation-in-string/description/)\n",
    "\n",
    "Given two strings s1 and s2, return true if s2 contains a permutation of s1, or false otherwise.\n",
    "\n",
    "In other words, return true if one of s1's permutations is the substring of s2."
   ]
  },
  {
   "cell_type": "markdown",
   "metadata": {},
   "source": [
    "### Methods:\n",
    "- Using ord() to Map Characters \n",
    "- To convert a character into a numerical index in the alphabet from 0 to 26\n",
    "- Gives Ascii values of charcters\n",
    "- Implementation encoding: ord(char) - ord('a')"
   ]
  },
  {
   "cell_type": "markdown",
   "metadata": {},
   "source": [
    "### Example:"
   ]
  },
  {
   "cell_type": "code",
   "execution_count": 4,
   "metadata": {},
   "outputs": [
    {
     "name": "stdout",
     "output_type": "stream",
     "text": [
      "char a:  0\n",
      "char b:  1\n",
      "char z:  25\n"
     ]
    }
   ],
   "source": [
    "# Example: Mapping 'a' to 0\n",
    "char = 'a'\n",
    "index = ord(char) - ord('a')\n",
    "print(f\"char {char}: \", index)  # Output: 0\n",
    "\n",
    "# Example: Mapping 'b' to 1\n",
    "char = 'b'\n",
    "index = ord(char) - ord('a')\n",
    "print(f\"char {char}: \", index)  # Output: 1\n",
    "\n",
    "# Example: Mapping 'z' to 25\n",
    "char = 'z'\n",
    "index = ord(char) - ord('a')\n",
    "print(f\"char {char}: \", index)  # Output: 25"
   ]
  },
  {
   "cell_type": "markdown",
   "metadata": {},
   "source": [
    "### Usage in algorithm"
   ]
  },
  {
   "cell_type": "code",
   "execution_count": 5,
   "metadata": {},
   "outputs": [],
   "source": [
    "def count_frequency(s):\n",
    "    freq = [0] * 26\n",
    "    for char in s:\n",
    "        index = ord(char) - ord('a')\n",
    "        freq[index] += 1\n",
    "    return freq"
   ]
  },
  {
   "cell_type": "code",
   "execution_count": 6,
   "metadata": {},
   "outputs": [
    {
     "name": "stdout",
     "output_type": "stream",
     "text": [
      "[1, 0, 0, 0, 2, 0, 0, 0, 0, 0, 0, 1, 1, 0, 0, 1, 0, 0, 0, 0, 0, 0, 0, 1, 0, 0]\n"
     ]
    }
   ],
   "source": [
    "s = \"example\"\n",
    "freq = count_frequency(s)\n",
    "print(freq)"
   ]
  },
  {
   "cell_type": "code",
   "execution_count": 7,
   "metadata": {},
   "outputs": [],
   "source": [
    "class Solution:\n",
    "    def checkInclusion(self, s1: str, s2: str) -> bool:\n",
    "        if len(s1) > len(s2): return False\n",
    "\n",
    "        s1count, s2count = [0] * 26, [0] * 26\n",
    "        matches = 0\n",
    "\n",
    "        # update 2 arrays in s1 length\n",
    "        for i in range(len(s1)):\n",
    "            s1count[ord(s1[i]) - ord('a')] += 1\n",
    "            s2count[ord(s2[i]) - ord('a')] += 1\n",
    "        \n",
    "        # check matches for 2 arrays and to see if it is 26\n",
    "        for i in range(26):\n",
    "            matches += (1 if s1count[i] == s2count[i] else 0)\n",
    "        \n",
    "        # sliding windows\n",
    "        l = 0\n",
    "        for r in range(len(s1), len(s2)):\n",
    "            if matches == 26: return True\n",
    "\n",
    "            # Adding new matches\n",
    "            index = ord(s2[r]) - ord('a')\n",
    "            s2count[index] += 1\n",
    "            # add a good match character\n",
    "            if s2count[index] == s1count[index]:\n",
    "                matches += 1\n",
    "            # there is a character in s2 that doesnt match with s1\n",
    "            elif s1count[index] == s2count[index] - 1:\n",
    "                matches -= 1\n",
    "\n",
    "            # Removing left character from window\n",
    "            index = ord(s2[l]) - ord('a')\n",
    "            s2count[index] -= 1\n",
    "            # removed the unmatch character in s2\n",
    "            if s1count[index] == s2count[index]:\n",
    "                matches += 1\n",
    "            # removed the character which exists in s1\n",
    "            elif s1count[index] == s2count[index] + 1:\n",
    "                matches -= 1\n",
    "            \n",
    "            l += 1\n",
    "        return matches == 26"
   ]
  },
  {
   "cell_type": "code",
   "execution_count": 9,
   "metadata": {},
   "outputs": [
    {
     "name": "stdout",
     "output_type": "stream",
     "text": [
      "True\n"
     ]
    }
   ],
   "source": [
    "s1 = \"abc\"\n",
    "s2 = \"baxyzabc\"\n",
    "solution = Solution()\n",
    "permutation = solution.checkInclusion(s1, s2)\n",
    "print(permutation)"
   ]
  },
  {
   "cell_type": "markdown",
   "metadata": {},
   "source": [
    "Time Complexity: O(N) = O(26) + O(N)\n",
    "\n",
    "Space Complexity: O(N) = O(N) + O(26)"
   ]
  }
 ],
 "metadata": {
  "kernelspec": {
   "display_name": "Python 3",
   "language": "python",
   "name": "python3"
  },
  "language_info": {
   "codemirror_mode": {
    "name": "ipython",
    "version": 3
   },
   "file_extension": ".py",
   "mimetype": "text/x-python",
   "name": "python",
   "nbconvert_exporter": "python",
   "pygments_lexer": "ipython3",
   "version": "3.9.6"
  }
 },
 "nbformat": 4,
 "nbformat_minor": 2
}
