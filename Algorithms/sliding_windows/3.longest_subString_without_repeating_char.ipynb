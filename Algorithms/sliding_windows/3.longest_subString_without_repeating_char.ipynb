{
 "cells": [
  {
   "cell_type": "markdown",
   "metadata": {},
   "source": [
    "## 3. [Longest Substring Without Repeating Characters](https://leetcode.com/problems/longest-substring-without-repeating-characters/description/)\n",
    "\n",
    "Given a string s, find the length of the longest substring without repeating characters."
   ]
  },
  {
   "cell_type": "markdown",
   "metadata": {},
   "source": [
    "### Use Case\n",
    "\n",
    "<img src=\"https://github.com/MaryamZahiri/LC-Algorithms/assets/52676399/79652f6c-abc6-439f-9b52-ce106b09e695\" width=\"460\">"
   ]
  },
  {
   "cell_type": "code",
   "execution_count": 8,
   "metadata": {},
   "outputs": [],
   "source": [
    "class Solution:\n",
    "    def longestSubString(self, s):\n",
    "        subString = set()\n",
    "        result = 0\n",
    "        l, r = 0, 0\n",
    "\n",
    "        while r < len(s):\n",
    "            # duplicate\n",
    "            while s[r] in subString:\n",
    "                subString.remove(s[l])\n",
    "                l += 1\n",
    "\n",
    "            subString.add(s[r])\n",
    "            result = max(result, r - l + 1)\n",
    "            r += 1\n",
    "\n",
    "        return result"
   ]
  },
  {
   "cell_type": "code",
   "execution_count": 9,
   "metadata": {},
   "outputs": [
    {
     "name": "stdout",
     "output_type": "stream",
     "text": [
      "4\n"
     ]
    }
   ],
   "source": [
    "s = \"abcabcdbb\"\n",
    "solution = Solution()\n",
    "print(solution.longestSubString(s))"
   ]
  },
  {
   "cell_type": "markdown",
   "metadata": {},
   "source": [
    "Time Complexity: O(n) Linear Time Algorithm\n",
    "- Set/Dictionary Operations:\n",
    "    - Checking if a character is in the set or dictionary is an O(1) operation on average.\n",
    "        - Inner Check: Typically, the operation of checking if an item exists in a set or dictionary is considered to have a constant time complexity, (O(1)). This is because these data structures use hashing to map keys (in this case, characters) to their locations in memory, allowing for very fast access times regardless of the size of the set or dictionary.\n",
    "    - Adding a character to the set or dictionary is also an O(1) operation on average.\n",
    "- Outer loop- Sliding Window: Moving the window across the string takes linear time, O(n), where n is the length of the string. This is because each character in the string is visited exactly once.\n",
    "\n",
    "Space Complexity: O(n) - Set data structure \n"
   ]
  }
 ],
 "metadata": {
  "kernelspec": {
   "display_name": "Python 3",
   "language": "python",
   "name": "python3"
  },
  "language_info": {
   "codemirror_mode": {
    "name": "ipython",
    "version": 3
   },
   "file_extension": ".py",
   "mimetype": "text/x-python",
   "name": "python",
   "nbconvert_exporter": "python",
   "pygments_lexer": "ipython3",
   "version": "3.10.5"
  }
 },
 "nbformat": 4,
 "nbformat_minor": 2
}
