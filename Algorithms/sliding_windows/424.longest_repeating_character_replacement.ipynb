{
 "cells": [
  {
   "cell_type": "markdown",
   "metadata": {},
   "source": [
    "424. [Longest Repeating Character Replacement](https://leetcode.com/problems/longest-repeating-character-replacement/description/)\n",
    "\n",
    "You are given a string s and an integer k. You can choose any character of the string and change it to any other uppercase English character. You can perform this operation at most k times.\n",
    "\n",
    "Return the length of the longest substring containing the same letter you can get after performing the above operations."
   ]
  },
  {
   "cell_type": "markdown",
   "metadata": {},
   "source": [
    "Use Case:\n",
    "\n",
    "<img src=\"https://github.com/MaryamZahiri/LC-Algorithms/assets/52676399/e9c5d892-aa77-4878-82b7-dd3775ca4771\" width=\"460\">"
   ]
  },
  {
   "cell_type": "code",
   "execution_count": 1,
   "metadata": {},
   "outputs": [],
   "source": [
    "class Solution:\n",
    "    def characterReplacement(self, s, k):\n",
    "        count = {}\n",
    "        res = 0\n",
    "        l = 0\n",
    "        maxCount = 0\n",
    "        for r in range(len(s)):\n",
    "            # update count dic\n",
    "            count[s[r]] = 1 + count.get(s[r], 0)\n",
    "\n",
    "            # update maxCount for each character \n",
    "            maxCount = max(maxCount, count[s[r]])\n",
    "            while (r - l + 1) - maxCount > k:\n",
    "                count[s[l]] -= 1\n",
    "                l += 1\n",
    "\n",
    "            # length of windows r - l + 1\n",
    "            res = max(res, r - l + 1)\n",
    "\n",
    "        return res"
   ]
  },
  {
   "cell_type": "code",
   "execution_count": 2,
   "metadata": {},
   "outputs": [
    {
     "name": "stdout",
     "output_type": "stream",
     "text": [
      "5\n"
     ]
    }
   ],
   "source": [
    "s, k = \"ABABBA\", 2\n",
    "solution = Solution()\n",
    "print(solution.characterReplacement(s,k))"
   ]
  },
  {
   "cell_type": "markdown",
   "metadata": {},
   "source": [
    "Time Complexity: O(n)\n",
    "- sliding windows has linear time because add, remove, check from hashtables are O(1) constant time and it only scan all characters(n)\n",
    "\n",
    "Space Complexity: O(n)\n",
    "- hashtable data structure "
   ]
  }
 ],
 "metadata": {
  "kernelspec": {
   "display_name": "Python 3",
   "language": "python",
   "name": "python3"
  },
  "language_info": {
   "codemirror_mode": {
    "name": "ipython",
    "version": 3
   },
   "file_extension": ".py",
   "mimetype": "text/x-python",
   "name": "python",
   "nbconvert_exporter": "python",
   "pygments_lexer": "ipython3",
   "version": "3.9.6"
  }
 },
 "nbformat": 4,
 "nbformat_minor": 2
}
