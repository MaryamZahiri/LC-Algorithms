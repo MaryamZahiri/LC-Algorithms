{
 "cells": [
  {
   "cell_type": "markdown",
   "metadata": {},
   "source": [
    "## 438. [Find All Anagrams in a String](https://leetcode.com/problems/find-all-anagrams-in-a-string/description/)\n",
    "\n",
    "Given two strings s and p, return an array of all the start indices of p's anagrams in s. You may return the answer in any order.\n",
    "\n",
    "An Anagram is a word or phrase formed by rearranging the letters of a different word or phrase, typically using all the original letters exactly once."
   ]
  },
  {
   "cell_type": "markdown",
   "metadata": {},
   "source": [
    "### Use Case:\n",
    "\n",
    "<img src=\"https://github.com/MaryamZahiri/LC-Algorithms/assets/52676399/8788bbde-319a-47b6-862b-93ada364c6d3\" width=\"460\">"
   ]
  },
  {
   "cell_type": "code",
   "execution_count": 1,
   "metadata": {},
   "outputs": [],
   "source": [
    "class Solution:\n",
    "    def findAnagrams(self, s, p):\n",
    "        # edge case\n",
    "        if len(p) > len(s): return []\n",
    "\n",
    "        sCount, pCount = {}, {}\n",
    "        res = []\n",
    "        # create hashtables\n",
    "        for i in range(len(p)):\n",
    "            pCount[p[i]] = 1 + pCount.get(p[i], 0)\n",
    "            sCount[s[i]] = 1 + sCount.get(s[i], 0)\n",
    "        res = [0] if pCount == sCount else []\n",
    "\n",
    "        l = 0\n",
    "        for r in range(len(p), len(s)):\n",
    "            # expand sCount\n",
    "            sCount[s[r]] = 1 + sCount.get(s[r], 0)\n",
    "            # remove the beggining\n",
    "            sCount[s[l]] -= 1\n",
    "            # check for pop the left element\n",
    "            if sCount[s[l]] == 0:\n",
    "                sCount.pop(s[l])\n",
    "            l += 1\n",
    "            \n",
    "            # check for anagrams\n",
    "            if sCount == pCount:\n",
    "                res.append(l)\n",
    "\n",
    "        return res\n",
    "        "
   ]
  },
  {
   "cell_type": "code",
   "execution_count": 2,
   "metadata": {},
   "outputs": [
    {
     "name": "stdout",
     "output_type": "stream",
     "text": [
      "[0, 6]\n"
     ]
    }
   ],
   "source": [
    "s, p = \"cbaebabacd\", \"abc\"\n",
    "solution = Solution()\n",
    "print(solution.findAnagrams(s, p))"
   ]
  },
  {
   "cell_type": "markdown",
   "metadata": {},
   "source": [
    "Time Complexity: O(s)\n",
    "- sliding windows\n",
    "\n",
    "Space Complexity: O(s)\n",
    "- hashtable"
   ]
  }
 ],
 "metadata": {
  "kernelspec": {
   "display_name": "Python 3",
   "language": "python",
   "name": "python3"
  },
  "language_info": {
   "codemirror_mode": {
    "name": "ipython",
    "version": 3
   },
   "file_extension": ".py",
   "mimetype": "text/x-python",
   "name": "python",
   "nbconvert_exporter": "python",
   "pygments_lexer": "ipython3",
   "version": "3.9.6"
  }
 },
 "nbformat": 4,
 "nbformat_minor": 2
}
