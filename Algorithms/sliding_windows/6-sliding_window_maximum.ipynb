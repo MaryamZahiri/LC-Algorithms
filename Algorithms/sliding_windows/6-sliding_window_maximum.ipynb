{
 "cells": [
  {
   "cell_type": "markdown",
   "metadata": {},
   "source": [
    "## 239. [Sliding Window Maximum](https://leetcode.com/problems/sliding-window-maximum/description/)\n",
    "\n",
    "You are given an array of integers nums, there is a sliding window of size k which is moving from the very left of the array to the very right. You can only see the k numbers in the window. Each time the sliding window moves right by one position.\n",
    "\n",
    "Return the max sliding window."
   ]
  },
  {
   "cell_type": "markdown",
   "metadata": {},
   "source": [
    "### Use Case:\n",
    "\n",
    "<img src=\"https://github.com/user-attachments/assets/79df87ae-b17b-4d61-ae3d-a366eed62ab6\" width=\"460\">\n",
    "<img src=\"https://github.com/user-attachments/assets/84feb9b7-3226-4fb1-b637-c00c0e745fdf\" width=\"460\">"
   ]
  },
  {
   "cell_type": "code",
   "execution_count": 1,
   "metadata": {},
   "outputs": [],
   "source": [
    "import collections\n",
    "\n",
    "class Solution:\n",
    "    def maxSlidingWindow(self, nums, k):\n",
    "        output = []\n",
    "        queue = collections.deque([])\n",
    "        l, r = 0, 0\n",
    "        while r < len(nums):\n",
    "            # pop smaller values from queue\n",
    "            while queue and nums[r] > nums[queue[-1]]:\n",
    "                queue.pop()\n",
    "            queue.append(r)\n",
    "\n",
    "            # remove first value from windows\n",
    "            if l > queue[0]:\n",
    "                queue.popleft()\n",
    "            \n",
    "            if r + 1 >= k:\n",
    "                output.append(nums[queue[0]])\n",
    "                l += 1\n",
    "            r += 1\n",
    "        return output"
   ]
  },
  {
   "cell_type": "code",
   "execution_count": 2,
   "metadata": {},
   "outputs": [
    {
     "name": "stdout",
     "output_type": "stream",
     "text": [
      "[3, 3, 5, 5, 6, 7]\n"
     ]
    }
   ],
   "source": [
    "nums = [1,3,-1,-3,5,3,6,7]\n",
    "solution = Solution()\n",
    "maxSlides = solution.maxSlidingWindow(nums, 3)\n",
    "print(maxSlides)"
   ]
  },
  {
   "cell_type": "markdown",
   "metadata": {},
   "source": [
    "Why Queue:\n",
    "- remove from begining of window, add and remove from top of queue for a constant time O(1)\n",
    "- Monotonic decreasing queue: when we want maximum or minimum in sliding windows\n",
    "\n",
    "Time Complexity: O(N)\n",
    "- Add and Remove from queue takes constant Time O(1)\n",
    "- Number elements in input is N\n",
    "\n",
    "Space Complexity: O(N)\n",
    "- In worst case, we should store all elements in queue"
   ]
  }
 ],
 "metadata": {
  "kernelspec": {
   "display_name": "Python 3",
   "language": "python",
   "name": "python3"
  },
  "language_info": {
   "codemirror_mode": {
    "name": "ipython",
    "version": 3
   },
   "file_extension": ".py",
   "mimetype": "text/x-python",
   "name": "python",
   "nbconvert_exporter": "python",
   "pygments_lexer": "ipython3",
   "version": "3.10.5"
  }
 },
 "nbformat": 4,
 "nbformat_minor": 2
}
