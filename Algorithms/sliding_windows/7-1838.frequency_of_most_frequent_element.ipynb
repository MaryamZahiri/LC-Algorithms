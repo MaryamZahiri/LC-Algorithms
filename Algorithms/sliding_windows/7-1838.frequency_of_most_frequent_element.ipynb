{
 "cells": [
  {
   "cell_type": "markdown",
   "metadata": {},
   "source": [
    "## 1838. [Frequency of most frequent element](https://leetcode.com/problems/frequency-of-the-most-frequent-element/description/)\n",
    "\n",
    "The frequency of an element is the number of times it occurs in an array.\n",
    "\n",
    "You are given an integer array nums and an integer k. In one operation, you can choose an index of nums and increment the element at that index by 1.\n",
    "\n",
    "Return the maximum possible frequency of an element after performing at most k operations."
   ]
  },
  {
   "cell_type": "markdown",
   "metadata": {},
   "source": [
    "Algorithm:\n",
    "- Sort (log(N)) -> look only to left side of element and keep the closest/efficient elements with together\n",
    "- sliding windows (O(N)) linear time -> expand windows with a limit budget of k to turn all elements to nums[r]"
   ]
  },
  {
   "cell_type": "markdown",
   "metadata": {},
   "source": [
    "Use Case:\n",
    "\n",
    "<img src=\"https://github.com/user-attachments/assets/6d62bc6f-0187-46f2-b2e7-b816f1d44de4\" width=\"460\">\n",
    "<img src=\"https://github.com/user-attachments/assets/ae5b9fa9-48e1-4816-a5bb-057831ca8945\" width=\"460\">"
   ]
  },
  {
   "cell_type": "code",
   "execution_count": 7,
   "metadata": {},
   "outputs": [],
   "source": [
    "class Solution:\n",
    "    def maxFrequency(self, nums, k):\n",
    "        nums.sort()\n",
    "        l, r = 0, 0\n",
    "        res, total = 0, 0\n",
    "\n",
    "        while r < len(nums):\n",
    "            total += nums[r]\n",
    "            \n",
    "            # the windows we want to create > the real available window that we have\n",
    "            while nums[r] * (r - l + 1) > total + k:\n",
    "                # Shrink the windows\n",
    "                total -= nums[l]\n",
    "                l += 1\n",
    "            \n",
    "            # Windows is valid and we can update the result\n",
    "            res = max(res, (r - l + 1))\n",
    "            r += 1\n",
    "        \n",
    "        return res"
   ]
  },
  {
   "cell_type": "code",
   "execution_count": 8,
   "metadata": {},
   "outputs": [
    {
     "name": "stdout",
     "output_type": "stream",
     "text": [
      "4\n"
     ]
    }
   ],
   "source": [
    "nums = [1,1,1,2,2,4]\n",
    "k = 2\n",
    "solution = Solution()\n",
    "freq = solution.maxFrequency(nums, k)\n",
    "print(freq)"
   ]
  },
  {
   "cell_type": "markdown",
   "metadata": {},
   "source": [
    "Time Complexity: O(nlogn) sort and sliding windows in linear\n",
    "- eventhough the nested while loop, it goes the total number of input array\n",
    "\n",
    "Space Complexity: O(N)\n",
    "- Sorting Operation (nums.sort()): The sort operation has a space complexity of O(N) due to the need for extra space during the sort proces"
   ]
  }
 ],
 "metadata": {
  "kernelspec": {
   "display_name": "Python 3",
   "language": "python",
   "name": "python3"
  },
  "language_info": {
   "codemirror_mode": {
    "name": "ipython",
    "version": 3
   },
   "file_extension": ".py",
   "mimetype": "text/x-python",
   "name": "python",
   "nbconvert_exporter": "python",
   "pygments_lexer": "ipython3",
   "version": "3.10.5"
  }
 },
 "nbformat": 4,
 "nbformat_minor": 2
}
