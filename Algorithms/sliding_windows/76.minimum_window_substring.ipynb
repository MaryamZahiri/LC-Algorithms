{
 "cells": [
  {
   "cell_type": "markdown",
   "metadata": {},
   "source": [
    "## 76. [Minimum Window Substring](https://leetcode.com/problems/minimum-window-substring/description/)\n",
    "\n",
    "Given two strings s and t of lengths m and n respectively, return the minimum window substring of s such that every character in t (including duplicates) is included in the window. If there is no such substring, return the empty string \"\".\n",
    "\n",
    "The testcases will be generated such that the answer is unique."
   ]
  },
  {
   "cell_type": "markdown",
   "metadata": {},
   "source": [
    "### Use Case\n",
    "\n",
    "<img src=\"https://github.com/MaryamZahiri/LC-Algorithms/assets/52676399/3fde1191-04c4-4b4b-9c24-22caa376b426\" width=\"460\">"
   ]
  },
  {
   "cell_type": "code",
   "execution_count": 1,
   "metadata": {},
   "outputs": [],
   "source": [
    "class Solution:\n",
    "    def minimumWindowSubString(self, s, t):\n",
    "        tDic, windows = {}, {}\n",
    "        for char in t:\n",
    "            tDic[char] = 1 + tDic.get(char, 0)\n",
    "\n",
    "        need, have = len(tDic), 0\n",
    "        windows_length, windows_res = float(\"infinity\"), [-1,-1]\n",
    "        l = 0\n",
    "        for r in range(len(s)):\n",
    "            # create windows dictionary\n",
    "            windows[s[r]] = 1 + windows.get(s[r], 0)\n",
    "\n",
    "            # update have value\n",
    "            if s[r] in tDic and tDic[s[r]] == windows[s[r]]:\n",
    "                have += 1\n",
    "\n",
    "            # reach to the substring condition\n",
    "            while need == have:\n",
    "                # check for minimum length of windows\n",
    "                if r - l + 1 < windows_length:\n",
    "                    windows_res = [l, r]\n",
    "                    windows_length = r - l + 1\n",
    "\n",
    "                # remove left character from windows\n",
    "                windows[s[l]] -= 1\n",
    "                # check windows key and compare it with tDictionay, and update have\n",
    "                if s[l] in tDic and tDic[s[l]] > windows[s[l]]:\n",
    "                    have -= 1\n",
    "\n",
    "                l += 1\n",
    "                \n",
    "        l, r = windows_res\n",
    "        return s[l:r+1]"
   ]
  },
  {
   "cell_type": "code",
   "execution_count": 2,
   "metadata": {},
   "outputs": [
    {
     "name": "stdout",
     "output_type": "stream",
     "text": [
      "BANC\n"
     ]
    }
   ],
   "source": [
    "s, t = \"ADOBECODEBANC\", \"ABC\"\n",
    "solution = Solution()\n",
    "print(solution.minimumWindowSubString(s, t))"
   ]
  },
  {
   "cell_type": "markdown",
   "metadata": {},
   "source": [
    "Time Complexity:\n",
    "- O(n)\n",
    "- add and remove from dictionary, is O(1)\n",
    "- scan all strings is linear time\n",
    "\n",
    "Space Complexity:\n",
    "- O(n)"
   ]
  }
 ],
 "metadata": {
  "kernelspec": {
   "display_name": "Python 3",
   "language": "python",
   "name": "python3"
  },
  "language_info": {
   "codemirror_mode": {
    "name": "ipython",
    "version": 3
   },
   "file_extension": ".py",
   "mimetype": "text/x-python",
   "name": "python",
   "nbconvert_exporter": "python",
   "pygments_lexer": "ipython3",
   "version": "3.9.6"
  }
 },
 "nbformat": 4,
 "nbformat_minor": 2
}
