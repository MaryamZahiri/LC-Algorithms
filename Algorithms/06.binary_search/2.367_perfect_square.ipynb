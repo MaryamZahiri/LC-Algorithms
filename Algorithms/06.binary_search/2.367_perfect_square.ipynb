{
 "cells": [
  {
   "cell_type": "markdown",
   "metadata": {},
   "source": [
    "367. [Valid Perfect Square](https://leetcode.com/problems/valid-perfect-square/description/)\n",
    "\n",
    "Given a positive integer num, return true if num is a perfect square or false otherwise.\n",
    "\n",
    "A perfect square is an integer that is the square of an integer. In other words, it is the product of some integer with itself.\n",
    "\n",
    "You must not use any built-in library function, such as sqrt."
   ]
  },
  {
   "cell_type": "markdown",
   "metadata": {},
   "source": [
    "Use Case:\n",
    "\n",
    "![image](https://github.com/user-attachments/assets/dc62c122-fe30-4042-9f32-5dc115439503)\n",
    "\n",
    "![image](https://github.com/user-attachments/assets/bcf7c597-e52f-49b1-a465-a5acfad4f5e7)"
   ]
  },
  {
   "cell_type": "code",
   "execution_count": 1,
   "metadata": {},
   "outputs": [],
   "source": [
    "class Solution:\n",
    "    def perfectSquare(self, num):\n",
    "        l, r = 0, num\n",
    "\n",
    "        while l <= r:\n",
    "            mid = l + ((r - l) // 2)\n",
    "\n",
    "            if mid * mid < num:\n",
    "                l = mid + 1 \n",
    "            elif mid * mid > num:\n",
    "                r = mid - 1\n",
    "            else: \n",
    "                return True\n",
    "            \n",
    "        return False"
   ]
  },
  {
   "cell_type": "code",
   "execution_count": 2,
   "metadata": {},
   "outputs": [
    {
     "name": "stdout",
     "output_type": "stream",
     "text": [
      "False\n"
     ]
    }
   ],
   "source": [
    "num = 14\n",
    "\n",
    "solution = Solution()\n",
    "perfect = solution.perfectSquare(num)\n",
    "print(perfect)"
   ]
  },
  {
   "cell_type": "markdown",
   "metadata": {},
   "source": [
    "Time Complexity:\n",
    "- O(log n): binary search\n",
    "\n",
    "Space Complexity: \n",
    "- O(1)"
   ]
  }
 ],
 "metadata": {
  "kernelspec": {
   "display_name": "Python 3",
   "language": "python",
   "name": "python3"
  },
  "language_info": {
   "codemirror_mode": {
    "name": "ipython",
    "version": 3
   },
   "file_extension": ".py",
   "mimetype": "text/x-python",
   "name": "python",
   "nbconvert_exporter": "python",
   "pygments_lexer": "ipython3",
   "version": "3.10.5"
  }
 },
 "nbformat": 4,
 "nbformat_minor": 2
}
