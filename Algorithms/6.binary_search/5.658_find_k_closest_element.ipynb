{
 "cells": [
  {
   "cell_type": "markdown",
   "metadata": {},
   "source": [
    "## 658. [Find closest k elements](https://leetcode.com/problems/find-k-closest-elements/description/)\n",
    "\n",
    "Given a sorted integer array arr, two integers k and x, return the k closest integers to x in the array. The result should also be sorted in ascending order.\n",
    "\n",
    "An integer a is closer to x than an integer b if:\n",
    "\n",
    "|a - x| < |b - x|, or\n",
    "\n",
    "|a - x| == |b - x| and a < b"
   ]
  },
  {
   "cell_type": "markdown",
   "metadata": {},
   "source": [
    "Use Case:\n",
    "\n",
    "![image](https://github.com/user-attachments/assets/1543e118-86b3-415a-9f89-79965ca41e92)\n",
    "\n",
    "![image](https://github.com/user-attachments/assets/9917d5c1-48ce-4749-9e42-8a66f4c87f73)"
   ]
  },
  {
   "cell_type": "code",
   "execution_count": 1,
   "metadata": {},
   "outputs": [],
   "source": [
    "class Solution:\n",
    "    def closestKElement(self, arr, k, x):\n",
    "        l, r = 0, len(arr) - k\n",
    "        # edge case\n",
    "        if len(arr) == k:\n",
    "            return arr\n",
    "        \n",
    "        while l < r:\n",
    "            # left most val of windows\n",
    "            mid = l + ((r - l)//2)\n",
    "\n",
    "            if x - arr[mid] > arr[mid + k] - x:\n",
    "                l = mid + 1\n",
    "            else:\n",
    "                r = mid\n",
    "            \n",
    "        return arr[l:l+k]"
   ]
  },
  {
   "cell_type": "code",
   "execution_count": 2,
   "metadata": {},
   "outputs": [
    {
     "name": "stdout",
     "output_type": "stream",
     "text": [
      "[4, 5]\n"
     ]
    }
   ],
   "source": [
    "arr = [1,2,3,4,5]\n",
    "k, x = 2, 6\n",
    "solution = Solution()\n",
    "print(solution.closestKElement(arr, k, x))"
   ]
  },
  {
   "cell_type": "markdown",
   "metadata": {},
   "source": [
    "Time Complexity:\n",
    "- O(log(n - k) + k): \n",
    "    - Binary search O(log n - k)\n",
    "    - Linear Scan O(k): After finding the insertion point, we need to scan through the next (K) elements to find the actual closest elements. This step takes (O(K)) time because it iterates over (K) elements\n",
    "\n",
    "Space Complexity:\n",
    "- O(1)"
   ]
  }
 ],
 "metadata": {
  "kernelspec": {
   "display_name": "Python 3",
   "language": "python",
   "name": "python3"
  },
  "language_info": {
   "codemirror_mode": {
    "name": "ipython",
    "version": 3
   },
   "file_extension": ".py",
   "mimetype": "text/x-python",
   "name": "python",
   "nbconvert_exporter": "python",
   "pygments_lexer": "ipython3",
   "version": "3.9.6"
  }
 },
 "nbformat": 4,
 "nbformat_minor": 2
}
