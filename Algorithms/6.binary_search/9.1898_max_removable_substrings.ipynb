{
 "cells": [
  {
   "cell_type": "markdown",
   "metadata": {},
   "source": [
    "## 1898. [Maximum Number of Removable Characters](https://leetcode.com/problems/maximum-number-of-removable-characters/description/)\n",
    "\n",
    "You are given two strings s and p where p is a subsequence of s. You are also given a distinct 0-indexed integer array removable containing a subset of indices of s (s is also 0-indexed).\n",
    "\n",
    "You want to choose an integer k (0 <= k <= removable.length) such that, after removing k characters from s using the first k indices in removable, p is still a subsequence of s. More formally, you will mark the character at s[removable[i]] for each 0 <= i < k, then remove all marked characters and check if p is still a subsequence.\n",
    "\n",
    "Return the maximum k you can choose such that p is still a subsequence of s after the removals.\n",
    "\n",
    "A subsequence of a string is a new string generated from the original string with some characters (can be none) deleted without changing the relative order of the remaining characters.\n",
    "\n",
    " \n",
    "\n",
    "Example 1:\n",
    "\n",
    "Input: s = \"abcacb\", p = \"ab\", removable = [3,1,0]\n",
    "\n",
    "Output: 2\n",
    "\n",
    "Explanation: After removing the characters at indices 3 and 1, \"abcacb\" becomes \"accb\".\n",
    "\n",
    "\"ab\" is a subsequence of \"accb\".\n",
    "\n",
    "If we remove the characters at indices 3, 1, and 0, \"abcacb\" becomes \"ccb\", and \"ab\" is no longer a subsequence.\n",
    "\n",
    "Hence, the maximum k is 2."
   ]
  },
  {
   "cell_type": "code",
   "execution_count": 6,
   "metadata": {},
   "outputs": [],
   "source": [
    "class Solution:\n",
    "    def maxRemovableSub(self, s, p, removable):\n",
    "        def isSubstring(s, subS):\n",
    "            s_idx, sub_idx = 0, 0\n",
    "\n",
    "            while s_idx < len(s) and sub_idx < len(subS):\n",
    "                # check if need to skip\n",
    "                if s_idx in removed or s[s_idx] != subS[sub_idx]:\n",
    "                    s_idx += 1\n",
    "                    continue\n",
    "\n",
    "                # a match is found\n",
    "                s_idx += 1\n",
    "                sub_idx += 1\n",
    "            return sub_idx == len(subS)\n",
    "        \n",
    "        l, r = 0, len(removable) - 1\n",
    "        res = 0\n",
    "        while l <= r:\n",
    "            m = l + ((r - l) // 2)\n",
    "            removed = set(removable[:m+1])\n",
    "            if isSubstring(s, p):\n",
    "                res = max(res, m + 1)\n",
    "                l = m + 1\n",
    "            else:\n",
    "                r = m - 1\n",
    "        return res"
   ]
  },
  {
   "cell_type": "code",
   "execution_count": 7,
   "metadata": {},
   "outputs": [
    {
     "name": "stdout",
     "output_type": "stream",
     "text": [
      "2\n"
     ]
    }
   ],
   "source": [
    "s = \"abcacb\"\n",
    "p = \"ab\"\n",
    "removable = [3, 1, 0]\n",
    "solution = Solution()\n",
    "print(solution.maxRemovableSub(s, p, removable))"
   ]
  },
  {
   "cell_type": "markdown",
   "metadata": {},
   "source": [
    "Time Complexity: O(N log(N))\n",
    "- O(N): iterate through s\n",
    "- O(log N): binary search in removable\n",
    "\n",
    "Space Complexity: O(R)\n",
    "- Length of Removable at worst"
   ]
  }
 ],
 "metadata": {
  "kernelspec": {
   "display_name": "Python 3",
   "language": "python",
   "name": "python3"
  },
  "language_info": {
   "codemirror_mode": {
    "name": "ipython",
    "version": 3
   },
   "file_extension": ".py",
   "mimetype": "text/x-python",
   "name": "python",
   "nbconvert_exporter": "python",
   "pygments_lexer": "ipython3",
   "version": "3.9.6"
  }
 },
 "nbformat": 4,
 "nbformat_minor": 2
}
