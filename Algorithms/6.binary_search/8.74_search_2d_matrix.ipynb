{
 "cells": [
  {
   "cell_type": "markdown",
   "metadata": {},
   "source": [
    "74. [Search a 2D Matrix](https://leetcode.com/problems/search-a-2d-matrix/description/)\n",
    "\n",
    "You are given an m x n integer matrix matrix with the following two properties:\n",
    "\n",
    "Each row is sorted in non-decreasing order.\n",
    "The first integer of each row is greater than the last integer of the previous row.\n",
    "Given an integer target, return true if target is in matrix or false otherwise.\n",
    "\n",
    "You must write a solution in O(log(m * n)) time complexity."
   ]
  },
  {
   "cell_type": "code",
   "execution_count": 6,
   "metadata": {},
   "outputs": [],
   "source": [
    "class Solution:\n",
    "    def searchMatrix(self, matrix, target):\n",
    "        # edge case: invalid target\n",
    "        if matrix[-1][-1] < target or matrix[0][0] > target: return False\n",
    "\n",
    "        l, r = 0, len(matrix) - 1\n",
    "        while l <= r:\n",
    "            mid = l + ((r - l) // 2)\n",
    "            if matrix[mid][-1] < target: l = mid + 1\n",
    "            elif matrix[mid][0] > target: r = mid - 1\n",
    "            else: break\n",
    "\n",
    "        row = mid\n",
    "        l, r = 0, len(matrix[0]) - 1\n",
    "        while l <= r:\n",
    "            mid = l + ((r - l)//2)\n",
    "            if matrix[row][mid] < target: l = mid + 1\n",
    "            elif matrix[row][mid] > target: r = mid - 1\n",
    "            else: return True\n",
    "        return False"
   ]
  },
  {
   "cell_type": "code",
   "execution_count": 7,
   "metadata": {},
   "outputs": [
    {
     "name": "stdout",
     "output_type": "stream",
     "text": [
      "True\n"
     ]
    }
   ],
   "source": [
    "matrix = [[1,2],[3,4],[5,6]]\n",
    "target = 3\n",
    "solution = Solution()\n",
    "print(solution.searchMatrix(matrix, target))"
   ]
  },
  {
   "cell_type": "markdown",
   "metadata": {},
   "source": [
    "Time Complexity:\n",
    "- O(log n): binary search\n",
    "\n",
    "Space Complexity:\n",
    "- O(1)"
   ]
  }
 ],
 "metadata": {
  "kernelspec": {
   "display_name": "Python 3",
   "language": "python",
   "name": "python3"
  },
  "language_info": {
   "codemirror_mode": {
    "name": "ipython",
    "version": 3
   },
   "file_extension": ".py",
   "mimetype": "text/x-python",
   "name": "python",
   "nbconvert_exporter": "python",
   "pygments_lexer": "ipython3",
   "version": "3.10.5"
  }
 },
 "nbformat": 4,
 "nbformat_minor": 2
}
