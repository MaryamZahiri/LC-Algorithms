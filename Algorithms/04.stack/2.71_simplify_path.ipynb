{
 "cells": [
  {
   "cell_type": "markdown",
   "metadata": {},
   "source": [
    "71. [Simplify Path](https://leetcode.com/problems/simplify-path/description/)\n",
    "\n",
    "You are given an absolute path for a Unix-style file system, which always begins with a slash '/'. Your task is to transform this absolute path into its simplified canonical path.\n",
    "\n",
    "The rules of a Unix-style file system are as follows:\n",
    "\n",
    "A single period '.' represents the current directory.\n",
    "\n",
    "A double period '..' represents the previous/parent directory.\n",
    "\n",
    "Multiple consecutive slashes such as '//' and '///' are treated as a single slash '/'.\n",
    "\n",
    "Any sequence of periods that does not match the rules above should be treated as a valid directory or file name. For example, '...' and '....' are valid directory or file names.\n",
    "\n",
    "The simplified canonical path should follow these rules:\n",
    "\n",
    "The path must start with a single slash '/'.\n",
    "\n",
    "Directories within the path must be separated by exactly one slash '/'.\n",
    "\n",
    "The path must not end with a slash '/', unless it is the root directory.\n",
    "\n",
    "The path must not have any single or double periods ('.' and '..') used to denote current or parent directories.\n",
    "Return the simplified canonical path."
   ]
  },
  {
   "cell_type": "markdown",
   "metadata": {},
   "source": [
    "Use Case:\n",
    "\n",
    "![image](https://github.com/user-attachments/assets/1ba4e456-53a0-4ed2-9ad3-e01e4897ccdc)"
   ]
  },
  {
   "cell_type": "code",
   "execution_count": 1,
   "metadata": {},
   "outputs": [],
   "source": [
    "class Solution:\n",
    "    def simplifyPath(self, path: str) -> str:\n",
    "        stack = []\n",
    "        cur = \"\"\n",
    "\n",
    "        for c in path + \"/\":\n",
    "            if c == \"/\":\n",
    "                if cur == \"..\":\n",
    "                    # pop from top of stack\n",
    "                    if stack: stack.pop()\n",
    "                elif cur != \"\" and cur != \".\":\n",
    "                    stack.append(cur)\n",
    "                # ignore all /// and file name starts\n",
    "                cur = \"\"\n",
    "            else:\n",
    "                # restore file names\n",
    "                cur += c\n",
    "\n",
    "        return \"/\" + \"/\".join(stack)\n",
    "        "
   ]
  },
  {
   "cell_type": "code",
   "execution_count": 2,
   "metadata": {},
   "outputs": [
    {
     "data": {
      "text/plain": [
       "'/a/...'"
      ]
     },
     "execution_count": 2,
     "metadata": {},
     "output_type": "execute_result"
    }
   ],
   "source": [
    "path = \"/a/b/c/../.././...///\"\n",
    "sol = Solution()\n",
    "sol.simplifyPath(path)"
   ]
  },
  {
   "cell_type": "markdown",
   "metadata": {},
   "source": [
    "Time Complexity:\n",
    "- O(N)\n",
    "- go through all characters\n",
    "- call stack\n",
    "\n",
    "Space Complexity:\n",
    "- O(N)\n",
    "- stack space"
   ]
  }
 ],
 "metadata": {
  "kernelspec": {
   "display_name": "Python 3",
   "language": "python",
   "name": "python3"
  },
  "language_info": {
   "codemirror_mode": {
    "name": "ipython",
    "version": 3
   },
   "file_extension": ".py",
   "mimetype": "text/x-python",
   "name": "python",
   "nbconvert_exporter": "python",
   "pygments_lexer": "ipython3",
   "version": "3.10.5"
  }
 },
 "nbformat": 4,
 "nbformat_minor": 2
}
