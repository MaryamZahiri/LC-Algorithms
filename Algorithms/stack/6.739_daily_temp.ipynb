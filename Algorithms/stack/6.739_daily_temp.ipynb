{
 "cells": [
  {
   "cell_type": "markdown",
   "metadata": {},
   "source": [
    "739. [Daily Temperatures](https://leetcode.com/problems/daily-temperatures/description/)\n",
    "\n",
    "Given an array of integers temperatures represents the daily temperatures, return an array answer such that answer[i] is the number of days you have to wait after the ith day to get a warmer temperature. If there is no future day for which this is possible, keep answer[i] == 0 instead."
   ]
  },
  {
   "cell_type": "markdown",
   "metadata": {},
   "source": [
    "Algorithm \n",
    "\n",
    "monotonic stack"
   ]
  },
  {
   "cell_type": "markdown",
   "metadata": {},
   "source": [
    "Use case \n",
    "\n",
    "![image](https://github.com/user-attachments/assets/d3e1ca4f-b945-4cf5-985c-967061037992)"
   ]
  },
  {
   "cell_type": "code",
   "execution_count": 1,
   "metadata": {},
   "outputs": [],
   "source": [
    "class Solution:\n",
    "    def dailyTemperatures(self, temperatures):\n",
    "        stack = []\n",
    "        res = [0] * len(temperatures)\n",
    "\n",
    "        for i, t in enumerate(temperatures):\n",
    "            while stack and t > stack[-1][1]:\n",
    "                idx = stack[-1][0]\n",
    "                stack.pop()\n",
    "                res[idx] = i - idx\n",
    "            stack.append((i, t))\n",
    "\n",
    "        return res"
   ]
  },
  {
   "cell_type": "code",
   "execution_count": 3,
   "metadata": {},
   "outputs": [
    {
     "data": {
      "text/plain": [
       "[1, 1, 3, 2, 1, 0, 0]"
      ]
     },
     "execution_count": 3,
     "metadata": {},
     "output_type": "execute_result"
    }
   ],
   "source": [
    "temp = [74, 75, 76, 72, 69, 78, 73]\n",
    "sol = Solution()\n",
    "sol.dailyTemperatures(temp)"
   ]
  },
  {
   "cell_type": "markdown",
   "metadata": {},
   "source": [
    "Time complexity: O(N)\n",
    "\n",
    "- At first glance, it may look like the time complexity of this algorithm should be O(N^2), because there is a nested while loop inside the for loop. However, each element can only be added to the stack once, which means the stack is limited to N pops. Every iteration of the while loop uses 1 pop, which means the while loop will not iterate more than N times in total, across all iterations of the for loop.\n",
    "\n",
    "An easier way to think about this is that in the worst case, every element will be pushed and popped once. This gives a time complexity of O(2⋅N)=O(N).\n",
    "\n",
    "Space Complexity: O(N) \n",
    "- in worst case, no element will pop"
   ]
  }
 ],
 "metadata": {
  "kernelspec": {
   "display_name": "Python 3",
   "language": "python",
   "name": "python3"
  },
  "language_info": {
   "codemirror_mode": {
    "name": "ipython",
    "version": 3
   },
   "file_extension": ".py",
   "mimetype": "text/x-python",
   "name": "python",
   "nbconvert_exporter": "python",
   "pygments_lexer": "ipython3",
   "version": "3.10.5"
  }
 },
 "nbformat": 4,
 "nbformat_minor": 2
}
