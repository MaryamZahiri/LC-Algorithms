{
 "cells": [
  {
   "cell_type": "markdown",
   "metadata": {},
   "source": [
    "735. [Asteroid Collision](https://leetcode.com/problems/asteroid-collision/description/)\n",
    "\n",
    "We are given an array asteroids of integers representing asteroids in a row.\n",
    "\n",
    "For each asteroid, the absolute value represents its size, and the sign represents its direction (positive meaning right, negative meaning left). Each asteroid moves at the same speed.\n",
    "\n",
    "Find out the state of the asteroids after all collisions. If two asteroids meet, the smaller one will explode. If both are the same size, both will explode. Two asteroids moving in the same direction will never meet."
   ]
  },
  {
   "cell_type": "markdown",
   "metadata": {},
   "source": [
    "Use case:\n",
    "\n",
    "![image](https://github.com/user-attachments/assets/2b8b81bc-d79d-49e6-915e-17097d30b6ed)"
   ]
  },
  {
   "cell_type": "code",
   "execution_count": 1,
   "metadata": {},
   "outputs": [],
   "source": [
    "class Solution:\n",
    "    def asteroidCollision(self, asteroids):\n",
    "        stack = []\n",
    "\n",
    "        for a in asteroids:\n",
    "            while stack and a < 0 and stack[-1] > 0:\n",
    "                diff = a + stack[-1] \n",
    "                if diff > 0:\n",
    "                    a = 0\n",
    "                elif diff < 0:\n",
    "                    stack.pop()\n",
    "                else:\n",
    "                    stack.pop()\n",
    "                    a = 0\n",
    "            if a: stack.append(a)\n",
    "\n",
    "        return stack"
   ]
  },
  {
   "cell_type": "code",
   "execution_count": 2,
   "metadata": {},
   "outputs": [
    {
     "data": {
      "text/plain": [
       "[5, 10]"
      ]
     },
     "execution_count": 2,
     "metadata": {},
     "output_type": "execute_result"
    }
   ],
   "source": [
    "asteroids = [5,10,-5]\n",
    "sol = Solution()\n",
    "sol.asteroidCollision(asteroids)\n"
   ]
  },
  {
   "cell_type": "markdown",
   "metadata": {},
   "source": [
    "Time Complexity:\n",
    "O(n)\n",
    "- every element will be pushed and popped once\n",
    "- each element can only be added to the stack once\n",
    "- This gives a time complexity of O(2⋅N)=O(N).\n",
    "\n",
    "Space Complexity:\n",
    "O(n)"
   ]
  }
 ],
 "metadata": {
  "kernelspec": {
   "display_name": "Python 3",
   "language": "python",
   "name": "python3"
  },
  "language_info": {
   "codemirror_mode": {
    "name": "ipython",
    "version": 3
   },
   "file_extension": ".py",
   "mimetype": "text/x-python",
   "name": "python",
   "nbconvert_exporter": "python",
   "pygments_lexer": "ipython3",
   "version": "3.10.5"
  }
 },
 "nbformat": 4,
 "nbformat_minor": 2
}
