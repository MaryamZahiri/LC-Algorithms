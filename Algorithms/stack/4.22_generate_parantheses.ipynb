{
 "cells": [
  {
   "cell_type": "markdown",
   "metadata": {},
   "source": [
    "22. [Generate Parentheses](https://leetcode.com/problems/generate-parentheses/description/)\n",
    "\n",
    "Given n pairs of parentheses, write a function to generate all combinations of well-formed parentheses.\n",
    "\n",
    " \n",
    "Example 1:\n",
    "\n",
    "Input: n = 3\n",
    "\n",
    "Output: [\"((()))\",\"(()())\",\"(())()\",\"()(())\",\"()()()\"]"
   ]
  },
  {
   "cell_type": "code",
   "execution_count": 1,
   "metadata": {},
   "outputs": [],
   "source": [
    "class Solution:\n",
    "    def generateParenthesis(self, n: int):\n",
    "        stack = []\n",
    "        res = []\n",
    "\n",
    "        def backtrack(openN, closeN):\n",
    "            if openN == closeN == n:\n",
    "                res.append(\"\".join(stack))\n",
    "                return\n",
    "\n",
    "            if openN <= n: \n",
    "                stack.append('(')\n",
    "                backtrack(openN + 1, closeN)\n",
    "                stack.pop()\n",
    "\n",
    "            if closeN < openN:\n",
    "                stack.append(')')\n",
    "                backtrack(openN, closeN + 1)\n",
    "                stack.pop()\n",
    "        \n",
    "        backtrack(0,0)\n",
    "        return res"
   ]
  },
  {
   "cell_type": "code",
   "execution_count": 2,
   "metadata": {},
   "outputs": [
    {
     "data": {
      "text/plain": [
       "['((()))', '(()())', '(())()', '()(())', '()()()']"
      ]
     },
     "execution_count": 2,
     "metadata": {},
     "output_type": "execute_result"
    }
   ],
   "source": [
    "n = 3\n",
    "sol = Solution()\n",
    "sol.generateParenthesis(n)"
   ]
  },
  {
   "cell_type": "markdown",
   "metadata": {},
   "source": [
    "Space complexity: O(n)\n",
    "\n",
    "- The space complexity of a recursive call depends on the maximum depth of the recursive call stack, which is 2n. As each recursive call either adds a left parenthesis or a right parenthesis, and the total number of parentheses is 2n. Therefore, at most O(n) levels of recursion will be created, and each level consumes a constant amount of space."
   ]
  }
 ],
 "metadata": {
  "kernelspec": {
   "display_name": "Python 3",
   "language": "python",
   "name": "python3"
  },
  "language_info": {
   "codemirror_mode": {
    "name": "ipython",
    "version": 3
   },
   "file_extension": ".py",
   "mimetype": "text/x-python",
   "name": "python",
   "nbconvert_exporter": "python",
   "pygments_lexer": "ipython3",
   "version": "3.9.6"
  }
 },
 "nbformat": 4,
 "nbformat_minor": 2
}
