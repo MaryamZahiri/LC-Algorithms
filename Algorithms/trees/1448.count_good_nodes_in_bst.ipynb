{
 "cells": [
  {
   "cell_type": "code",
   "execution_count": 2,
   "metadata": {},
   "outputs": [],
   "source": [
    "class TreeNodes:\n",
    "    def __init__(self, val=0, left=None, right=None):\n",
    "        self.val = val\n",
    "        self.left = left\n",
    "        self.right = right"
   ]
  },
  {
   "cell_type": "code",
   "execution_count": 3,
   "metadata": {},
   "outputs": [],
   "source": [
    "class Solution:\n",
    "    def goodNodes(self, root: TreeNodes):\n",
    "        def dfs(node, max_path):\n",
    "            # empty tree doesnt have good nodes\n",
    "            if not node: return 0\n",
    "\n",
    "            # Number of good nodes\n",
    "            counter = 1 if node.val >= max_path else 0\n",
    "            # Update max node in path\n",
    "            max_path = max(max_path, node.val)\n",
    "\n",
    "            left = dfs(node.left, max_path)\n",
    "            right = dfs(node.right, max_path)\n",
    "\n",
    "            return counter + left + right\n",
    "        \n",
    "        return dfs(root, root.val)"
   ]
  }
 ],
 "metadata": {
  "kernelspec": {
   "display_name": "Python 3",
   "language": "python",
   "name": "python3"
  },
  "language_info": {
   "codemirror_mode": {
    "name": "ipython",
    "version": 3
   },
   "file_extension": ".py",
   "mimetype": "text/x-python",
   "name": "python",
   "nbconvert_exporter": "python",
   "pygments_lexer": "ipython3",
   "version": "3.10.5"
  }
 },
 "nbformat": 4,
 "nbformat_minor": 2
}
