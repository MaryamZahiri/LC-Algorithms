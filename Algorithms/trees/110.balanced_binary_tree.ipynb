{
 "cells": [
  {
   "cell_type": "markdown",
   "metadata": {},
   "source": [
    "<!-- Todo -->\n",
    "convert array to tree"
   ]
  },
  {
   "cell_type": "code",
   "execution_count": 71,
   "metadata": {},
   "outputs": [],
   "source": [
    "class TreeNode:\n",
    "    def __init__(self, val=0, left=None, right=None):\n",
    "        self.val = val\n",
    "        self.left = left\n",
    "        self.right = right\n",
    "    \n",
    "    def list_to_tree(self, lst):\n",
    "        if not list: return None\n",
    "\n",
    "        # The first element is the root\n",
    "        root = TreeNode(lst[0])\n",
    "        # Initialize pointers for left and right children\n",
    "        queue = [root]\n",
    "        i = 0\n",
    "\n",
    "        while queue and i < len(lst):\n",
    "            current = queue.pop(0)\n",
    "            # If the next element exists, make it the left child\n",
    "            if i + 1 < len(lst):\n",
    "                current.left = TreeNode(lst[i+1])\n",
    "                queue.append(current.left)\n",
    "                print(current.left.val)\n",
    "            # If the next 2 element exists, make it the right child\n",
    "            if i + 2 < len(lst):\n",
    "                current.right = TreeNode(lst[i+2])\n",
    "                queue.append(current.right)\n",
    "                print(current.right.val)\n",
    "            if i + 2 < len(lst): i += 2\n",
    "            elif i + 1 < len(lst): i += 1\n",
    "\n",
    "        return root"
   ]
  },
  {
   "cell_type": "markdown",
   "metadata": {},
   "source": [
    "Main Class:"
   ]
  },
  {
   "cell_type": "code",
   "execution_count": 72,
   "metadata": {},
   "outputs": [],
   "source": [
    "class Solution:\n",
    "    def isBalance(self, root: TreeNode):\n",
    "        # Output: [is_balanced, height]\n",
    "        def dfs(root):\n",
    "            # base case: Empty tree\n",
    "            if not root: return [True, 0]\n",
    "            \n",
    "            left, right = dfs(root.left), dfs(root.right)\n",
    "\n",
    "            # Update outputs\n",
    "            balanced = (left[0] and right[0]\n",
    "                        and abs(left[1] - right[1]) <= 1)\n",
    "            height = 1 + max(left[1], right[1])\n",
    "\n",
    "            return [balanced, height]\n",
    "        \n",
    "        return dfs(root)[0]"
   ]
  },
  {
   "cell_type": "code",
   "execution_count": 74,
   "metadata": {},
   "outputs": [
    {
     "name": "stdout",
     "output_type": "stream",
     "text": [
      "2\n",
      "2\n",
      "3\n",
      "3\n",
      "None\n",
      "None\n",
      "4\n",
      "4\n"
     ]
    },
    {
     "data": {
      "text/plain": [
       "True"
      ]
     },
     "execution_count": 74,
     "metadata": {},
     "output_type": "execute_result"
    }
   ],
   "source": [
    "root = [1,2,2,3,3,None,None,4,4]\n",
    "tree = TreeNode()\n",
    "root = tree.list_to_tree(root)\n",
    "solution = Solution()\n",
    "solution.isBalance(root)"
   ]
  }
 ],
 "metadata": {
  "kernelspec": {
   "display_name": "Python 3",
   "language": "python",
   "name": "python3"
  },
  "language_info": {
   "codemirror_mode": {
    "name": "ipython",
    "version": 3
   },
   "file_extension": ".py",
   "mimetype": "text/x-python",
   "name": "python",
   "nbconvert_exporter": "python",
   "pygments_lexer": "ipython3",
   "version": "3.9.6"
  }
 },
 "nbformat": 4,
 "nbformat_minor": 2
}
