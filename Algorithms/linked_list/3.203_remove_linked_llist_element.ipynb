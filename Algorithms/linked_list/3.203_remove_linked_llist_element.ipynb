{
 "cells": [
  {
   "cell_type": "markdown",
   "metadata": {},
   "source": [
    "203. [Remove Linked List Elements](https://leetcode.com/problems/remove-linked-list-elements/description/)\n",
    "\n",
    "Given the head of a linked list and an integer val, remove all the nodes of the linked list that has Node.val == val, and return the new head."
   ]
  },
  {
   "cell_type": "markdown",
   "metadata": {},
   "source": [
    "### Use Case:\n"
   ]
  },
  {
   "cell_type": "markdown",
   "metadata": {},
   "source": [
    "Algorithm:\n",
    "2 pointers"
   ]
  },
  {
   "cell_type": "code",
   "execution_count": null,
   "metadata": {},
   "outputs": [],
   "source": [
    "class ListNode:\n",
    "    def __init__(self, val= 0, next = None):\n",
    "        self.val = val\n",
    "        self.next = next"
   ]
  },
  {
   "cell_type": "code",
   "execution_count": null,
   "metadata": {},
   "outputs": [],
   "source": [
    "class Solution:\n",
    "    def removeElements(self, head, val):\n",
    "        dummy = ListNode(next=head)\n",
    "        pre, cur = dummy, head\n",
    "\n",
    "        while cur:\n",
    "            nxt = cur.next\n",
    "\n",
    "            if cur.val == val:\n",
    "                pre.next = nxt\n",
    "            else:\n",
    "                pre = cur\n",
    "\n",
    "            cur = nxt\n",
    "\n",
    "        return dummy.next"
   ]
  },
  {
   "cell_type": "markdown",
   "metadata": {},
   "source": [
    "Time Complexity:\n",
    "- O(N) list's length\n",
    "Space Complexity:\n",
    "- O(1) No space allocated for 2 pointers"
   ]
  }
 ],
 "metadata": {
  "language_info": {
   "name": "python"
  }
 },
 "nbformat": 4,
 "nbformat_minor": 2
}
