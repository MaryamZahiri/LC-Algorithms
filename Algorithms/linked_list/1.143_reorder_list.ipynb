{
 "cells": [
  {
   "cell_type": "markdown",
   "metadata": {},
   "source": [
    "## 143. [Reorder List](https://leetcode.com/problems/reorder-list/description/)\n",
    "\n",
    "You are given the head of a singly linked-list. The list can be represented as:\n",
    "\n",
    "L0 → L1 → … → Ln - 1 → Ln\n",
    "\n",
    "Reorder the list to be on the following form:\n",
    "\n",
    "L0 → Ln → L1 → Ln - 1 → L2 → Ln - 2 → …\n",
    "\n",
    "You may not modify the values in the list's nodes. Only nodes themselves may be changed."
   ]
  },
  {
   "cell_type": "markdown",
   "metadata": {},
   "source": [
    "Solution - Reverse the Second Part of the List and Merge Two Sorted Lists\n",
    "Overview:\n",
    "- [Find middle of the linked list](https://leetcode.com/problems/middle-of-the-linked-list/description/)\n",
    "- [Reverse linked list](https://leetcode.com/problems/reverse-linked-list/description/)\n",
    "- [Merge two sorted list](https://leetcode.com/problems/merge-two-sorted-lists/description/)"
   ]
  },
  {
   "cell_type": "markdown",
   "metadata": {},
   "source": [
    "<img src=\"https://github.com/user-attachments/assets/cb4eb684-eb4f-4f02-be08-55fe97d27946\" width=\"460\">\n",
    "\n",
    "1. Find a Middle Node\n",
    "\n",
    "<img src=\"https://github.com/user-attachments/assets/f2db4b3a-ceff-41f5-8355-6a36be3652e5\" width=\"460\">\n",
    "\n",
    "2. Reverse the second part of list\n",
    "\n",
    "<img src=\"https://github.com/user-attachments/assets/a28e1d25-a9ee-4e71-ae86-7f887bbd5e70\" width=\"460\">\n",
    "\n",
    "3. Merge two sorted lists\n",
    "\n",
    "<img src=\"https://github.com/user-attachments/assets/0c58d9d5-8f83-4bf2-9572-1a5a67368a9d\" width=\"460\">"
   ]
  },
  {
   "cell_type": "code",
   "execution_count": null,
   "metadata": {},
   "outputs": [],
   "source": [
    "class ListNode:\n",
    "    def __init__(self, val=0, next=None):\n",
    "        self.val = val\n",
    "        self.next = next"
   ]
  },
  {
   "cell_type": "code",
   "execution_count": null,
   "metadata": {},
   "outputs": [],
   "source": [
    "class Solution:\n",
    "    \"\"\"\n",
    "        Do not return anything, modify head in-place instead.\n",
    "    \"\"\"\n",
    "    def reorderList(self, head):\n",
    "        # Find middle of list\n",
    "        slow = fast = head\n",
    "        while fast and fast.next:\n",
    "            slow = slow.next\n",
    "            fast = fast.next.next\n",
    "        middle = slow\n",
    "\n",
    "        # Reverse the second list\n",
    "        pre, cur = None, slow\n",
    "        while cur:\n",
    "            next_node = cur.next\n",
    "            cur.next = pre\n",
    "            pre = cur\n",
    "            cur = next_node \n",
    "\n",
    "        # Merge 2nd part of list\n",
    "        first, second = head, pre\n",
    "        while second.next:\n",
    "            next_node = first.next\n",
    "            first.next = second\n",
    "            first = next_node\n",
    "\n",
    "            next_node = second.next\n",
    "            second.next = first\n",
    "            second = next_node"
   ]
  },
  {
   "cell_type": "markdown",
   "metadata": {},
   "source": [
    "Time Complexity:\n",
    "- O(N): \n",
    "    - Middle of node takes O(N)\n",
    "    - Reverse the second part of list is O(N/2)\n",
    "    - Merge two lists O(N/2)\n",
    "\n",
    "Space Complexity:\n",
    "- O(1): not allocated extra data structure "
   ]
  }
 ],
 "metadata": {
  "language_info": {
   "name": "python"
  }
 },
 "nbformat": 4,
 "nbformat_minor": 2
}
