{
 "cells": [
  {
   "cell_type": "markdown",
   "metadata": {},
   "source": [
    "## 234. [Palindrome Linked List](https://leetcode.com/problems/palindrome-linked-list/description/)\n",
    "\n",
    "Given the head of a singly linked list, return true if it is a \n",
    "palindrome or false otherwise."
   ]
  },
  {
   "cell_type": "markdown",
   "metadata": {},
   "source": [
    "### Use Cases:\n",
    "<img src=\"https://github.com/user-attachments/assets/e6be95f3-14cb-4ee0-9d45-c280da1ceb5f\" width=\"460\"><br>\n",
    "\n",
    "<img src=\"https://github.com/user-attachments/assets/1895a198-3382-4182-8ab9-c5e5e07abf44\" width=\"460\"><br>"
   ]
  },
  {
   "cell_type": "code",
   "execution_count": 1,
   "metadata": {},
   "outputs": [],
   "source": [
    "class ListNode:\n",
    "    def __init__(self, val = 0, next = None):\n",
    "        self.val = val\n",
    "        self.next = next"
   ]
  },
  {
   "cell_type": "code",
   "execution_count": 6,
   "metadata": {},
   "outputs": [],
   "source": [
    "class Solution:\n",
    "    def isPalindrome(self, head):\n",
    "        def findMiddle(head):\n",
    "            slow = fast = head\n",
    "            while fast and fast.next:\n",
    "                slow = slow.next \n",
    "                fast = fast.next\n",
    "            return slow\n",
    "        \n",
    "        def reverseSecondHalf(head):\n",
    "            pre, cur = None, head\n",
    "\n",
    "            while cur:\n",
    "                nxt = cur.next\n",
    "                cur.next = pre\n",
    "                pre = cur \n",
    "                cur = nxt\n",
    "\n",
    "            return pre\n",
    "        \n",
    "        middle = findMiddle(head)\n",
    "        reversed_head = reverseSecondHalf(middle)\n",
    "\n",
    "        left, right = head, reversed_head\n",
    "        while right:\n",
    "            if left.val != right.val:\n",
    "                return False\n",
    "            left = left.next\n",
    "            right = right.next\n",
    "\n",
    "        return True"
   ]
  },
  {
   "cell_type": "code",
   "execution_count": 19,
   "metadata": {},
   "outputs": [
    {
     "name": "stdout",
     "output_type": "stream",
     "text": [
      "1\n",
      "2\n",
      "0\n",
      "2\n",
      "1\n",
      "True\n"
     ]
    }
   ],
   "source": [
    "heads = [1,2,0,2,1]\n",
    "head = ListNode(heads[0])\n",
    "for i, h in enumerate(heads, start=1):\n",
    "    print(h)\n",
    "    nxt = ListNode(h)\n",
    "    head.next = nxt \n",
    "is_palindrome = Solution().isPalindrome(head)\n",
    "print(is_palindrome)"
   ]
  },
  {
   "cell_type": "markdown",
   "metadata": {},
   "source": [
    "Time Complexity:\n",
    "- O(N): list's length\n",
    "\n",
    "Space Complexity:\n",
    "- O(1): No allocation for Pointers "
   ]
  }
 ],
 "metadata": {
  "kernelspec": {
   "display_name": "Python 3",
   "language": "python",
   "name": "python3"
  },
  "language_info": {
   "codemirror_mode": {
    "name": "ipython",
    "version": 3
   },
   "file_extension": ".py",
   "mimetype": "text/x-python",
   "name": "python",
   "nbconvert_exporter": "python",
   "pygments_lexer": "ipython3",
   "version": "3.9.6"
  }
 },
 "nbformat": 4,
 "nbformat_minor": 2
}
