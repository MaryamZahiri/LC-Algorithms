{
 "cells": [
  {
   "cell_type": "markdown",
   "metadata": {},
   "source": [
    "## 876. [Middle of the Linked List](https://leetcode.com/problems/middle-of-the-linked-list/description/)\n",
    "\n",
    "Given the head of a singly linked list, return the middle node of the linked list.\n",
    "\n",
    "If there are two middle nodes, return the second middle node."
   ]
  },
  {
   "cell_type": "markdown",
   "metadata": {},
   "source": [
    "Example 1:\n",
    "\n",
    "<img src=\"https://github.com/user-attachments/assets/ceed49de-9b1a-474d-a400-6347ec2780da\" width=\"460\">\n",
    "\n",
    "Input: head = [1,2,3,4,5]\n",
    "\n",
    "Output: [3,4,5]\n",
    "\n",
    "Explanation: The middle node of the list is node 3.\n",
    "\n",
    "Example 2:\n",
    "\n",
    "<img src=\"https://github.com/user-attachments/assets/1b47379a-e21c-49ef-9a98-ea7167c79620\" width=\"460\">\n",
    "\n",
    "Input: head = [1,2,3,4,5,6]\n",
    "\n",
    "Output: [4,5,6]\n",
    "\n",
    "Explanation: Since the list has two middle nodes with values 3 and 4, we return the second one."
   ]
  },
  {
   "cell_type": "markdown",
   "metadata": {},
   "source": [
    "Algorithm:\n",
    "- Fast and slow Pointers"
   ]
  },
  {
   "cell_type": "markdown",
   "metadata": {},
   "source": [
    "Find a middle node:\n",
    "\n",
    "<img src=\"https://github.com/user-attachments/assets/d962c558-22d6-41f4-9568-f946edbac15e\" width=\"460\">\n",
    "\n",
    "<img src=\"https://github.com/user-attachments/assets/84d2f22e-284a-40d4-94ec-9a732e442b6b\" width=\"460\">"
   ]
  },
  {
   "cell_type": "code",
   "execution_count": 7,
   "metadata": {},
   "outputs": [],
   "source": [
    "class ListNode:\n",
    "    def __init__(self, val = 0, next=None):\n",
    "        self.val = val\n",
    "        self.next = next"
   ]
  },
  {
   "cell_type": "code",
   "execution_count": 8,
   "metadata": {},
   "outputs": [],
   "source": [
    "class Solution:\n",
    "    def middleNode(self, head: ListNode()):\n",
    "        slow = fast = head\n",
    "        while fast and fast.next:\n",
    "            slow = slow.next\n",
    "            fast = fast.next.next\n",
    "        return slow"
   ]
  },
  {
   "cell_type": "code",
   "execution_count": 19,
   "metadata": {},
   "outputs": [
    {
     "name": "stdout",
     "output_type": "stream",
     "text": [
      "3\n"
     ]
    }
   ],
   "source": [
    "heads = [1,2,3,4,5]\n",
    "head = ListNode(heads[0])\n",
    "head.next = ListNode(heads[1])\n",
    "head.next.next = ListNode(heads[2])\n",
    "head.next.next.next = ListNode(heads[3])\n",
    "head.next.next.next.next = ListNode(heads[4])\n",
    "\n",
    "solution = Solution()\n",
    "list = solution.middleNode(head)\n",
    "print(list.val)"
   ]
  },
  {
   "cell_type": "markdown",
   "metadata": {},
   "source": [
    "Time Complexity: \n",
    "- O(N) N is number of nodes\n",
    "\n",
    "Space Complexity:\n",
    "- O(1) no extra memory rather than 2 variables for slow and fast"
   ]
  }
 ],
 "metadata": {
  "kernelspec": {
   "display_name": "Python 3",
   "language": "python",
   "name": "python3"
  },
  "language_info": {
   "codemirror_mode": {
    "name": "ipython",
    "version": 3
   },
   "file_extension": ".py",
   "mimetype": "text/x-python",
   "name": "python",
   "nbconvert_exporter": "python",
   "pygments_lexer": "ipython3",
   "version": "3.9.6"
  }
 },
 "nbformat": 4,
 "nbformat_minor": 2
}
