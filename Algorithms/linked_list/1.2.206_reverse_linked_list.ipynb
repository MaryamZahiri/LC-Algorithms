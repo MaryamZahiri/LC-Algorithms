{
 "cells": [
  {
   "cell_type": "markdown",
   "metadata": {},
   "source": [
    "## 206. [Reverse Linked List](https://leetcode.com/problems/reverse-linked-list/description/)\n",
    "\n",
    "Given the head of a singly linked list, reverse the list, and return the reversed list."
   ]
  },
  {
   "cell_type": "markdown",
   "metadata": {},
   "source": [
    "Example 1:\n",
    "\n",
    "<img src=\"https://github.com/user-attachments/assets/857d010b-f9bc-4d82-a180-064e702b94e7\" width=\"460\">\n",
    "\n",
    "Input: head = [1,2,3,4,5]\n",
    "\n",
    "Output: [5,4,3,2,1]\n",
    "\n",
    "Example 2:\n",
    "\n",
    "Input: head = [1,2]\n",
    "\n",
    "Output: [2,1]\n",
    "\n",
    "Example 3:\n",
    "\n",
    "Input: head = []\n",
    "\n",
    "Output: []"
   ]
  },
  {
   "cell_type": "markdown",
   "metadata": {},
   "source": [
    "### Use Case:\n",
    "\n",
    "<img src=\"https://github.com/user-attachments/assets/6551cb18-82d2-4b53-9e47-dd7de0bb3fd7\" width=\"460\">"
   ]
  },
  {
   "cell_type": "code",
   "execution_count": null,
   "metadata": {},
   "outputs": [],
   "source": [
    "class ListNode:\n",
    "    def __init__(self, val=0, next=None):\n",
    "        self.val = val\n",
    "        self.next = next"
   ]
  },
  {
   "cell_type": "code",
   "execution_count": null,
   "metadata": {},
   "outputs": [],
   "source": [
    "class Solution:\n",
    "    def reverseList(self, head):\n",
    "        pre, cur = None, head\n",
    "        while cur:\n",
    "            tmp = cur.next\n",
    "            cur.next = pre\n",
    "            pre = cur\n",
    "            cur = tmp\n",
    "\n",
    "        return pre"
   ]
  },
  {
   "cell_type": "markdown",
   "metadata": {},
   "source": [
    "Time Complexity: \n",
    "- O(N) N is number of nodes (List's Length)\n",
    "\n",
    "Space Complexity:\n",
    "- O(1) "
   ]
  }
 ],
 "metadata": {
  "language_info": {
   "name": "python"
  }
 },
 "nbformat": 4,
 "nbformat_minor": 2
}
