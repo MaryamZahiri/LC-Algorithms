{
 "cells": [
  {
   "cell_type": "markdown",
   "metadata": {},
   "source": [
    "40. [Combination Sum II](https://leetcode.com/problems/combination-sum-ii/description/)\n",
    "\n",
    "Given a collection of candidate numbers (candidates) and a target number (target), find all unique combinations in candidates where the candidate numbers sum to target.\n",
    "\n",
    "Each number in candidates may only be used once in the combination.\n",
    "\n",
    "Note: The solution set must not contain duplicate combinations."
   ]
  },
  {
   "cell_type": "markdown",
   "metadata": {},
   "source": [
    "Use Case:\n",
    "\n",
    "![image](https://github.com/user-attachments/assets/26cd6063-1f92-454b-86ef-90f2a77da527)\n"
   ]
  },
  {
   "cell_type": "markdown",
   "metadata": {},
   "source": [
    "Solution 1"
   ]
  },
  {
   "cell_type": "code",
   "execution_count": null,
   "metadata": {},
   "outputs": [],
   "source": [
    "'''\n",
    "[10,1,2,7,6,1,5], target = 8\n",
    "[\n",
    "[1,1,6],\n",
    "[1,2,5],\n",
    "[1,7],\n",
    "[2,6]\n",
    "]\n",
    "\n",
    "sort to handle repeatation\n",
    "1,1,2,5\n",
    "\n",
    "1      []\n",
    "1   [] 2\n",
    "2 [] \n",
    "'''\n",
    "class Solution:\n",
    "    def combinationSum2(self, candidates, target):\n",
    "        # Sort to group duplicates together\n",
    "        candidates.sort()\n",
    "        result = []\n",
    "        cur_path = []\n",
    "\n",
    "        # backtrack function\n",
    "        def backtrack(i, total):\n",
    "            # base case \n",
    "            if total == target:\n",
    "                result.append(cur_path[:])\n",
    "                return\n",
    "            if total > target or i >= len(candidates):\n",
    "                return \n",
    "\n",
    "            # path is visited\n",
    "            cur_path.append(candidates[i])\n",
    "            backtrack(i+1, total + candidates[i])\n",
    "\n",
    "            # decision to handle duplicates and skip\n",
    "            while i+1 < len(candidates) and candidates[i+1] == candidates[i]: i += 1\n",
    "\n",
    "            cur_path.pop()\n",
    "            backtrack(i+1, total)\n",
    "            \n",
    "\n",
    "        backtrack(0, 0)\n",
    "        return result"
   ]
  },
  {
   "cell_type": "markdown",
   "metadata": {},
   "source": [
    "Solution 2"
   ]
  },
  {
   "cell_type": "code",
   "execution_count": 2,
   "metadata": {},
   "outputs": [],
   "source": [
    "class Solution:\n",
    "    def combinationSum2(self, candidates, target: int):\n",
    "        candidates.sort()\n",
    "        res = []\n",
    "\n",
    "        def backtrack(cur, pos, total):\n",
    "            if target == total:\n",
    "                # cur is changing during recursion\n",
    "                res.append(cur.copy())\n",
    "            if total >= target:\n",
    "                return \n",
    "                \n",
    "            prev = -1\n",
    "            for i in range(pos, len(candidates)):\n",
    "                # To prevent repeatation, skip in the second tree decision\n",
    "                if prev == candidates[i]: continue\n",
    "\n",
    "                cur.append(candidates[i])\n",
    "                backtrack(cur, i + 1, total + candidates[i])\n",
    "                # undo appending to clean up and back to prev track\n",
    "                cur.pop()\n",
    "\n",
    "                prev = candidates[i]\n",
    "            \n",
    "        backtrack([], 0, 0)\n",
    "        return res"
   ]
  },
  {
   "cell_type": "code",
   "execution_count": 3,
   "metadata": {},
   "outputs": [
    {
     "data": {
      "text/plain": [
       "[[1, 7], [3, 5]]"
      ]
     },
     "execution_count": 3,
     "metadata": {},
     "output_type": "execute_result"
    }
   ],
   "source": [
    "candidates = [10, 1, 7, 3, 5, 1]\n",
    "target = 8\n",
    "solution = Solution()\n",
    "solution.combinationSum2(candidates, target)"
   ]
  },
  {
   "cell_type": "markdown",
   "metadata": {},
   "source": [
    "Time Complexity:\n",
    "- O(n.2^n) 2 decision for n candidates\n",
    "\n",
    "Space Complexity:\n",
    "- O(n) cur has at most n candidates\n",
    "- apply recursion in the algorithm, which will incur additional memory consumption in the function call stack"
   ]
  }
 ],
 "metadata": {
  "kernelspec": {
   "display_name": "Python 3",
   "language": "python",
   "name": "python3"
  },
  "language_info": {
   "codemirror_mode": {
    "name": "ipython",
    "version": 3
   },
   "file_extension": ".py",
   "mimetype": "text/x-python",
   "name": "python",
   "nbconvert_exporter": "python",
   "pygments_lexer": "ipython3",
   "version": "3.10.5"
  }
 },
 "nbformat": 4,
 "nbformat_minor": 2
}
