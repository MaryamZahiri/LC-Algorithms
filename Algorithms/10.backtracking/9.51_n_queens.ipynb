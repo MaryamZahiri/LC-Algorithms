{
 "cells": [
  {
   "cell_type": "markdown",
   "metadata": {},
   "source": [
    "51. [N-Queens](https://leetcode.com/problems/n-queens/description/)\n",
    "\n",
    "The n-queens puzzle is the problem of placing n queens on an n x n chessboard such that no two queens attack each other.\n",
    "\n",
    "Given an integer n, return all distinct solutions to the n-queens puzzle. You may return the answer in any order.\n",
    "\n",
    "Each solution contains a distinct board configuration of the n-queens' placement, where 'Q' and '.' both indicate a queen and an empty space, respectively."
   ]
  },
  {
   "cell_type": "markdown",
   "metadata": {},
   "source": [
    "Use Case:\n",
    "\n",
    "![image](https://github.com/user-attachments/assets/60c28e82-0801-4130-85e5-bf0077ae9e66)"
   ]
  },
  {
   "cell_type": "code",
   "execution_count": 1,
   "metadata": {},
   "outputs": [],
   "source": [
    "class Solution:\n",
    "    def solveNQueens(self, n: int):\n",
    "        res = []\n",
    "        output = [[\".\"] * n for i in range(n)]\n",
    "\n",
    "        col = set()\n",
    "        posDiag = set()\n",
    "        negDiag = set()\n",
    "\n",
    "        def backtrack(r):\n",
    "            # base case \n",
    "            if r == n: \n",
    "                row = [\"\".join(r) for r in output]\n",
    "                res.append(row)\n",
    "                return\n",
    "            \n",
    "            for c in range(n):\n",
    "                # Skip cell's neighbors \n",
    "                if (c in col or \n",
    "                    ((r + c) in posDiag) or \n",
    "                    ((r - c) in negDiag)):\n",
    "                    continue\n",
    "\n",
    "                # update cell's neighbors\n",
    "                col.add(c)\n",
    "                posDiag.add(r + c)\n",
    "                negDiag.add(r - c)\n",
    "                output[r][c] = \"Q\"\n",
    "\n",
    "                backtrack(r + 1)  \n",
    "\n",
    "                # undo whatever is added\n",
    "                col.remove(c)\n",
    "                posDiag.remove(r + c)\n",
    "                negDiag.remove(r - c)\n",
    "                output[r][c] = \".\"\n",
    "            \n",
    "        backtrack(0)\n",
    "        return res"
   ]
  },
  {
   "cell_type": "code",
   "execution_count": 2,
   "metadata": {},
   "outputs": [
    {
     "data": {
      "text/plain": [
       "[['.Q..', '...Q', 'Q...', '..Q.'], ['..Q.', 'Q...', '...Q', '.Q..']]"
      ]
     },
     "execution_count": 2,
     "metadata": {},
     "output_type": "execute_result"
    }
   ],
   "source": [
    "n = 4\n",
    "solution = Solution()\n",
    "solution.solveNQueens(n)"
   ]
  },
  {
   "cell_type": "markdown",
   "metadata": {},
   "source": [
    "Time complexity: O(N!)\n",
    "\n",
    "- Unlike the brute force approach, we will only place queens on squares that aren't under attack. For the first queen, we have N options. For the next queen, we won't attempt to place it in the same column as the first queen, and there must be at least one square attacked diagonally by the first queen as well. Thus, the maximum number of squares we can consider for the second queen is N−2. For the third queen, we won't attempt to place it in 2 columns already occupied by the first 2 queens, and there must be at least two squares attacked diagonally from the first 2 queens. Thus, the maximum number of squares we can consider for the third queen is N−4. This pattern continues, resulting in an approximate time complexity of N!.\n",
    "\n",
    "Space complexity: O(N ^ 2)\n",
    "\n",
    "- Extra memory used includes the 3 sets used to store board state, as well as the recursion call stack. All of this scales linearly with the number of queens. However, to keep the board state costs O(N^ 2), since the board is of size N * N"
   ]
  }
 ],
 "metadata": {
  "kernelspec": {
   "display_name": "Python 3",
   "language": "python",
   "name": "python3"
  },
  "language_info": {
   "codemirror_mode": {
    "name": "ipython",
    "version": 3
   },
   "file_extension": ".py",
   "mimetype": "text/x-python",
   "name": "python",
   "nbconvert_exporter": "python",
   "pygments_lexer": "ipython3",
   "version": "3.9.6"
  }
 },
 "nbformat": 4,
 "nbformat_minor": 2
}
