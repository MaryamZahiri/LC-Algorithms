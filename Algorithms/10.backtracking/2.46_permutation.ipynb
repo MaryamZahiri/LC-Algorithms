{
 "cells": [
  {
   "cell_type": "markdown",
   "metadata": {},
   "source": [
    "46. [Permutations](https://leetcode.com/problems/permutations/description/)\n",
    "\n",
    "Given an array nums of distinct integers, return all the possible permutations. You can return the answer in any order.\n",
    "\n",
    "Example 1:\n",
    "\n",
    "Input: nums = [1,2,3]\n",
    "\n",
    "Output: [[1,2,3],[1,3,2],[2,1,3],[2,3,1],[3,1,2],[3,2,1]]"
   ]
  },
  {
   "cell_type": "markdown",
   "metadata": {},
   "source": [
    "Example:\n",
    "\n",
    "![image](https://github.com/user-attachments/assets/8052c14a-fa5a-434a-87af-bdb73fa9f09a)"
   ]
  },
  {
   "cell_type": "markdown",
   "metadata": {},
   "source": [
    "Visualization of Steps\n",
    "\n",
    "Initial Call to dfs\n",
    "\n",
    "Path = []\n",
    "\n",
    "Result = []\n",
    "\n",
    "Start exploring all possible choices for the first position.\n",
    "\n",
    "Step 1: Add 1 to Path\n",
    "\n",
    "Path = [1]\n",
    "\n",
    "Explore further by calling dfs(index=1).\n",
    "\n",
    "Step 2: Add 2 to Path\n",
    "\n",
    "Path = [1, 2]\n",
    "\n",
    "Explore further by calling dfs(index=2).\n",
    "\n",
    "Step 3: Add 3 to Path\n",
    "\n",
    "Path = [1, 2, 3]\n",
    "\n",
    "A valid permutation is found: Append [1, 2, 3] to Result.\n",
    "\n",
    "Backtrack: Remove 3 from Path.\n",
    "\n",
    "Step 4: Backtrack to [1, 2], Try Next Option\n",
    "\n",
    "Path = [1, 2]\n",
    "\n",
    "No more options at index 2.\n",
    "\n",
    "Backtrack: Remove 2 from Path.\n",
    "\n",
    "Step 5: Backtrack to [1], Try Next Option\n",
    "\n",
    "Path = [1]\n",
    "\n",
    "Add 3 to Path.\n",
    "\n",
    "Path = [1, 3]\n",
    "\n",
    "Explore further by calling dfs(index=2).\n",
    "\n",
    "Step 6: Add 2 to Path\n",
    "\n",
    "Path = [1, 3, 2]\n",
    "\n",
    "A valid permutation is found: Append [1, 3, 2] to Result.\n",
    "\n",
    "Backtrack: Remove 2 from Path.\n",
    "\n",
    "Step 7: Backtrack to [1, 3], Try Next Option\n",
    "\n",
    "Path = [1, 3]\n",
    "\n",
    "No more options at index 2.\n",
    "\n",
    "Backtrack: Remove 3 from Path.\n",
    "\n",
    "Step 8: Backtrack to [1], Try Next Option\n",
    "\n",
    "Path = [1]\n",
    "\n",
    "No more options at index 1.\n",
    "\n",
    "Backtrack: Remove 1 from Path.\n",
    "\n",
    "Repeat Process for Other Starting Points\n",
    "\n",
    "Follow the same logic for paths starting with 2 and 3:\n",
    "\n",
    "[2, 1, 3]\n",
    "\n",
    "[2, 3, 1]\n",
    "\n",
    "[3, 1, 2]\n",
    "\n",
    "[3, 2, 1]\n"
   ]
  },
  {
   "cell_type": "code",
   "execution_count": 1,
   "metadata": {},
   "outputs": [],
   "source": [
    "class Solution:\n",
    "    def permute(self, nums):\n",
    "        res = []\n",
    "        path = []\n",
    "        def backtracking(i, path):\n",
    "            if len(nums) == len(path):\n",
    "                res.append(path[:])\n",
    "                return\n",
    "            \n",
    "            for num in nums:\n",
    "                if num not in path:\n",
    "                    path.append(num)\n",
    "                    backtracking(i + 1, path)\n",
    "                    path.pop()\n",
    "                \n",
    "        backtracking(0, path)\n",
    "        return res"
   ]
  },
  {
   "cell_type": "code",
   "execution_count": 2,
   "metadata": {},
   "outputs": [
    {
     "data": {
      "text/plain": [
       "[[1, 2, 3], [1, 3, 2], [2, 1, 3], [2, 3, 1], [3, 1, 2], [3, 2, 1]]"
      ]
     },
     "execution_count": 2,
     "metadata": {},
     "output_type": "execute_result"
    }
   ],
   "source": [
    "nums = [1,2,3]\n",
    "solution = Solution()\n",
    "solution.permute(nums)"
   ]
  },
  {
   "cell_type": "markdown",
   "metadata": {},
   "source": [
    "Time Complexity:\n",
    "- O(n⋅n!)\n",
    "- for n = 3 , there is 3 * 2 * 1 ways (n! = n factorial) with n length for each path\n",
    "\n",
    "Space Complexity:\n",
    "- Space Complexity: \n",
    "O(n⋅n!)\n",
    "\n",
    "Reason:\n",
    "- n!: Total number of permutations generated.\n",
    "- O(n): Additional space for each recursive stack frame and the current path.\n",
    "Thus, the total space is dominated by the storage of all permutations.\n",
    "\n",
    "- The extra space we use here is for curr and the recursion call stack. The depth of the call stack is equal to the length of curr"
   ]
  }
 ],
 "metadata": {
  "kernelspec": {
   "display_name": "Python 3",
   "language": "python",
   "name": "python3"
  },
  "language_info": {
   "codemirror_mode": {
    "name": "ipython",
    "version": 3
   },
   "file_extension": ".py",
   "mimetype": "text/x-python",
   "name": "python",
   "nbconvert_exporter": "python",
   "pygments_lexer": "ipython3",
   "version": "3.10.5"
  }
 },
 "nbformat": 4,
 "nbformat_minor": 2
}
