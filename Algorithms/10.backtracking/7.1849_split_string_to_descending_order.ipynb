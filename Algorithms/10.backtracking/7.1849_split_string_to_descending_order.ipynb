{
 "cells": [
  {
   "cell_type": "markdown",
   "metadata": {},
   "source": [
    "1849. [Splitting a String Into Descending Consecutive Values](https://leetcode.com/problems/splitting-a-string-into-descending-consecutive-values/description/)\n",
    "\n",
    "You are given a string s that consists of only digits.\n",
    "\n",
    "Check if we can split s into two or more non-empty substrings such that the numerical values of the substrings are in descending order and the difference between numerical values of every two adjacent substrings is equal to 1.\n",
    "\n",
    "For example, the string s = \"0090089\" can be split into [\"0090\", \"089\"] with numerical values [90,89]. The values are in descending order and adjacent values differ by 1, so this way is valid.\n",
    "Another example, the string s = \"001\" can be split into [\"0\", \"01\"], [\"00\", \"1\"], or [\"0\", \"0\", \"1\"]. However all the ways are invalid because they have numerical values [0,1], [0,1], and [0,0,1] respectively, all of which are not in descending order.\n",
    "Return true if it is possible to split s​​​​​​ as described above, or false otherwise.\n",
    "\n",
    "A substring is a contiguous sequence of characters in a string."
   ]
  },
  {
   "cell_type": "markdown",
   "metadata": {},
   "source": [
    "Use Case:\n",
    "\n",
    "![image](https://github.com/user-attachments/assets/c8a092ac-bedd-4ba4-816a-dd2bf30a9c14)"
   ]
  },
  {
   "cell_type": "markdown",
   "metadata": {},
   "source": [
    "First code"
   ]
  },
  {
   "cell_type": "code",
   "execution_count": null,
   "metadata": {},
   "outputs": [],
   "source": [
    "class Solution:\n",
    "    def splitString(self, s: str) -> bool:\n",
    "        '''\n",
    "        4321 -> True\n",
    "\n",
    "        4             43     432    4321-\n",
    "        3  32- 321-\n",
    "        2 21- \n",
    "        1 \n",
    "\n",
    "        Time: n ^ n\n",
    "        Space: n\n",
    "        '''\n",
    "        cur_num = 0\n",
    "\n",
    "        def isDescendingConsecutive(cur, pre):\n",
    "            return cur == pre - 1\n",
    "\n",
    "        # recursive dfs\n",
    "        def descending_dfs(i, pre_num):\n",
    "            # goal for recursive\n",
    "            if i == len(s):\n",
    "                return True\n",
    "\n",
    "            # scan s\n",
    "            for idx in range(i, len(s)):\n",
    "                # in next level: 4, 43\n",
    "                cur_num = int(s[i:idx + 1])\n",
    "                if isDescendingConsecutive(cur_num, pre_num):\n",
    "                    if descending_dfs(idx+1, cur_num): return True\n",
    "\n",
    "            return False\n",
    "\n",
    "        # all initial possible splits for recording a pre num to compare\n",
    "        # 5, 54, 543, \n",
    "        for end in range(1, len(s)):\n",
    "            initial_num = int(s[:end])\n",
    "            if descending_dfs(end, initial_num): return True\n",
    "        return False\n"
   ]
  },
  {
   "cell_type": "markdown",
   "metadata": {},
   "source": [
    "Second code"
   ]
  },
  {
   "cell_type": "code",
   "execution_count": 1,
   "metadata": {},
   "outputs": [],
   "source": [
    "class Solution:\n",
    "    def splitString(self, s: str) -> bool:\n",
    "        def backtrack(i, pre):\n",
    "            if i == len(s): return True\n",
    "\n",
    "            for idx in range(i, len(s)):\n",
    "                cur = int(s[i:idx+1])\n",
    "                if cur == pre - 1 and backtrack(idx + 1, cur):\n",
    "                    return True\n",
    "                \n",
    "            return False\n",
    "\n",
    "        # For first row of spliting and recording pre strings. it can not go to end as we should split to 2 at lease \n",
    "        for i in range(len(s) - 1):\n",
    "            val = int(s[:i + 1])\n",
    "            if backtrack(i + 1, val): return True\n",
    "\n",
    "        return False"
   ]
  },
  {
   "cell_type": "code",
   "execution_count": 2,
   "metadata": {},
   "outputs": [
    {
     "data": {
      "text/plain": [
       "True"
      ]
     },
     "execution_count": 2,
     "metadata": {},
     "output_type": "execute_result"
    }
   ],
   "source": [
    "num = \"4321\"\n",
    "solution = Solution()\n",
    "solution.splitString(num)"
   ]
  },
  {
   "cell_type": "markdown",
   "metadata": {},
   "source": [
    "Time Complexity:\n",
    "- at worst, O(n^n) \n",
    "- length of hight and width of tree\n",
    "\n",
    "Space Complexity:\n",
    "- O(n) recursive call stack"
   ]
  }
 ],
 "metadata": {
  "kernelspec": {
   "display_name": "Python 3",
   "language": "python",
   "name": "python3"
  },
  "language_info": {
   "codemirror_mode": {
    "name": "ipython",
    "version": 3
   },
   "file_extension": ".py",
   "mimetype": "text/x-python",
   "name": "python",
   "nbconvert_exporter": "python",
   "pygments_lexer": "ipython3",
   "version": "3.10.5"
  }
 },
 "nbformat": 4,
 "nbformat_minor": 2
}
