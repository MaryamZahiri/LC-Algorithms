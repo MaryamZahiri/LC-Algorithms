{
 "cells": [
  {
   "cell_type": "markdown",
   "metadata": {},
   "source": [
    "## 79. [Word Search](https://leetcode.com/problems/word-search/description/)\n",
    "\n",
    "Given an m x n grid of characters board and a string word, return true if word exists in the grid.\n",
    "\n",
    "The word can be constructed from letters of sequentially adjacent cells, where adjacent cells are horizontally or vertically neighboring. The same letter cell may not be used more than once."
   ]
  },
  {
   "cell_type": "markdown",
   "metadata": {},
   "source": [
    "Example 1:\n",
    "\n",
    "![image](https://github.com/user-attachments/assets/1cbf72df-d60f-45c8-b504-2e949576c55d)\n",
    "\n",
    "Input: board = [[\"A\",\"B\",\"C\",\"E\"],[\"S\",\"F\",\"C\",\"S\"],[\"A\",\"D\",\"E\",\"E\"]], word = \"ABCCED\"\n",
    "\n",
    "Output: true"
   ]
  },
  {
   "cell_type": "markdown",
   "metadata": {},
   "source": [
    "Backtracking:\n",
    "\n",
    "because it is exploring all possible paths, such as matrix or grid traversal"
   ]
  },
  {
   "cell_type": "code",
   "execution_count": null,
   "metadata": {},
   "outputs": [],
   "source": [
    "from typing import List\n",
    "class Solution:\n",
    "    def exist(self, board: List[List[str]], word: str) -> bool:\n",
    "        ROW, COL = len(board), len(board[0])\n",
    "        visited = set()\n",
    "\n",
    "        # dfs traversal in 4 direction\n",
    "        direction = [[0,1],[0,-1],[1,0],[-1,0]]\n",
    "        def dfs(row,col,index):\n",
    "            if len(word) == index: return True\n",
    "\n",
    "            # check limit - out of bound - unmatch - visited\n",
    "            if (not 0 <= row < ROW \n",
    "                or not 0 <= col < COL\n",
    "                or (row, col) in visited\n",
    "                or board[row][col] != word[index]):\n",
    "                return False\n",
    "\n",
    "            # current cell is visited\n",
    "            visited.add((row, col))\n",
    "\n",
    "            # 4 direction\n",
    "            # Traverse backtracking: iterate through the four possible directions\n",
    "            for x_dir, y_dir in direction:\n",
    "                if dfs(row + x_dir, col + y_dir, index + 1): return True\n",
    "\n",
    "            visited.remove((row, col))\n",
    "            return False\n",
    "\n",
    "        # traverse matrix\n",
    "        for row in range(ROW):\n",
    "            for col in range(COL):\n",
    "                if dfs(row, col, 0): return True\n",
    "\n",
    "        return False "
   ]
  },
  {
   "cell_type": "code",
   "execution_count": 2,
   "metadata": {},
   "outputs": [
    {
     "name": "stdout",
     "output_type": "stream",
     "text": [
      "True\n"
     ]
    }
   ],
   "source": [
    "board = [[\"C\",\"A\",\"A\"],[\"A\",\"A\",\"A\"],[\"B\",\"C\",\"D\"]]\n",
    "word = \"AAB\"\n",
    "solution = Solution()\n",
    "print(solution.exist(board, word))\n"
   ]
  },
  {
   "cell_type": "markdown",
   "metadata": {},
   "source": [
    "Time Complexity:\n",
    "- O(n * m * dfs) = O(n * m * 4^n)\n",
    "\n",
    "Space Complexity:\n",
    "- O(n)\n",
    "- recursive call stack.\n",
    "- n length of word"
   ]
  }
 ],
 "metadata": {
  "kernelspec": {
   "display_name": "Python 3",
   "language": "python",
   "name": "python3"
  },
  "language_info": {
   "codemirror_mode": {
    "name": "ipython",
    "version": 3
   },
   "file_extension": ".py",
   "mimetype": "text/x-python",
   "name": "python",
   "nbconvert_exporter": "python",
   "pygments_lexer": "ipython3",
   "version": "3.9.6"
  }
 },
 "nbformat": 4,
 "nbformat_minor": 2
}
