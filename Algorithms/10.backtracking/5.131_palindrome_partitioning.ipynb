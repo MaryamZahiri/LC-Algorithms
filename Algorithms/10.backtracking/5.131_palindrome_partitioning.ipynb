{
 "cells": [
  {
   "cell_type": "markdown",
   "metadata": {},
   "source": [
    "## 131. [Palindrome Partitioning](https://leetcode.com/problems/palindrome-partitioning/description/)\n",
    "\n",
    "Given a string s, partition s such that every \n",
    "substring\n",
    " of the partition is a \n",
    "palindrome. \n",
    "\n",
    "Return all possible palindrome partitioning of s.\n",
    "\n",
    " \n",
    "\n",
    "Example 1:\n",
    "\n",
    "Input: s = \"aab\"\n",
    "\n",
    "Output: [[\"a\",\"a\",\"b\"],[\"aa\",\"b\"]]\n",
    "\n",
    "Example 2:\n",
    "\n",
    "Input: s = \"a\"\n",
    "\n",
    "Output: [[\"a\"]]"
   ]
  },
  {
   "cell_type": "markdown",
   "metadata": {},
   "source": [
    "The first idea is to generate all possible substrings of a given string and expand each possibility if it is a potential candidate. The first thing that comes to mind is Depth First Search. In Depth First Search, we recursively expand potential candidates until the defined goal is achieved. After that, we backtrack to explore the next potential candidate.\n",
    "\n",
    "Backtracking incrementally build the candidates for the solution and discards the candidates (backtrack) if they doesn't satisfy the condition."
   ]
  },
  {
   "cell_type": "markdown",
   "metadata": {},
   "source": [
    "Use Case:\n",
    "\n",
    "![image](https://github.com/user-attachments/assets/f0b897a3-d258-442c-81ba-5a720651236e)"
   ]
  },
  {
   "cell_type": "code",
   "execution_count": null,
   "metadata": {},
   "outputs": [],
   "source": [
    "class Solution:\n",
    "    def partition(self, s: str):\n",
    "        def isPalindrome(word):\n",
    "            return word == word[::-1]\n",
    "\n",
    "        res = []\n",
    "        part = []\n",
    "\n",
    "        def dfs(i):\n",
    "            if i >= len(s): \n",
    "                res.append(part.copy())\n",
    "                return\n",
    "\n",
    "            for idx in range(i, len(s)):\n",
    "                if isPalindrome(s[i:idx+1]):\n",
    "                    part.append(s[i:idx+1])\n",
    "                    dfs(idx + 1)\n",
    "                    part.pop()\n",
    "            \n",
    "        dfs(0)\n",
    "        return res"
   ]
  },
  {
   "cell_type": "markdown",
   "metadata": {},
   "source": [
    "Time Complexity:\n",
    "- O(n* 2 ^ n)\n",
    "- Recursive Tree Structure:\n",
    "\n",
    "- The DFS explores all possible partitions of the string. For a string of length N, there are at most 2^(N-1) ways to partition it (each character can either be a part of the current substring or start a new one).\n",
    "This gives us 2^N recursive calls.\n",
    "- Palindrome Check:\n",
    "\n",
    "- For each substring, the function isPalindrome takes O(N) to check if it's a palindrome. Since this is done for each partition, the cost is multiplied.\n",
    "Final Complexity:\n",
    "\n",
    "- Combining these factors, the total complexity is O(N * 2^N).\n",
    "\n",
    "Space Complexity:\n",
    "- O(n * k)\n",
    "- k is the maximum number of partitions"
   ]
  }
 ],
 "metadata": {
  "language_info": {
   "name": "python"
  }
 },
 "nbformat": 4,
 "nbformat_minor": 2
}
