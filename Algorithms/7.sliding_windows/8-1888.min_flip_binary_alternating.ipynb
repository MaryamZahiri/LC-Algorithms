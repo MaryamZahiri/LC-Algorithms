{
 "cells": [
  {
   "cell_type": "markdown",
   "metadata": {},
   "source": [
    "## 1888. [Minimum Number of Flips to Make the Binary String Alternating](https://leetcode.com/problems/minimum-number-of-flips-to-make-the-binary-string-alternating/description/)\n",
    "\n",
    "You are given a binary string s. You are allowed to perform two types of operations on the string in any sequence:\n",
    "\n",
    "Type-1: Remove the character at the start of the string s and append it to the end of the string.\n",
    "Type-2: Pick any character in s and flip its value, i.e., if its value is '0' it becomes '1' and vice-versa.\n",
    "Return the minimum number of type-2 operations you need to perform such that s becomes alternating.\n",
    "\n",
    "The string is called alternating if no two adjacent characters are equal.\n",
    "\n",
    "For example, the strings \"010\" and \"1010\" are alternating, while the string \"0100\" is not."
   ]
  },
  {
   "cell_type": "markdown",
   "metadata": {},
   "source": [
    "### Use Case\n",
    "\n",
    "<img src=\"https://github.com/user-attachments/assets/1a6b0103-e7b4-415f-ae67-d62ac54f97c6\" width=\"460\">"
   ]
  },
  {
   "cell_type": "code",
   "execution_count": 5,
   "metadata": {},
   "outputs": [],
   "source": [
    "class Solution:\n",
    "    def minFlip(self, s):\n",
    "        n = len(s)\n",
    "        s = s + s\n",
    "        alt1, alt2 = \"\", \"\"\n",
    "        l, r = 0, 0\n",
    "        diff1, diff2 = 0, 0\n",
    "        res = len(s)\n",
    "\n",
    "        # Create alternating\n",
    "        for i in range(len(s)):\n",
    "            alt1 += \"0\" if i % 2 else \"1\"\n",
    "            alt2 += \"1\" if i % 2 else \"0\"\n",
    "\n",
    "        while r < len(s):\n",
    "            # in window bound\n",
    "            if s[r] != alt1[r]:\n",
    "                diff1 += 1\n",
    "            if s[r] != alt2[r]:\n",
    "                diff2 += 1\n",
    "\n",
    "            # shift the windows\n",
    "            if (r - l + 1) > n:\n",
    "                if s[l] != alt1[l]:\n",
    "                    diff1 -= 1\n",
    "                if s[l] != alt2[l]:\n",
    "                    diff2 -= 1\n",
    "                l += 1\n",
    "            \n",
    "            # valid window\n",
    "            if (r - l + 1) == n:\n",
    "                res = min(res, diff1, diff2)\n",
    "\n",
    "            r += 1\n",
    "        return res"
   ]
  },
  {
   "cell_type": "code",
   "execution_count": 6,
   "metadata": {},
   "outputs": [
    {
     "name": "stdout",
     "output_type": "stream",
     "text": [
      "2\n"
     ]
    }
   ],
   "source": [
    "s = \"111000\"\n",
    "solution = Solution()\n",
    "result = solution.minFlip(s)\n",
    "print(result)"
   ]
  },
  {
   "cell_type": "markdown",
   "metadata": {},
   "source": [
    "Time Complexity: O(N) \n",
    "\n",
    "Space Complexity: O(N) double the string"
   ]
  }
 ],
 "metadata": {
  "kernelspec": {
   "display_name": "Python 3",
   "language": "python",
   "name": "python3"
  },
  "language_info": {
   "codemirror_mode": {
    "name": "ipython",
    "version": 3
   },
   "file_extension": ".py",
   "mimetype": "text/x-python",
   "name": "python",
   "nbconvert_exporter": "python",
   "pygments_lexer": "ipython3",
   "version": "3.10.5"
  }
 },
 "nbformat": 4,
 "nbformat_minor": 2
}
