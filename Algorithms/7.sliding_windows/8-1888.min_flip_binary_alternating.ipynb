{
 "cells": [
  {
   "cell_type": "markdown",
   "metadata": {},
   "source": [
    "## 1888. [Minimum Number of Flips to Make the Binary String Alternating](https://leetcode.com/problems/minimum-number-of-flips-to-make-the-binary-string-alternating/description/)\n",
    "\n",
    "You are given a binary string s. You are allowed to perform two types of operations on the string in any sequence:\n",
    "\n",
    "Type-1: Remove the character at the start of the string s and append it to the end of the string.\n",
    "Type-2: Pick any character in s and flip its value, i.e., if its value is '0' it becomes '1' and vice-versa.\n",
    "Return the minimum number of type-2 operations you need to perform such that s becomes alternating.\n",
    "\n",
    "The string is called alternating if no two adjacent characters are equal.\n",
    "\n",
    "For example, the strings \"010\" and \"1010\" are alternating, while the string \"0100\" is not."
   ]
  },
  {
   "cell_type": "markdown",
   "metadata": {},
   "source": [
    "### Use Case\n",
    "\n",
    "<img src=\"https://github.com/user-attachments/assets/1a6b0103-e7b4-415f-ae67-d62ac54f97c6\" width=\"460\">"
   ]
  },
  {
   "cell_type": "markdown",
   "metadata": {},
   "source": [
    "To handle circular/rotational conditions:\n",
    "\n",
    "\"1100\"->\"1001\"->\"0011\"-> \"0110\"\n",
    "\n",
    "fitst window \"1100\"\n",
    "\n",
    "second window \"1001\"\n",
    "\n",
    "third window \"0011\"\n",
    "\n",
    "fourth window \"0110\"\n",
    "\n",
    "Alternate means:\n",
    "\n",
    "\"1010\"\n",
    "\n",
    "or \n",
    "\n",
    "\"0101\""
   ]
  },
  {
   "cell_type": "markdown",
   "metadata": {},
   "source": [
    "solution 1"
   ]
  },
  {
   "cell_type": "code",
   "execution_count": null,
   "metadata": {},
   "outputs": [],
   "source": [
    "class Solution:\n",
    "    def checkInclusion(self, s1: str, s2: str) -> bool:\n",
    "        '''\n",
    "        2 dictionary of counter for s1 and s2\n",
    "        keep window size length s1\n",
    "\n",
    "        ab , eid ba ooo\n",
    "        --   --\n",
    "               - -\n",
    "                 --\n",
    "                 match -> return True\n",
    "        '''\n",
    "        s1_dic, s2_dic = {}, {}\n",
    "        \n",
    "        # create s1 dictionary\n",
    "        for char in s1:\n",
    "            s1_dic[char] = 1 + s1_dic.get(char, 0)\n",
    "\n",
    "        for right in range(len(s2)):\n",
    "            # create s2 dictionary\n",
    "            s2_dic[s2[right]] = 1 + s2_dic.get(s2[right], 0)\n",
    "\n",
    "            # remove counter in left for s2 dictionary as it is out of window\n",
    "            if right >= len(s1):\n",
    "                left = right - len(s1) \n",
    "                s2_dic[s2[left]] -= 1\n",
    "                if not s2_dic[s2[left]]: s2_dic.pop(s2[left])\n",
    "\n",
    "            # check if they are matched \n",
    "            if s2_dic == s1_dic:\n",
    "                return True\n",
    "\n",
    "        return False"
   ]
  },
  {
   "cell_type": "markdown",
   "metadata": {},
   "source": [
    "Space complexiy:\n",
    "\n",
    "Worst-case: \n",
    "O(k), where \n",
    "k is the number of unique characters in s1 (not the length of s1)."
   ]
  },
  {
   "cell_type": "markdown",
   "metadata": {},
   "source": [
    "solution 2\n",
    "\n",
    "Saves memory compared to using dictionaries.\n",
    "\n",
    "Arrays have constant size (fixed) and don’t require hashing or dynamic memory allocation like dictionaries do.\n",
    "\n",
    "In scenarios with fewer unique characters or small strings, the memory difference may be negligible.\n",
    "\n",
    "For larger inputs with many unique characters, arrays are more memory-efficient."
   ]
  },
  {
   "cell_type": "code",
   "execution_count": null,
   "metadata": {},
   "outputs": [],
   "source": [
    "class Solution:\n",
    "    def checkInclusion(self, s1: str, s2: str) -> bool:\n",
    "        '''\n",
    "        2 dictionary of counter for s1 and s2 -> convert it to list of frequency \n",
    "        keep window size length s1\n",
    "\n",
    "        ab , eid ba ooo\n",
    "        --   --\n",
    "               - -\n",
    "                 --\n",
    "                 match -> return True\n",
    "        '''\n",
    "        frequency_s1, frequency_s2 = [0] * 26, [0] * 26\n",
    "        \n",
    "        # create s1 dictionary\n",
    "        for char in s1:\n",
    "            frequency_s1[ord(char)-ord('a')] += 1\n",
    "\n",
    "        for right in range(len(s2)):\n",
    "            # create s2 dictionary\n",
    "            frequency_s2[ord(s2[right])-ord('a')] += 1\n",
    "\n",
    "            # remove counter in left for s2 dictionary as it is out of window\n",
    "            # keep the window size and store and remove characters\n",
    "            if right >= len(s1):\n",
    "                left = right - len(s1) \n",
    "                frequency_s2[ord(s2[left])-ord('a')] -= 1\n",
    "\n",
    "            # check if they are matched \n",
    "            if frequency_s2 == frequency_s1:\n",
    "                return True\n",
    "\n",
    "        return False"
   ]
  },
  {
   "cell_type": "markdown",
   "metadata": {},
   "source": [
    "Time Complexity:\n",
    "\n",
    "O(n), where \n",
    "n is the length of s2.\n",
    "\n",
    "Space Complexity:\n",
    "\n",
    "Always \n",
    "O(1), as the array size is fixed at 26.\n",
    "\n",
    "No overhead for dynamically allocating or shrinking keys like in dictionaries."
   ]
  },
  {
   "cell_type": "markdown",
   "metadata": {},
   "source": [
    "solution 3"
   ]
  },
  {
   "cell_type": "code",
   "execution_count": 5,
   "metadata": {},
   "outputs": [],
   "source": [
    "class Solution:\n",
    "    def minFlip(self, s):\n",
    "        n = len(s)\n",
    "        s = s + s\n",
    "        alt1, alt2 = \"\", \"\"\n",
    "        l, r = 0, 0\n",
    "        diff1, diff2 = 0, 0\n",
    "        res = len(s)\n",
    "\n",
    "        # Create alternating\n",
    "        for i in range(len(s)):\n",
    "            alt1 += \"0\" if i % 2 else \"1\"\n",
    "            alt2 += \"1\" if i % 2 else \"0\"\n",
    "\n",
    "        while r < len(s):\n",
    "            # in window bound\n",
    "            if s[r] != alt1[r]:\n",
    "                diff1 += 1\n",
    "            if s[r] != alt2[r]:\n",
    "                diff2 += 1\n",
    "\n",
    "            # shift the windows\n",
    "            if (r - l + 1) > n:\n",
    "                if s[l] != alt1[l]:\n",
    "                    diff1 -= 1\n",
    "                if s[l] != alt2[l]:\n",
    "                    diff2 -= 1\n",
    "                l += 1\n",
    "            \n",
    "            # valid window\n",
    "            if (r - l + 1) == n:\n",
    "                res = min(res, diff1, diff2)\n",
    "\n",
    "            r += 1\n",
    "        return res"
   ]
  },
  {
   "cell_type": "code",
   "execution_count": 6,
   "metadata": {},
   "outputs": [
    {
     "name": "stdout",
     "output_type": "stream",
     "text": [
      "2\n"
     ]
    }
   ],
   "source": [
    "s = \"111000\"\n",
    "solution = Solution()\n",
    "result = solution.minFlip(s)\n",
    "print(result)"
   ]
  },
  {
   "cell_type": "markdown",
   "metadata": {},
   "source": [
    "Time Complexity: O(N) \n",
    "\n",
    "Space Complexity: O(N) double the string"
   ]
  }
 ],
 "metadata": {
  "kernelspec": {
   "display_name": "Python 3",
   "language": "python",
   "name": "python3"
  },
  "language_info": {
   "codemirror_mode": {
    "name": "ipython",
    "version": 3
   },
   "file_extension": ".py",
   "mimetype": "text/x-python",
   "name": "python",
   "nbconvert_exporter": "python",
   "pygments_lexer": "ipython3",
   "version": "3.10.5"
  }
 },
 "nbformat": 4,
 "nbformat_minor": 2
}
