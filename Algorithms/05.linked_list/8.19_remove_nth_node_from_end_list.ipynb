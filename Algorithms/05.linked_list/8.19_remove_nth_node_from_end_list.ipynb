{
 "cells": [
  {
   "cell_type": "markdown",
   "metadata": {},
   "source": [
    "## 19. [Remove Nth Node From End of List](https://leetcode.com/problems/remove-nth-node-from-end-of-list/description/)\n",
    "\n",
    "Given the head of a linked list, remove the nth node from the end of the list and return its head."
   ]
  },
  {
   "cell_type": "markdown",
   "metadata": {},
   "source": [
    "### Use Case\n",
    "<img src=\"https://github.com/user-attachments/assets/294afc2f-462d-4c41-b847-f193f86871a8\" width=\"460\"><br>\n",
    "\n",
    "<img src=\"https://github.com/user-attachments/assets/d97d89e9-ad54-4180-9b1f-92a621eb3e7f\" width=\"460\"><br>\n",
    "\n",
    "<img src=\"https://github.com/user-attachments/assets/416e80b4-369b-40be-a580-94c37855cde6\" width=\"460\">"
   ]
  },
  {
   "cell_type": "code",
   "execution_count": 7,
   "metadata": {},
   "outputs": [],
   "source": [
    "class ListNode:\n",
    "    def __init__(self, val=0, next = None):\n",
    "        self.val = val\n",
    "        self.next = next"
   ]
  },
  {
   "cell_type": "code",
   "execution_count": 16,
   "metadata": {},
   "outputs": [],
   "source": [
    "class Solution:\n",
    "    def removeNthFromEnd(self, head, n):\n",
    "        dummy = ListNode(0, head)\n",
    "        left = dummy\n",
    "        right = head\n",
    "\n",
    "        # gap\n",
    "        while n > 0 and right:\n",
    "            right = right.next \n",
    "            n -= 1\n",
    "\n",
    "        # find removed position while right get to None and left get to the place to remove the nth node\n",
    "        while right:\n",
    "            right = right.next \n",
    "            left = left.next\n",
    "\n",
    "        left.next = left.next.next\n",
    "\n",
    "        return dummy.next\n",
    "    \n",
    "    def arrayToList(self, array):\n",
    "        head = ListNode()\n",
    "        cur = head\n",
    "        for i in range(len(array)):\n",
    "            cur.next = ListNode(array[i])\n",
    "            cur = cur.next\n",
    "        return head.next"
   ]
  },
  {
   "cell_type": "code",
   "execution_count": 17,
   "metadata": {},
   "outputs": [
    {
     "data": {
      "text/plain": [
       "<__main__.ListNode at 0x2100271b8e0>"
      ]
     },
     "execution_count": 17,
     "metadata": {},
     "output_type": "execute_result"
    }
   ],
   "source": [
    "heads = [1,2,3,4,5]\n",
    "n = 2\n",
    "solution = Solution()\n",
    "head = solution.arrayToList(heads)\n",
    "solution.removeNthFromEnd(head,n)"
   ]
  },
  {
   "cell_type": "markdown",
   "metadata": {},
   "source": [
    "Time Complexity:\n",
    "- O(N): length of list of nodes\n",
    "\n",
    "Space Complexity:\n",
    "- O(1): Constant space"
   ]
  }
 ],
 "metadata": {
  "kernelspec": {
   "display_name": "Python 3",
   "language": "python",
   "name": "python3"
  },
  "language_info": {
   "codemirror_mode": {
    "name": "ipython",
    "version": 3
   },
   "file_extension": ".py",
   "mimetype": "text/x-python",
   "name": "python",
   "nbconvert_exporter": "python",
   "pygments_lexer": "ipython3",
   "version": "3.10.5"
  }
 },
 "nbformat": 4,
 "nbformat_minor": 2
}
