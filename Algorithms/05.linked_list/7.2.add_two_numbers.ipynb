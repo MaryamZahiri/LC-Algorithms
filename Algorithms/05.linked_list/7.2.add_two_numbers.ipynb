{
 "cells": [
  {
   "cell_type": "markdown",
   "metadata": {},
   "source": [
    "## 2. [Add Two Numbers](https://leetcode.com/problems/add-two-numbers/description/)\n",
    "\n",
    "You are given two non-empty linked lists representing two non-negative integers. The digits are stored in reverse order, and each of their nodes contains a single digit. Add the two numbers and return the sum as a linked list.\n",
    "\n",
    "You may assume the two numbers do not contain any leading zero, except the number 0 itself."
   ]
  },
  {
   "cell_type": "markdown",
   "metadata": {},
   "source": [
    "### Use Case\n",
    "<img src=\"https://github.com/user-attachments/assets/d5720b90-7ad2-4b7f-a86d-48f458859600\" width=\"460\">"
   ]
  },
  {
   "cell_type": "code",
   "execution_count": 1,
   "metadata": {},
   "outputs": [],
   "source": [
    "class ListNode:\n",
    "    def __init__(self, val= 0, next = None):\n",
    "        self.val = val\n",
    "        self.next = next"
   ]
  },
  {
   "cell_type": "code",
   "execution_count": 6,
   "metadata": {},
   "outputs": [],
   "source": [
    "class Solution:\n",
    "    def addTwoNums(self, l1, l2):\n",
    "        dummy = ListNode()\n",
    "        tail = dummy\n",
    "\n",
    "        carry = 0\n",
    "        while l1 or l2 or carry:\n",
    "            v1 = l1.val if l1 else 0\n",
    "            v2 = l2.val if l2 else 0\n",
    "            cur = v1 + v2 + carry\n",
    "\n",
    "            carry = cur // 10\n",
    "            cur = cur % 10\n",
    "\n",
    "            tail.next = ListNode(cur)\n",
    "\n",
    "            tail = tail.next\n",
    "            l1 = l1.next if l1 else None\n",
    "            l2 = l2.next if l2 else None\n",
    "        return dummy.next\n",
    "    \n",
    "    def arrayToList(self, array):\n",
    "        for i in range(len(array)):\n",
    "            cur = ListNode(array[i])\n",
    "            cur = cur.next\n",
    "            "
   ]
  },
  {
   "cell_type": "code",
   "execution_count": 7,
   "metadata": {},
   "outputs": [],
   "source": [
    "l1 = [8]\n",
    "l2 = [7]\n",
    "solution = Solution()\n",
    "l1 = solution.arrayToList(l1)\n",
    "l2 = solution.arrayToList(l2)\n",
    "solution.addTwoNums(l1,l2)"
   ]
  },
  {
   "cell_type": "markdown",
   "metadata": {},
   "source": [
    "Time Complexity:\n",
    "- O(max(m,n)) - m and n represents the length of l1 and l2\n",
    "\n",
    "Space Complexity:\n",
    "- O(1) - we don't count the answer as part of the space complexity"
   ]
  }
 ],
 "metadata": {
  "kernelspec": {
   "display_name": "Python 3",
   "language": "python",
   "name": "python3"
  },
  "language_info": {
   "codemirror_mode": {
    "name": "ipython",
    "version": 3
   },
   "file_extension": ".py",
   "mimetype": "text/x-python",
   "name": "python",
   "nbconvert_exporter": "python",
   "pygments_lexer": "ipython3",
   "version": "3.10.5"
  }
 },
 "nbformat": 4,
 "nbformat_minor": 2
}
