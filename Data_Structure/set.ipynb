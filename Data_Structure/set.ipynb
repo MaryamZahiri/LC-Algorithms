{
 "cells": [
  {
   "cell_type": "markdown",
   "metadata": {},
   "source": [
    "Set:\n",
    "\n",
    "- Unordered collection of distinct hashable objects.\n",
    "- Python’s built-in types.\n",
    "- dynamic adding and removing of elements, iteration, and operations with another set objects.\n",
    "\n",
    "Operations:"
   ]
  },
  {
   "cell_type": "code",
   "execution_count": 12,
   "metadata": {},
   "outputs": [
    {
     "name": "stdout",
     "output_type": "stream",
     "text": [
      "1 is even  False\n",
      "2 is even  True\n",
      "3 is even  False\n",
      "Added:  {1, 2, 3, 4}\n",
      "Removed: {1, 2, 3}\n"
     ]
    }
   ],
   "source": [
    "set_base = set([1,2,3])\n",
    "set_base = {1,2,3}\n",
    "\n",
    "for element in set_base:\n",
    "    print(f\"{element} is even \", True if element % 2 == 0 else False)\n",
    "    \n",
    "set_base.add(4)\n",
    "print(\"Added: \",set_base)\n",
    "\n",
    "set_base.remove(4)\n",
    "print(\"Removed:\", set_base)"
   ]
  },
  {
   "cell_type": "markdown",
   "metadata": {},
   "source": [
    "Operations for 2 sets:"
   ]
  },
  {
   "cell_type": "code",
   "execution_count": 8,
   "metadata": {},
   "outputs": [
    {
     "name": "stdout",
     "output_type": "stream",
     "text": [
      "Union:  {1, 2, 3, 5}\n",
      "Intersection:  {1, 3}\n",
      "Difference:  {2}\n"
     ]
    }
   ],
   "source": [
    "set_base_1 = {1,2,3}\n",
    "set_base_2 = {1,3,5}\n",
    "\n",
    "set_base = set_base_1.union(set_base_2)\n",
    "print(\"Union: \", set_base)\n",
    "\n",
    "set_base = set_base_1.intersection(set_base_2)\n",
    "print(\"Intersection: \", set_base)\n",
    "\n",
    "set_base = set_base_1.difference(set_base_2)\n",
    "print(\"Difference: \", set_base)"
   ]
  }
 ],
 "metadata": {
  "kernelspec": {
   "display_name": "Python 3",
   "language": "python",
   "name": "python3"
  },
  "language_info": {
   "codemirror_mode": {
    "name": "ipython",
    "version": 3
   },
   "file_extension": ".py",
   "mimetype": "text/x-python",
   "name": "python",
   "nbconvert_exporter": "python",
   "pygments_lexer": "ipython3",
   "version": "3.10.5"
  }
 },
 "nbformat": 4,
 "nbformat_minor": 2
}
