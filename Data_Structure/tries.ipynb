{
 "cells": [
  {
   "cell_type": "markdown",
   "metadata": {},
   "source": [
    "Tries:\n",
    "- a tree where each node holds a character\n",
    "- have 26 lower case characters (children) in the alphabet (from a to z) \n",
    "- a trie is also called a prefix tree"
   ]
  },
  {
   "cell_type": "markdown",
   "metadata": {},
   "source": [
    "Leetcode 208:\n",
    "- A trie (pronounced as \"try\") or prefix tree is a tree data structure used to efficiently store and retrieve keys in a dataset of strings. There are various applications of this data structure, such as autocomplete and spellchecker.\n",
    "\n",
    "Implement the Trie class:\n",
    "\n",
    "- Trie() Initializes the trie object.\n",
    "- void insert(String word) Inserts the string word into the trie.\n",
    "- boolean search(String word) Returns true if the string word is in the trie (i.e., was inserted before), and false otherwise.\n",
    "- boolean startsWith(String prefix) Returns true if there is a previously inserted string word that has the prefix prefix, and false otherwise."
   ]
  },
  {
   "cell_type": "code",
   "execution_count": 1,
   "metadata": {},
   "outputs": [],
   "source": [
    "class TrieNode:\n",
    "    def __init__(self, char):\n",
    "        self.char = char\n",
    "        self.children = {}\n",
    "        self.is_last = False"
   ]
  },
  {
   "cell_type": "code",
   "execution_count": 8,
   "metadata": {},
   "outputs": [],
   "source": [
    "class Trie:\n",
    "\n",
    "    def __init__(self):\n",
    "        self.trie = TrieNode(\"#\")\n",
    "\n",
    "    def insert(self, word: str) -> None:\n",
    "        root = self.trie\n",
    "\n",
    "        for char in word:\n",
    "            if char not in root.children:\n",
    "                # mapping char to children\n",
    "                root.children[char] = TrieNode(char)\n",
    "                # print(root.children)\n",
    "\n",
    "            root = root.children[char]\n",
    "        root.is_last = True\n",
    "\n",
    "    def search(self, word: str) -> bool:\n",
    "        root = self.trie\n",
    "\n",
    "        for char in word:\n",
    "            if char in root.children:\n",
    "                root = root.children[char]\n",
    "            else:\n",
    "                return False\n",
    "\n",
    "        return root.is_last\n",
    "\n",
    "    def startsWith(self, prefix: str) -> bool:\n",
    "        root = self.trie\n",
    "\n",
    "        for char in prefix:\n",
    "            if char in root.children:\n",
    "                root = root.children[char]\n",
    "            else:\n",
    "                return False\n",
    "\n",
    "        return True"
   ]
  },
  {
   "cell_type": "code",
   "execution_count": 10,
   "metadata": {},
   "outputs": [
    {
     "data": {
      "text/plain": [
       "True"
      ]
     },
     "execution_count": 10,
     "metadata": {},
     "output_type": "execute_result"
    }
   ],
   "source": [
    "trie = Trie()\n",
    "trie.insert(\"apple\")\n",
    "trie.search(\"apple\")"
   ]
  },
  {
   "cell_type": "code",
   "execution_count": 11,
   "metadata": {},
   "outputs": [
    {
     "data": {
      "text/plain": [
       "False"
      ]
     },
     "execution_count": 11,
     "metadata": {},
     "output_type": "execute_result"
    }
   ],
   "source": [
    "trie.search(\"app\")"
   ]
  },
  {
   "cell_type": "code",
   "execution_count": 12,
   "metadata": {},
   "outputs": [
    {
     "data": {
      "text/plain": [
       "True"
      ]
     },
     "execution_count": 12,
     "metadata": {},
     "output_type": "execute_result"
    }
   ],
   "source": [
    "trie.startsWith(\"app\")"
   ]
  }
 ],
 "metadata": {
  "kernelspec": {
   "display_name": "Python 3",
   "language": "python",
   "name": "python3"
  },
  "language_info": {
   "codemirror_mode": {
    "name": "ipython",
    "version": 3
   },
   "file_extension": ".py",
   "mimetype": "text/x-python",
   "name": "python",
   "nbconvert_exporter": "python",
   "pygments_lexer": "ipython3",
   "version": "3.9.6"
  }
 },
 "nbformat": 4,
 "nbformat_minor": 2
}
