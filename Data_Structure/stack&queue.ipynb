{
 "cells": [
  {
   "cell_type": "markdown",
   "metadata": {},
   "source": [
    "Stack:\n",
    "- LIFO: Last In First Out\n",
    "- Time Complexity O(1): a stack limits the insert (push) and remove (pop) operation to only one end of the data structure, i.e., to the top\n",
    "- Python lists are implemented as dynamic arrays"
   ]
  },
  {
   "cell_type": "code",
   "execution_count": 10,
   "metadata": {},
   "outputs": [],
   "source": [
    "class stack:\n",
    "    def __init__(self, initList=[]):\n",
    "        self.stack = initList\n",
    "\n",
    "    # push is to append to the tail of the list\n",
    "    def push(self, element):\n",
    "        self.stack.append(element)\n",
    "        return self.stack\n",
    "    \n",
    "    # pop is to remove from the tail of the list\n",
    "    def pop(self):\n",
    "        return self.stack.pop()\n",
    "    \n",
    "    def check_stack(self):\n",
    "        print(\"Current Stack: \", self.stack)\n",
    "\n",
    "    def check_top(self):\n",
    "        print(\"End of Stack: \", self.stack[-1])"
   ]
  },
  {
   "cell_type": "code",
   "execution_count": 11,
   "metadata": {},
   "outputs": [
    {
     "name": "stdout",
     "output_type": "stream",
     "text": [
      "Current Stack:  [1, 2, 3]\n"
     ]
    }
   ],
   "source": [
    "stack_ds = stack(initList=[])\n",
    "stack_ds.push(1)\n",
    "stack_ds.push(2)\n",
    "stack_ds.push(3)\n",
    "stack_ds.check_stack()"
   ]
  },
  {
   "cell_type": "code",
   "execution_count": 14,
   "metadata": {},
   "outputs": [
    {
     "name": "stdout",
     "output_type": "stream",
     "text": [
      "Removed-first out from tail:  3\n"
     ]
    }
   ],
   "source": [
    "stack_removed = stack_ds.pop()\n",
    "print(\"Removed-first out from tail: \", stack_removed)"
   ]
  },
  {
   "cell_type": "code",
   "execution_count": 15,
   "metadata": {},
   "outputs": [
    {
     "name": "stdout",
     "output_type": "stream",
     "text": [
      "End of Stack:  2\n",
      "Current Stack:  [1, 2]\n"
     ]
    }
   ],
   "source": [
    "stack_ds.check_top()\n",
    "stack_ds.check_stack()"
   ]
  }
 ],
 "metadata": {
  "kernelspec": {
   "display_name": "Python 3",
   "language": "python",
   "name": "python3"
  },
  "language_info": {
   "codemirror_mode": {
    "name": "ipython",
    "version": 3
   },
   "file_extension": ".py",
   "mimetype": "text/x-python",
   "name": "python",
   "nbconvert_exporter": "python",
   "pygments_lexer": "ipython3",
   "version": "3.10.5"
  }
 },
 "nbformat": 4,
 "nbformat_minor": 2
}
