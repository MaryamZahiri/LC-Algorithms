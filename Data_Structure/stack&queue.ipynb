{
 "cells": [
  {
   "cell_type": "markdown",
   "metadata": {},
   "source": [
    "Stack:\n",
    "- LIFO: Last In First Out\n",
    "- Time Complexity O(1): a stack limits the insert (push) and remove (pop) operation to only one end of the data structure, i.e., to the top\n",
    "- Python lists are implemented as dynamic arrays"
   ]
  },
  {
   "cell_type": "code",
   "execution_count": 10,
   "metadata": {},
   "outputs": [],
   "source": [
    "class stack:\n",
    "    def __init__(self, initList=[]):\n",
    "        self.stack = initList\n",
    "\n",
    "    # push is to append to the tail of the list\n",
    "    def push(self, element):\n",
    "        self.stack.append(element)\n",
    "        return self.stack\n",
    "    \n",
    "    # pop is to remove from the tail of the list\n",
    "    def pop(self):\n",
    "        return self.stack.pop()\n",
    "    \n",
    "    def check_stack(self):\n",
    "        print(\"Current Stack: \", self.stack)\n",
    "\n",
    "    def check_top(self):\n",
    "        print(\"End of Stack: \", self.stack[-1])"
   ]
  },
  {
   "cell_type": "code",
   "execution_count": 11,
   "metadata": {},
   "outputs": [
    {
     "name": "stdout",
     "output_type": "stream",
     "text": [
      "Current Stack:  [1, 2, 3]\n"
     ]
    }
   ],
   "source": [
    "stack_ds = stack(initList=[])\n",
    "stack_ds.push(1)\n",
    "stack_ds.push(2)\n",
    "stack_ds.push(3)\n",
    "stack_ds.check_stack()"
   ]
  },
  {
   "cell_type": "code",
   "execution_count": 14,
   "metadata": {},
   "outputs": [
    {
     "name": "stdout",
     "output_type": "stream",
     "text": [
      "Removed-first out from tail:  3\n"
     ]
    }
   ],
   "source": [
    "stack_removed = stack_ds.pop()\n",
    "print(\"Removed-first out from tail: \", stack_removed)"
   ]
  },
  {
   "cell_type": "code",
   "execution_count": 15,
   "metadata": {},
   "outputs": [
    {
     "name": "stdout",
     "output_type": "stream",
     "text": [
      "End of Stack:  2\n",
      "Current Stack:  [1, 2]\n"
     ]
    }
   ],
   "source": [
    "stack_ds.check_top()\n",
    "stack_ds.check_stack()"
   ]
  },
  {
   "cell_type": "markdown",
   "metadata": {},
   "source": [
    "Queue:\n",
    "- FIFO: First In First Out\n",
    "- limits the insertion and removal of elements to specific ends of the data structure\n",
    "- Insertion operation occurs at the tail of the list, while the deletion operation occurs at the head of the list.\n",
    "- The problem still remains, since popping from the front of the list will be O(N)\n",
    " as everything to the right must shift to the left."
   ]
  },
  {
   "cell_type": "code",
   "execution_count": 16,
   "metadata": {},
   "outputs": [],
   "source": [
    "class queue:\n",
    "    def __init__(self, initList=[]):\n",
    "        self.queue = initList\n",
    "\n",
    "    def enqueue(self, element):\n",
    "        self.queue.append(element)\n",
    "        return self.queue\n",
    "    \n",
    "    def dequeue(self):\n",
    "        return self.queue.pop(0)\n",
    "\n",
    "    def checkQueue(self):\n",
    "        print(\"Current Queue: \", self.queue)\n",
    "\n",
    "    def checkHead(self):\n",
    "        print(\"Current Head: \", self.queue[0])\n",
    "\n",
    "    def checkTail(self):\n",
    "        print(\"Current Tail: \", self.queue[-1])"
   ]
  },
  {
   "cell_type": "code",
   "execution_count": 17,
   "metadata": {},
   "outputs": [
    {
     "name": "stdout",
     "output_type": "stream",
     "text": [
      "Current Queue:  [1, 2, 3]\n"
     ]
    }
   ],
   "source": [
    "queue_ds = queue()\n",
    "queue_ds.enqueue(1)\n",
    "queue_ds.enqueue(2)\n",
    "queue_ds.enqueue(3)\n",
    "queue_ds.checkQueue()"
   ]
  },
  {
   "cell_type": "code",
   "execution_count": 18,
   "metadata": {},
   "outputs": [
    {
     "name": "stdout",
     "output_type": "stream",
     "text": [
      "Current Queue:  [2, 3]\n"
     ]
    }
   ],
   "source": [
    "queue_ds.dequeue()\n",
    "queue_ds.checkQueue()"
   ]
  },
  {
   "cell_type": "code",
   "execution_count": 19,
   "metadata": {},
   "outputs": [
    {
     "name": "stdout",
     "output_type": "stream",
     "text": [
      "Current Head:  2\n"
     ]
    }
   ],
   "source": [
    "queue_ds.checkHead()"
   ]
  },
  {
   "cell_type": "code",
   "execution_count": 20,
   "metadata": {},
   "outputs": [
    {
     "name": "stdout",
     "output_type": "stream",
     "text": [
      "Current Tail:  3\n"
     ]
    }
   ],
   "source": [
    "queue_ds.checkTail()"
   ]
  },
  {
   "cell_type": "markdown",
   "metadata": {},
   "source": [
    "Stack: LIFO (last in first out)\n",
    "\n",
    "Queue: FIFO (First in first out)\n",
    "\n",
    "![Stack vs Queue](https://github.com/MaryamZahiri/LC-Algorithms/assets/52676399/02c1b59e-195a-4a95-8f81-29f58bc12841)\n",
    "\n",
    ">> Notes\n",
    "- Queue Mistake: using lists over the more efficient deque in an interview setting where time complexity is important is not ideal.\n",
    "\n",
    "- The problem remains, since popping from the front of the list and inserting an element at the front of a list will be O(N) as everything to the right must shift to the left."
   ]
  },
  {
   "cell_type": "markdown",
   "metadata": {},
   "source": [
    "Dequeue:"
   ]
  }
 ],
 "metadata": {
  "kernelspec": {
   "display_name": "Python 3",
   "language": "python",
   "name": "python3"
  },
  "language_info": {
   "codemirror_mode": {
    "name": "ipython",
    "version": 3
   },
   "file_extension": ".py",
   "mimetype": "text/x-python",
   "name": "python",
   "nbconvert_exporter": "python",
   "pygments_lexer": "ipython3",
   "version": "3.10.5"
  }
 },
 "nbformat": 4,
 "nbformat_minor": 2
}
