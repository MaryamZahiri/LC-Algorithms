{
 "cells": [
  {
   "cell_type": "markdown",
   "metadata": {},
   "source": [
    "Linked List:\n",
    "- a linear data structure, with the previous node pointing to the next node"
   ]
  },
  {
   "cell_type": "code",
   "execution_count": 21,
   "metadata": {},
   "outputs": [],
   "source": [
    "class ListNode:\n",
    "    def __init__(self, val):\n",
    "        self.val = val\n",
    "        self.next = None\n",
    "\n",
    "headNode = ListNode(1)\n",
    "secondNode = ListNode(2)\n",
    "thirdNode = ListNode(3)\n",
    "\n",
    "headNode.next = secondNode\n",
    "secondNode.next = thirdNode"
   ]
  },
  {
   "cell_type": "markdown",
   "metadata": {},
   "source": [
    "Iterate through the linked list:"
   ]
  },
  {
   "cell_type": "code",
   "execution_count": 4,
   "metadata": {},
   "outputs": [
    {
     "name": "stdout",
     "output_type": "stream",
     "text": [
      "Nodes:  1\n",
      "Nodes:  2\n",
      "Nodes:  3\n"
     ]
    }
   ],
   "source": [
    "# Iterate through the linked list\n",
    "curNode = headNode\n",
    "while curNode:\n",
    "    print(\"Nodes: \", curNode.val)\n",
    "    curNode = curNode.next"
   ]
  },
  {
   "cell_type": "markdown",
   "metadata": {},
   "source": [
    "Insert new listnode with value of 5 in between the secondNode and thirdNode"
   ]
  },
  {
   "cell_type": "code",
   "execution_count": 22,
   "metadata": {},
   "outputs": [
    {
     "name": "stdout",
     "output_type": "stream",
     "text": [
      "Nodes:  1\n",
      "Nodes:  2\n",
      "Nodes:  5\n",
      "Nodes:  3\n"
     ]
    }
   ],
   "source": [
    "curNode = headNode\n",
    "while curNode.val != 2:\n",
    "    curNode = curNode.next\n",
    "newNode = ListNode(5)\n",
    "newNode.next = curNode.next\n",
    "curNode.next = newNode\n",
    "\n",
    "updateNode = headNode\n",
    "while updateNode:\n",
    "    print(\"Nodes: \", updateNode.val)\n",
    "    updateNode = updateNode.next"
   ]
  },
  {
   "cell_type": "markdown",
   "metadata": {},
   "source": [
    "Remove the listnode with value of 5"
   ]
  },
  {
   "cell_type": "code",
   "execution_count": 24,
   "metadata": {},
   "outputs": [
    {
     "name": "stdout",
     "output_type": "stream",
     "text": [
      "Nodes:  1\n",
      "Nodes:  2\n",
      "Nodes:  3\n"
     ]
    }
   ],
   "source": [
    "curNode = headNode\n",
    "while curNode.val != 2: \n",
    "    curNode = curNode.next\n",
    "\n",
    "if curNode:\n",
    "    curNode.next = curNode.next.next\n",
    "\n",
    "updateNode = headNode\n",
    "while updateNode:\n",
    "    print(\"Nodes: \", updateNode.val)\n",
    "    updateNode = updateNode.next"
   ]
  }
 ],
 "metadata": {
  "kernelspec": {
   "display_name": "Python 3",
   "language": "python",
   "name": "python3"
  },
  "language_info": {
   "codemirror_mode": {
    "name": "ipython",
    "version": 3
   },
   "file_extension": ".py",
   "mimetype": "text/x-python",
   "name": "python",
   "nbconvert_exporter": "python",
   "pygments_lexer": "ipython3",
   "version": "3.10.5"
  }
 },
 "nbformat": 4,
 "nbformat_minor": 2
}
