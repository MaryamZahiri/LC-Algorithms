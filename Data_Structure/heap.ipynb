{
 "cells": [
  {
   "cell_type": "markdown",
   "metadata": {},
   "source": [
    "Heap"
   ]
  },
  {
   "cell_type": "markdown",
   "metadata": {},
   "source": [
    "We do not care about the **order** of other data in the data set. How do we **efficiently** access the **largest** or \n",
    "**smallest** element in the current dataset? The answer would be Heap.\n",
    "\n",
    "- Is a complete binary tree; (have nodes from top to bottom, left to right for all levels)\n",
    "- The value of each node must be no greater than (or no less than) the value of its child nodes. (a parent node must be greater (or smaller) than or equal to its children nodes)"
   ]
  },
  {
   "cell_type": "markdown",
   "metadata": {},
   "source": [
    "![image](https://github.com/user-attachments/assets/2a30cc99-3206-4c09-a677-795da285ab39)\n"
   ]
  },
  {
   "cell_type": "markdown",
   "metadata": {},
   "source": [
    "A Heap has the following properties:"
   ]
  },
  {
   "cell_type": "markdown",
   "metadata": {},
   "source": [
    "- Insertion of an element into the Heap has a time complexity of O(logN);\n",
    "\n",
    "- Deletion of an element from the Heap has a time complexity of O(logN);\n",
    "\n",
    "- The maximum/minimum value in the Heap can be obtained with O(1) time complexity."
   ]
  },
  {
   "cell_type": "markdown",
   "metadata": {},
   "source": [
    "There are two kinds of heaps: Max Heap and Min Heap.\n",
    "\n",
    "Max Heap:\n",
    "\n",
    "the top element (root node) has the largest value in the Heap.\n",
    "\n",
    "Min Heap:\n",
    "\n",
    "the top element (root node) has the smallest value in the Heap."
   ]
  },
  {
   "cell_type": "markdown",
   "metadata": {},
   "source": [
    "![image](https://github.com/user-attachments/assets/5961ea5d-94dd-4c2e-b308-860189f82b2b)"
   ]
  },
  {
   "cell_type": "markdown",
   "metadata": {},
   "source": [
    "Insert to min heap:\n",
    "\n",
    "![image](https://github.com/user-attachments/assets/806cd113-6c9a-4278-a993-d082b84493e5)\n",
    "\n",
    "![image](https://github.com/user-attachments/assets/5402d7fd-d499-4f50-b5a4-fe9f3e5184b6)\n",
    "\n",
    "![image](https://github.com/user-attachments/assets/a6964d45-f3d7-4b2c-8f05-43524b60070f)"
   ]
  },
  {
   "cell_type": "markdown",
   "metadata": {},
   "source": [
    "Insert to max heap:\n",
    "\n",
    "![image](https://github.com/user-attachments/assets/c056336c-2345-4157-bfe2-313df7bb32f6)\n",
    "\n",
    "![image](https://github.com/user-attachments/assets/aada29b5-25fe-4408-b95a-6f9ae32a8940)\n",
    "\n",
    "![image](https://github.com/user-attachments/assets/99303c0f-7542-469a-8d48-8f1db1235315)"
   ]
  },
  {
   "cell_type": "markdown",
   "metadata": {},
   "source": [
    "Delete top element - min heap:\n",
    "\n",
    "![image](https://github.com/user-attachments/assets/fe28b051-ce64-4465-a930-f1b67becb698)\n",
    "\n",
    "![image](https://github.com/user-attachments/assets/ca171778-7129-4bca-b778-aa324d2a0e01)\n",
    "\n",
    "![image](https://github.com/user-attachments/assets/a69e88e6-699c-41e9-8a58-d697ba5c6935)\n",
    "\n",
    "![image](https://github.com/user-attachments/assets/9af3c304-dd1a-489e-bcfb-29908f22759f)\n",
    "\n",
    "![image](https://github.com/user-attachments/assets/1db7aeb2-b73c-4da5-b8d0-2e3ac7975eaa)"
   ]
  },
  {
   "cell_type": "markdown",
   "metadata": {},
   "source": [
    "Delete top element - max heap:\n",
    "\n",
    "![image](https://github.com/user-attachments/assets/b8e08888-3738-4c9d-a9ca-2086b704a403)\n",
    "\n",
    "![image](https://github.com/user-attachments/assets/5f5ed201-447b-4ff1-8326-50e872f87387)\n",
    "\n",
    "![image](https://github.com/user-attachments/assets/51e32887-07b2-44f9-9928-adfe3f06ded6)\n",
    "\n",
    "![image](https://github.com/user-attachments/assets/179b8732-1951-4eaa-a4bb-c2d0cd43d367)"
   ]
  },
  {
   "cell_type": "markdown",
   "metadata": {},
   "source": [
    "Complete Tree to Array:\n",
    "\n",
    "![image](https://github.com/user-attachments/assets/00de5204-cd54-47b0-a4b2-9f1b2db8778f)\n",
    "\n",
    "![image](https://github.com/user-attachments/assets/e8a9017b-1076-4039-abbf-73b838506de8)\n",
    "\n",
    "![image](https://github.com/user-attachments/assets/31f85ab1-342c-437a-b1b1-16f10df0082d)\n",
    "\n",
    "![image](https://github.com/user-attachments/assets/f8405c44-cf80-4c2d-b083-453c0726fe3a)"
   ]
  },
  {
   "cell_type": "markdown",
   "metadata": {},
   "source": [
    "Applications of Heap:\n",
    "- Construct a Max Heap and a Min Heap.\n",
    "- Insert elements into a Heap.\n",
    "- Get the top element of a Heap.\n",
    "- Delete the top element from a Heap.\n",
    "- Get the length of a Heap.\n",
    "- Perform time and space complexity analysis for common applications that use a Heap."
   ]
  },
  {
   "cell_type": "markdown",
   "metadata": {},
   "source": [
    "![image](https://github.com/user-attachments/assets/ede7b3e3-9ad4-401f-92eb-7ad00333673a)\n",
    "\n",
    "N is the number of elements in the heap."
   ]
  },
  {
   "cell_type": "code",
   "execution_count": 27,
   "metadata": {},
   "outputs": [],
   "source": [
    "import heapq\n",
    "heap = []"
   ]
  },
  {
   "cell_type": "markdown",
   "metadata": {},
   "source": [
    "Add and Pop element"
   ]
  },
  {
   "cell_type": "code",
   "execution_count": null,
   "metadata": {},
   "outputs": [
    {
     "name": "stdout",
     "output_type": "stream",
     "text": [
      "[1]\n",
      "1\n"
     ]
    }
   ],
   "source": [
    "heapq.heappush(heap, 1)\n",
    "print(heap)\n",
    "element = heapq.heappop(heap) # Pop the value on top of the heap: 1. The heap is now empty\n",
    "\n",
    "print(element)"
   ]
  },
  {
   "cell_type": "markdown",
   "metadata": {},
   "source": [
    "Construct a Heap: \n",
    "\n",
    "**Heapify** means converting a group of data into a Heap\n",
    "\n",
    "Python's built-in heap module, heapq\n",
    "\n",
    "Time complexity: \n",
    "O(N).\n",
    "\n",
    "Space complexity: \n",
    "O(N)."
   ]
  },
  {
   "cell_type": "markdown",
   "metadata": {},
   "source": [
    "![image](https://github.com/user-attachments/assets/c4a06865-b498-4947-85f0-5787ddf09c8d)"
   ]
  },
  {
   "cell_type": "code",
   "execution_count": 29,
   "metadata": {},
   "outputs": [],
   "source": [
    "# Construct an empty Max Heap\n",
    "# As there are no internal functions to construct a Max Heap in Python,\n",
    "# So, we will not construct a Max Heap.\n",
    "\n",
    "# Construct a Heap with Initial values\n",
    "# this process is called \"Heapify\"\n",
    "# The Heap is a Min Heap\n",
    "import heapq\n",
    "heap = [] # Create a new empty 'heap'. it is really just a list\n",
    "heapq.heapify(heap)"
   ]
  },
  {
   "cell_type": "code",
   "execution_count": 30,
   "metadata": {},
   "outputs": [],
   "source": [
    "minHeap = [3,1,2]\n",
    "heapq.heapify(minHeap)"
   ]
  },
  {
   "cell_type": "markdown",
   "metadata": {},
   "source": [
    "Turn min Heap to Max Heap:\n",
    "\n",
    "![image](https://github.com/user-attachments/assets/422492ad-ee1d-43dd-a5f4-b6898549c543)"
   ]
  },
  {
   "cell_type": "code",
   "execution_count": 31,
   "metadata": {},
   "outputs": [],
   "source": [
    "# Trick in constructing a Max Heap\n",
    "# As there are no internal functions to construct a Max Heap\n",
    "# We can multiply each element by -1, then heapify with these modified elements.\n",
    "# The top element will be the smallest element in the modified set,\n",
    "# It can also be converted to the maximum value in the original dataset.\n",
    "# Example\n",
    "maxHeap = [1,2,3]\n",
    "maxHeap = [-x for x in maxHeap]\n",
    "heapq.heapify(maxHeap)\n",
    "# The top element of maxHeap is -3\n",
    "# Convert -3 to 3, which is the maximum value in the original maxHeap"
   ]
  },
  {
   "cell_type": "markdown",
   "metadata": {},
   "source": [
    "Insert an element:\n",
    "\n",
    "Time complexity: \n",
    "O(logN)\n",
    "\n",
    "Space complexity: \n",
    "O(1)"
   ]
  },
  {
   "cell_type": "markdown",
   "metadata": {},
   "source": [
    "![image](https://github.com/user-attachments/assets/5a48bfd8-1b1a-40c3-a232-8d480be32dfa)"
   ]
  },
  {
   "cell_type": "code",
   "execution_count": 32,
   "metadata": {},
   "outputs": [
    {
     "name": "stdout",
     "output_type": "stream",
     "text": [
      "[1, 3, 2, 5]\n",
      "[-5, -3, -1, -2]\n"
     ]
    }
   ],
   "source": [
    "# Insert an element to the Min Heap\n",
    "heapq.heappush(minHeap, 5)\n",
    "print(minHeap)\n",
    "\n",
    "# Insert an element to the Max Heap\n",
    "# Multiply the element by -1\n",
    "# As we are converting the Min Heap to a Max Heap\n",
    "heapq.heappush(maxHeap, -1 * 5)\n",
    "print(maxHeap)"
   ]
  },
  {
   "cell_type": "markdown",
   "metadata": {},
   "source": [
    "Delete top element\n",
    "\n",
    "Note that, after deleting the top element, the properties of the Heap will still hold. Therefore, the new top element in the Heap will be the maximum (for Max Heap) or minimum (for Min Heap) of the current Heap.\n",
    "\n",
    "Time complexity: \n",
    "O(logN).\n",
    "\n",
    "Space complexity: \n",
    "O(1)."
   ]
  },
  {
   "cell_type": "markdown",
   "metadata": {},
   "source": [
    "![image](https://github.com/user-attachments/assets/1cc7ad59-b996-440b-ae1f-6035b0424c5d)\n",
    "\n",
    "![image](https://github.com/user-attachments/assets/e83931c6-5c0e-4766-ada9-51d2a6aaf7b0)\n",
    "\n",
    "![image](https://github.com/user-attachments/assets/8979acfd-3c70-467e-9893-1d8bf0bb34b6)"
   ]
  },
  {
   "cell_type": "code",
   "execution_count": 33,
   "metadata": {},
   "outputs": [
    {
     "name": "stdout",
     "output_type": "stream",
     "text": [
      "[2, 3, 5]\n"
     ]
    }
   ],
   "source": [
    "# Delete top element from the Min Heap\n",
    "heapq.heappop(minHeap)\n",
    "print(minHeap)"
   ]
  },
  {
   "cell_type": "code",
   "execution_count": 34,
   "metadata": {},
   "outputs": [
    {
     "name": "stdout",
     "output_type": "stream",
     "text": [
      "[-3, -2, -1]\n"
     ]
    }
   ],
   "source": [
    "# Delete top element from the Max Heap\n",
    "heapq.heappop(maxHeap)\n",
    "print(maxHeap)"
   ]
  },
  {
   "cell_type": "markdown",
   "metadata": {},
   "source": [
    "Top Element Heap:\n",
    "\n",
    "The top element of a Max heap is the maximum value in the Heap, while the top element of a Min Heap is the smallest value in the Heap. The top element of the Heap is the most important element in the Heap.\n",
    "\n",
    "Time complexity: \n",
    "O(1).\n",
    "\n",
    "Space complexity: \n",
    "O(1)."
   ]
  },
  {
   "cell_type": "markdown",
   "metadata": {},
   "source": [
    "![image](https://github.com/user-attachments/assets/39a825ac-155f-4cbc-8425-7d1ebcb799ea)"
   ]
  },
  {
   "cell_type": "code",
   "execution_count": 35,
   "metadata": {},
   "outputs": [
    {
     "name": "stdout",
     "output_type": "stream",
     "text": [
      "2\n"
     ]
    }
   ],
   "source": [
    "# Get top element from the Min Heap\n",
    "# i.e. the smallest element\n",
    "minHeap[0]\n",
    "print(minHeap[0])"
   ]
  },
  {
   "cell_type": "code",
   "execution_count": 36,
   "metadata": {},
   "outputs": [
    {
     "name": "stdout",
     "output_type": "stream",
     "text": [
      "3\n"
     ]
    }
   ],
   "source": [
    "# Get top element from the Min Heap\n",
    "# i.e. the smallest element\n",
    "-1 * maxHeap[0]\n",
    "print(-1 * maxHeap[0])"
   ]
  },
  {
   "cell_type": "markdown",
   "metadata": {},
   "source": [
    "Length of a Heap:\n",
    "\n",
    "The length of the Heap can be used to determine the size of the current heap, and it can also be used to determine if the current Heap is empty. If there are no elements in the current Heap, the length of the Heap is zero.\n",
    "\n",
    "Time complexity: \n",
    "O(1)\n",
    "\n",
    "Space complexity: \n",
    "O(1)"
   ]
  },
  {
   "cell_type": "markdown",
   "metadata": {},
   "source": [
    "We do not need to visit or iterate through whole heap\n",
    "\n",
    "![image](https://github.com/user-attachments/assets/abf9db70-a571-4ad1-a367-1ba201b98531)"
   ]
  },
  {
   "cell_type": "code",
   "execution_count": 37,
   "metadata": {},
   "outputs": [
    {
     "name": "stdout",
     "output_type": "stream",
     "text": [
      "3\n",
      "3\n"
     ]
    }
   ],
   "source": [
    "print(len(minHeap))\n",
    "\n",
    "print(len(maxHeap))"
   ]
  },
  {
   "cell_type": "markdown",
   "metadata": {},
   "source": [
    "Complete Code for all operations so far."
   ]
  },
  {
   "cell_type": "markdown",
   "metadata": {},
   "source": [
    "Min Heap"
   ]
  },
  {
   "cell_type": "code",
   "execution_count": 40,
   "metadata": {},
   "outputs": [
    {
     "name": "stdout",
     "output_type": "stream",
     "text": [
      "min heap: [1, 3, 2]\n",
      "Peak Number: 1\n",
      "Pop Number:  1\n",
      "Peak Number:  2\n",
      "Min Heap:  [2, 3]\n",
      "minHeap size:  2\n"
     ]
    }
   ],
   "source": [
    "import heapq\n",
    "\n",
    "# Create an array\n",
    "minHeap = []\n",
    "\n",
    "# Heapify array to a Min Heap\n",
    "heapq.heapify(minHeap)\n",
    "\n",
    "# Add elements to min Heap\n",
    "heapq.heappush(minHeap, 3)\n",
    "heapq.heappush(minHeap, 1)\n",
    "heapq.heappush(minHeap, 2)\n",
    "\n",
    "# check result for min heap\n",
    "print(\"min heap:\", minHeap)\n",
    "\n",
    "# Get the top element\n",
    "peekNum = minHeap[0]\n",
    "print(\"Peak Number:\", peekNum)\n",
    "\n",
    "# Delete the top element in min heap\n",
    "popNum = heapq.heappop(minHeap)\n",
    "print(\"Pop Number: \", popNum)\n",
    "print(\"Peak Number: \", minHeap[0])\n",
    "print(\"Min Heap: \", minHeap)\n",
    "\n",
    "size = len(minHeap)\n",
    "print(\"minHeap size: \", size)"
   ]
  },
  {
   "cell_type": "markdown",
   "metadata": {},
   "source": [
    "Max Heap"
   ]
  },
  {
   "cell_type": "code",
   "execution_count": 50,
   "metadata": {},
   "outputs": [
    {
     "name": "stdout",
     "output_type": "stream",
     "text": [
      "maxHeap:  [-3, -1, -2]\n",
      "Peak Number:  3\n",
      "Pop Number:  3\n",
      "Peak Number:  2\n",
      "Max Heap:  [-2, -1]\n",
      "maxHeap size:  2\n"
     ]
    }
   ],
   "source": [
    "import heapq\n",
    "\n",
    "# Create an array\n",
    "maxHeap = []\n",
    "\n",
    "# Heapify array to a Min heap\n",
    "heapq.heapify(maxHeap)\n",
    "\n",
    "# Add elements\n",
    "# Note we are actually adding -1, -3 and -2 after negating the elements\n",
    "# The Min Heap is now converted to a Max Heap\n",
    "heapq.heappush(maxHeap, -1 * 1)\n",
    "heapq.heappush(maxHeap, -1 * 3)\n",
    "heapq.heappush(maxHeap, -1 * 2)\n",
    "\n",
    "print(\"maxHeap: \", maxHeap)\n",
    "\n",
    "# Check largest element in heap and min value in heap is -1 * min value in negative. it is the max for max heap\n",
    "peekNum = maxHeap[0]\n",
    "print(\"Peak Number: \", -1 * peekNum)\n",
    "\n",
    "# Delete the lergest num in Max Heap\n",
    "popNum = heapq.heappop(maxHeap)\n",
    "print(\"Pop Number: \", -1 * popNum)\n",
    "print(\"Peak Number: \", -1 * maxHeap[0])\n",
    "# Check all elements in max heap\n",
    "print(\"Max Heap: \", maxHeap)\n",
    "\n",
    "# Check the number of elements in the Max Heap\n",
    "# Which is also the length of the Min Heap\n",
    "size = len(maxHeap)\n",
    "print(\"maxHeap size: \", size)"
   ]
  },
  {
   "cell_type": "markdown",
   "metadata": {},
   "source": [
    "min-heap"
   ]
  },
  {
   "cell_type": "code",
   "execution_count": 3,
   "metadata": {},
   "outputs": [
    {
     "name": "stdout",
     "output_type": "stream",
     "text": [
      "[1, 2, 4, 9, 3, 11]\n",
      "[1, 2, 3]\n"
     ]
    }
   ],
   "source": [
    "heap = []\n",
    "nums = [9,2,4,1,3,11]\n",
    "l = 3\n",
    "lsmallest = []\n",
    "\n",
    "for num in nums:\n",
    "    heapq.heappush(heap, num)\n",
    "print(heap)\n",
    "\n",
    "for i in range(l):\n",
    "    lsmallest.append(heapq.heappop(heap))\n",
    "print(lsmallest)"
   ]
  },
  {
   "cell_type": "markdown",
   "metadata": {},
   "source": [
    "Max-Heap:\n",
    "- we cannot directly use a max-heap with heapq\n",
    "- turning the largest elements into the smallest."
   ]
  },
  {
   "cell_type": "code",
   "execution_count": 5,
   "metadata": {},
   "outputs": [
    {
     "name": "stdout",
     "output_type": "stream",
     "text": [
      "[-43, -4, -2, -1, -3, -1]\n",
      "[43, 4]\n"
     ]
    }
   ],
   "source": [
    "nums = [4,1,2,43,3,1]\n",
    "\n",
    "# Invert numbers so that the largest values are now the smallest\n",
    "nums = [-1 * n for n in nums]\n",
    "\n",
    "# Turn numbers into min heap\n",
    "heapq.heapify(nums)\n",
    "print(nums)\n",
    "\n",
    "# Pop out 2 times\n",
    "l = 2\n",
    "llargest = []\n",
    "for i in range(l):\n",
    "    # Multiply by -1 to get our initial number back\n",
    "    llargest.append(-1 * heapq.heappop(nums))\n",
    "\n",
    "print(llargest)"
   ]
  },
  {
   "cell_type": "markdown",
   "metadata": {},
   "source": [
    "Build a Heap:\n",
    "- push new elements into the heap\n",
    "- A more efficient approach, use heapify()"
   ]
  },
  {
   "cell_type": "code",
   "execution_count": 6,
   "metadata": {},
   "outputs": [
    {
     "name": "stdout",
     "output_type": "stream",
     "text": [
      "1\n",
      "1\n"
     ]
    }
   ],
   "source": [
    "# Approach 1: push new elements into the heap\n",
    "nums = [4,1,24,2,1]\n",
    "heap = []\n",
    "for num in nums:\n",
    "    heapq.heappush(heap, num)\n",
    "smallest_nums = heapq.heappop(heap)\n",
    "print(smallest_nums)\n",
    "# Time complexity: O(nlogn)\n",
    "\n",
    "# Approach 2: use heapify()\n",
    "nums = [4,1,24,2,1]\n",
    "heapq.heapify(nums)\n",
    "smallest_nums = heapq.heappop(nums)\n",
    "print(smallest_nums)\n",
    "# Time complexity: O(n)"
   ]
  },
  {
   "cell_type": "markdown",
   "metadata": {},
   "source": [
    "Comparing Across Multiple Fields:\n",
    "- If you need to compare against multiple fields to find out which element is smaller or bigger, consider having the heap’s elements be tuples."
   ]
  },
  {
   "cell_type": "code",
   "execution_count": 7,
   "metadata": {},
   "outputs": [
    {
     "name": "stdout",
     "output_type": "stream",
     "text": [
      "[(12, 54), (16, 67), (17, 67), (18, 62)]\n"
     ]
    }
   ],
   "source": [
    "# Each entry is a tuple (age, height)\n",
    "students = [(12, 54), (18, 78), (18, 62), (17, 67), (16, 67), (21, 76)]\n",
    "\n",
    "heapq.heapify(students)\n",
    "\n",
    "youngest = []\n",
    "for i in range(4):\n",
    "    youngest.append(heapq.heappop(students))\n",
    "\n",
    "print(youngest)"
   ]
  },
  {
   "cell_type": "markdown",
   "metadata": {},
   "source": [
    "Priority queue:\n",
    "\n",
    "It is an abstract data type similar to a regular **queue or stack** data structure in which each element additionally has a \"priority\" associated with it.\n",
    "\n",
    "Therefore, a Heap is not a Priority Queue, but a way to implement a Priority Queue"
   ]
  }
 ],
 "metadata": {
  "kernelspec": {
   "display_name": "Python 3",
   "language": "python",
   "name": "python3"
  },
  "language_info": {
   "codemirror_mode": {
    "name": "ipython",
    "version": 3
   },
   "file_extension": ".py",
   "mimetype": "text/x-python",
   "name": "python",
   "nbconvert_exporter": "python",
   "pygments_lexer": "ipython3",
   "version": "3.10.5"
  }
 },
 "nbformat": 4,
 "nbformat_minor": 2
}
