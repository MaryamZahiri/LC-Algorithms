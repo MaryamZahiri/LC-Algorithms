{
 "cells": [
  {
   "cell_type": "markdown",
   "metadata": {},
   "source": [
    "Heap"
   ]
  },
  {
   "cell_type": "markdown",
   "metadata": {},
   "source": [
    "We do not care about the **order** of other data in the data set. How do we **efficiently** access the **largest** or \n",
    "**smallest** element in the current dataset? The answer would be Heap.\n",
    "\n",
    "- Is a complete binary tree; (have nodes from top to bottom, left to right for all levels)\n",
    "- The value of each node must be no greater than (or no less than) the value of its child nodes."
   ]
  },
  {
   "cell_type": "markdown",
   "metadata": {},
   "source": [
    "![image](https://github.com/user-attachments/assets/2a30cc99-3206-4c09-a677-795da285ab39)\n"
   ]
  },
  {
   "cell_type": "markdown",
   "metadata": {},
   "source": [
    "A Heap has the following properties:"
   ]
  },
  {
   "cell_type": "markdown",
   "metadata": {},
   "source": [
    "- Insertion of an element into the Heap has a time complexity of O(logN);\n",
    "\n",
    "- Deletion of an element from the Heap has a time complexity of O(logN);\n",
    "\n",
    "- The maximum/minimum value in the Heap can be obtained with O(1) time complexity."
   ]
  },
  {
   "cell_type": "markdown",
   "metadata": {},
   "source": [
    "There are two kinds of heaps: Max Heap and Min Heap.\n",
    "\n",
    "Max Heap:\n",
    "\n",
    "the top element (root node) has the largest value in the Heap.\n",
    "\n",
    "Min Heap:\n",
    "\n",
    "the top element (root node) has the smallest value in the Heap."
   ]
  },
  {
   "cell_type": "markdown",
   "metadata": {},
   "source": [
    "![image](https://github.com/user-attachments/assets/5961ea5d-94dd-4c2e-b308-860189f82b2b)"
   ]
  },
  {
   "cell_type": "markdown",
   "metadata": {},
   "source": [
    "Insert to min heap:\n",
    "\n",
    "![image](https://github.com/user-attachments/assets/806cd113-6c9a-4278-a993-d082b84493e5)\n",
    "\n",
    "![image](https://github.com/user-attachments/assets/5402d7fd-d499-4f50-b5a4-fe9f3e5184b6)\n",
    "\n",
    "![image](https://github.com/user-attachments/assets/a6964d45-f3d7-4b2c-8f05-43524b60070f)"
   ]
  },
  {
   "cell_type": "markdown",
   "metadata": {},
   "source": [
    "Insert to max heap:\n",
    "\n",
    "![image](https://github.com/user-attachments/assets/c056336c-2345-4157-bfe2-313df7bb32f6)\n",
    "\n",
    "![image](https://github.com/user-attachments/assets/aada29b5-25fe-4408-b95a-6f9ae32a8940)\n",
    "\n",
    "![image](https://github.com/user-attachments/assets/99303c0f-7542-469a-8d48-8f1db1235315)"
   ]
  },
  {
   "cell_type": "markdown",
   "metadata": {},
   "source": [
    "Delete top element - min heap:\n",
    "\n",
    "![image](https://github.com/user-attachments/assets/fe28b051-ce64-4465-a930-f1b67becb698)\n",
    "\n",
    "![image](https://github.com/user-attachments/assets/ca171778-7129-4bca-b778-aa324d2a0e01)\n",
    "\n",
    "![image](https://github.com/user-attachments/assets/a69e88e6-699c-41e9-8a58-d697ba5c6935)\n",
    "\n",
    "![image](https://github.com/user-attachments/assets/9af3c304-dd1a-489e-bcfb-29908f22759f)\n",
    "\n",
    "![image](https://github.com/user-attachments/assets/1db7aeb2-b73c-4da5-b8d0-2e3ac7975eaa)"
   ]
  },
  {
   "cell_type": "markdown",
   "metadata": {},
   "source": [
    "Delete top element - max heap:\n",
    "\n",
    "![image](https://github.com/user-attachments/assets/b8e08888-3738-4c9d-a9ca-2086b704a403)\n",
    "\n",
    "![image](https://github.com/user-attachments/assets/5f5ed201-447b-4ff1-8326-50e872f87387)\n",
    "\n",
    "![image](https://github.com/user-attachments/assets/51e32887-07b2-44f9-9928-adfe3f06ded6)\n",
    "\n",
    "![image](https://github.com/user-attachments/assets/179b8732-1951-4eaa-a4bb-c2d0cd43d367)"
   ]
  },
  {
   "cell_type": "markdown",
   "metadata": {},
   "source": [
    "Priority queue:\n",
    "\n",
    "It is an abstract data type similar to a regular **queue or stack** data structure in which each element additionally has a \"priority\" associated with it.\n",
    "\n",
    "Therefore, a Heap is not a Priority Queue, but a way to implement a Priority Queue"
   ]
  },
  {
   "cell_type": "code",
   "execution_count": 1,
   "metadata": {},
   "outputs": [],
   "source": [
    "import heapq\n",
    "heap = [] # Create a new 'heap'. it is really just a list"
   ]
  },
  {
   "cell_type": "markdown",
   "metadata": {},
   "source": [
    "Add and Pop element"
   ]
  },
  {
   "cell_type": "code",
   "execution_count": 2,
   "metadata": {},
   "outputs": [
    {
     "name": "stdout",
     "output_type": "stream",
     "text": [
      "[] 1\n"
     ]
    }
   ],
   "source": [
    "heapq.heappush(heap, 1)\n",
    "element = heapq.heappop(heap)\n",
    "print(heap, element)"
   ]
  },
  {
   "cell_type": "markdown",
   "metadata": {},
   "source": [
    "min-heap"
   ]
  },
  {
   "cell_type": "code",
   "execution_count": 3,
   "metadata": {},
   "outputs": [
    {
     "name": "stdout",
     "output_type": "stream",
     "text": [
      "[1, 2, 4, 9, 3, 11]\n",
      "[1, 2, 3]\n"
     ]
    }
   ],
   "source": [
    "heap = []\n",
    "nums = [9,2,4,1,3,11]\n",
    "l = 3\n",
    "lsmallest = []\n",
    "\n",
    "for num in nums:\n",
    "    heapq.heappush(heap, num)\n",
    "print(heap)\n",
    "\n",
    "for i in range(l):\n",
    "    lsmallest.append(heapq.heappop(heap))\n",
    "print(lsmallest)"
   ]
  },
  {
   "cell_type": "markdown",
   "metadata": {},
   "source": [
    "Max-Heap:\n",
    "- we cannot directly use a max-heap with heapq\n",
    "- turning the largest elements into the smallest."
   ]
  },
  {
   "cell_type": "code",
   "execution_count": 5,
   "metadata": {},
   "outputs": [
    {
     "name": "stdout",
     "output_type": "stream",
     "text": [
      "[-43, -4, -2, -1, -3, -1]\n",
      "[43, 4]\n"
     ]
    }
   ],
   "source": [
    "nums = [4,1,2,43,3,1]\n",
    "\n",
    "# Invert numbers so that the largest values are now the smallest\n",
    "nums = [-1 * n for n in nums]\n",
    "\n",
    "# Turn numbers into min heap\n",
    "heapq.heapify(nums)\n",
    "print(nums)\n",
    "\n",
    "# Pop out 2 times\n",
    "l = 2\n",
    "llargest = []\n",
    "for i in range(l):\n",
    "    # Multiply by -1 to get our initial number back\n",
    "    llargest.append(-1 * heapq.heappop(nums))\n",
    "\n",
    "print(llargest)"
   ]
  },
  {
   "cell_type": "markdown",
   "metadata": {},
   "source": [
    "Build a Heap:\n",
    "- push new elements into the heap\n",
    "- A more efficient approach, use heapify()"
   ]
  },
  {
   "cell_type": "code",
   "execution_count": 6,
   "metadata": {},
   "outputs": [
    {
     "name": "stdout",
     "output_type": "stream",
     "text": [
      "1\n",
      "1\n"
     ]
    }
   ],
   "source": [
    "# Approach 1: push new elements into the heap\n",
    "nums = [4,1,24,2,1]\n",
    "heap = []\n",
    "for num in nums:\n",
    "    heapq.heappush(heap, num)\n",
    "smallest_nums = heapq.heappop(heap)\n",
    "print(smallest_nums)\n",
    "# Time complexity: O(nlogn)\n",
    "\n",
    "# Approach 2: use heapify()\n",
    "nums = [4,1,24,2,1]\n",
    "heapq.heapify(nums)\n",
    "smallest_nums = heapq.heappop(nums)\n",
    "print(smallest_nums)\n",
    "# Time complexity: O(n)"
   ]
  },
  {
   "cell_type": "markdown",
   "metadata": {},
   "source": [
    "Comparing Across Multiple Fields:\n",
    "- If you need to compare against multiple fields to find out which element is smaller or bigger, consider having the heap’s elements be tuples."
   ]
  },
  {
   "cell_type": "code",
   "execution_count": 7,
   "metadata": {},
   "outputs": [
    {
     "name": "stdout",
     "output_type": "stream",
     "text": [
      "[(12, 54), (16, 67), (17, 67), (18, 62)]\n"
     ]
    }
   ],
   "source": [
    "# Each entry is a tuple (age, height)\n",
    "students = [(12, 54), (18, 78), (18, 62), (17, 67), (16, 67), (21, 76)]\n",
    "\n",
    "heapq.heapify(students)\n",
    "\n",
    "youngest = []\n",
    "for i in range(4):\n",
    "    youngest.append(heapq.heappop(students))\n",
    "\n",
    "print(youngest)"
   ]
  }
 ],
 "metadata": {
  "kernelspec": {
   "display_name": "Python 3",
   "language": "python",
   "name": "python3"
  },
  "language_info": {
   "codemirror_mode": {
    "name": "ipython",
    "version": 3
   },
   "file_extension": ".py",
   "mimetype": "text/x-python",
   "name": "python",
   "nbconvert_exporter": "python",
   "pygments_lexer": "ipython3",
   "version": "3.10.5"
  }
 },
 "nbformat": 4,
 "nbformat_minor": 2
}
