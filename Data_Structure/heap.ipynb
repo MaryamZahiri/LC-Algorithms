{
 "cells": [
  {
   "cell_type": "markdown",
   "metadata": {},
   "source": [
    "Heap"
   ]
  },
  {
   "cell_type": "code",
   "execution_count": 1,
   "metadata": {},
   "outputs": [],
   "source": [
    "import heapq\n",
    "heap = [] # Create a new 'heap'. it is really just a list"
   ]
  },
  {
   "cell_type": "markdown",
   "metadata": {},
   "source": [
    "Add and Pop element"
   ]
  },
  {
   "cell_type": "code",
   "execution_count": 2,
   "metadata": {},
   "outputs": [
    {
     "name": "stdout",
     "output_type": "stream",
     "text": [
      "[] 1\n"
     ]
    }
   ],
   "source": [
    "heapq.heappush(heap, 1)\n",
    "element = heapq.heappop(heap)\n",
    "print(heap, element)"
   ]
  },
  {
   "cell_type": "markdown",
   "metadata": {},
   "source": [
    "min-heap"
   ]
  },
  {
   "cell_type": "code",
   "execution_count": 3,
   "metadata": {},
   "outputs": [
    {
     "name": "stdout",
     "output_type": "stream",
     "text": [
      "[1, 2, 4, 9, 3, 11]\n",
      "[1, 2, 3]\n"
     ]
    }
   ],
   "source": [
    "heap = []\n",
    "nums = [9,2,4,1,3,11]\n",
    "l = 3\n",
    "lsmallest = []\n",
    "\n",
    "for num in nums:\n",
    "    heapq.heappush(heap, num)\n",
    "print(heap)\n",
    "\n",
    "for i in range(l):\n",
    "    lsmallest.append(heapq.heappop(heap))\n",
    "print(lsmallest)"
   ]
  },
  {
   "cell_type": "markdown",
   "metadata": {},
   "source": [
    "Max-Heap:\n",
    "- we cannot directly use a max-heap with heapq\n",
    "- turning the largest elements into the smallest."
   ]
  },
  {
   "cell_type": "code",
   "execution_count": 5,
   "metadata": {},
   "outputs": [
    {
     "name": "stdout",
     "output_type": "stream",
     "text": [
      "[-43, -4, -2, -1, -3, -1]\n",
      "[43, 4]\n"
     ]
    }
   ],
   "source": [
    "nums = [4,1,2,43,3,1]\n",
    "\n",
    "# Invert numbers so that the largest values are now the smallest\n",
    "nums = [-1 * n for n in nums]\n",
    "\n",
    "# Turn numbers into min heap\n",
    "heapq.heapify(nums)\n",
    "print(nums)\n",
    "\n",
    "# Pop out 2 times\n",
    "l = 2\n",
    "llargest = []\n",
    "for i in range(l):\n",
    "    # Multiply by -1 to get our initial number back\n",
    "    llargest.append(-1 * heapq.heappop(nums))\n",
    "\n",
    "print(llargest)"
   ]
  },
  {
   "cell_type": "markdown",
   "metadata": {},
   "source": [
    "Build a Heap:\n",
    "- push new elements into the heap\n",
    "- A more efficient approach, use heapify()"
   ]
  },
  {
   "cell_type": "code",
   "execution_count": 6,
   "metadata": {},
   "outputs": [
    {
     "name": "stdout",
     "output_type": "stream",
     "text": [
      "1\n",
      "1\n"
     ]
    }
   ],
   "source": [
    "# Approach 1: push new elements into the heap\n",
    "nums = [4,1,24,2,1]\n",
    "heap = []\n",
    "for num in nums:\n",
    "    heapq.heappush(heap, num)\n",
    "smallest_nums = heapq.heappop(heap)\n",
    "print(smallest_nums)\n",
    "# Time complexity: O(nlogn)\n",
    "\n",
    "# Approach 2: use heapify()\n",
    "nums = [4,1,24,2,1]\n",
    "heapq.heapify(nums)\n",
    "smallest_nums = heapq.heappop(nums)\n",
    "print(smallest_nums)\n",
    "# Time complexity: O(n)"
   ]
  },
  {
   "cell_type": "markdown",
   "metadata": {},
   "source": [
    "Comparing Across Multiple Fields:\n",
    "- If you need to compare against multiple fields to find out which element is smaller or bigger, consider having the heap’s elements be tuples."
   ]
  },
  {
   "cell_type": "code",
   "execution_count": 7,
   "metadata": {},
   "outputs": [
    {
     "name": "stdout",
     "output_type": "stream",
     "text": [
      "[(12, 54), (16, 67), (17, 67), (18, 62)]\n"
     ]
    }
   ],
   "source": [
    "# Each entry is a tuple (age, height)\n",
    "students = [(12, 54), (18, 78), (18, 62), (17, 67), (16, 67), (21, 76)]\n",
    "\n",
    "heapq.heapify(students)\n",
    "\n",
    "youngest = []\n",
    "for i in range(4):\n",
    "    youngest.append(heapq.heappop(students))\n",
    "\n",
    "print(youngest)"
   ]
  }
 ],
 "metadata": {
  "kernelspec": {
   "display_name": "Python 3",
   "language": "python",
   "name": "python3"
  },
  "language_info": {
   "codemirror_mode": {
    "name": "ipython",
    "version": 3
   },
   "file_extension": ".py",
   "mimetype": "text/x-python",
   "name": "python",
   "nbconvert_exporter": "python",
   "pygments_lexer": "ipython3",
   "version": "3.10.5"
  }
 },
 "nbformat": 4,
 "nbformat_minor": 2
}
