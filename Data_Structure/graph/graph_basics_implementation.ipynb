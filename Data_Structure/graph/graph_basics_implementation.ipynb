{
 "cells": [
  {
   "cell_type": "markdown",
   "metadata": {},
   "source": [
    "## Graph Implementation:\n",
    "- ### Adjacency List \n",
    "    - Explanation: node(index) -> [neighbor1, neighbor2]\n",
    "    - Example: List[List(int)]: [[neighbor1, neighbor2], [neighbor1, neighbor2], ...] \n",
    "    - Accessable: \n",
    "        - ```for neighbor1, neighbor2 in adjacency_list[node]```\n",
    "    - Time Complexity:\n",
    "        - Insertion\n",
    "            - Adding an Edge: (O(1)) on average.\n",
    "            Explanation: On average, appending an edge to an existing list of neighbors for a vertex is a constant-time operation. However, if the list of neighbors needs to be resized or reorganized (e.g., converted to a linked list for better performance), the time complexity could increase.\n",
    "        - Removal\n",
    "            - Removing an Edge: (O(1)) on average.\n",
    "            Explanation: Similarly, removing an edge from a list of neighbors is a constant-time operation on average. The actual time complexity can vary based on the data structure used to store the neighbors (e.g., array vs. linked list).\n",
    "        - Lookup\n",
    "            - Finding All Neighbors: (O(|N|)), where (|N|) is the degree of the vertex (the number of neighbors).\n",
    "            Explanation: To find all neighbors of a vertex, you need to iterate through the list of neighbors. The time complexity is thus proportional to the number of neighbors, which is the degree of the vertex.\n",
    "            Connectivity Query\n",
    "            - Finding All Connected Vertices: (O(V + E)) in the worst case.\n",
    "            Explanation: To find all vertices connected to a given vertex, you might need to traverse the entire graph starting from that vertex, visiting each vertex once and potentially exploring edges multiple times. Thus, the time complexity includes both the number of vertices ((V)) and the number of edges ((E)).\n",
    "    - Pros: \n",
    "        - Space Efficiency only for existing edges (less than Vertices^2) - more space-efficient than adjacency matrices, especially for sparse graphs where the number of edges is much less than (V^2)\n",
    "    - Cons: \n",
    "        - Time Comlexity for lookup all edges to a vertex: O(V) - In contrast, adjacency matrices provide constant-time lookup for any edge. (Not Suitable for Dense Graphs where the number of edges is close to the maximum possible)\n",
    "        - Complexity in Representation: more complex than with adjacency matrices, especially when dealing with directed acyclic graphs (DAGs) or multigraphs where there might be multiple edges between two nodes.\n",
    "        - Complex code: Unlike adjacency matrices, accessing an element directly by row and column indices is not possible with adjacency lists.\n",
    "    - Sample:\n",
    "        - <img src=\"https://github.com/MaryamZahiri/LC-Algorithms/assets/52676399/244a5781-e7c5-4ae5-9e66-e7797b388688\" width=\"460\">\n",
    "    - Explanation: \n",
    "        - node(index + 1) -> [neighbor1, neighbor2]\n"
   ]
  },
  {
   "cell_type": "code",
   "execution_count": null,
   "metadata": {},
   "outputs": [],
   "source": [
    "# Example:\n",
    "adjacency_list = [[2,3], [3,1], [1,2]]"
   ]
  },
  {
   "cell_type": "markdown",
   "metadata": {},
   "source": [
    "- ### Edge List\n",
    "    - Explanation: edges -> [node, neighbor]\n",
    "    - Example: List[List(int)]: [[node, neighbor], ...]\n",
    "    - Time Complexity: \n",
    "        - Insert:\n",
    "            - Time Complexity: (O(1)) on average for insertion/appending at the end of the list.\n",
    "            - If sorted: (O(E \\log E)), where (E) is the number of edges, assuming a balanced tree or similar data structure is used to keep the list sorted\n",
    "        - Remove:\n",
    "            - (O(E)): search entire edges\n",
    "        - Lookup:\n",
    "            - (O(E)): search entire edges\n",
    "    - Pros:\n",
    "        - Simple updates/add/remove edges\n",
    "        - Space Efficiency only for existing edges (less than Vertices^2) - more space-efficient than adjacency matrices, especially for sparse graphs\n",
    "    - Cons:\n",
    "        - Time Complexity for Lookup: Finding all edges connected to a particular vertex requires scanning through the entire edge list, resulting in a time complexity of (O(E)) where (E) is the number of edges. This is less efficient compared to adjacency matrices, which offer constant-time lookup for any edge.\n",
    "        - Space Complexity for Dense Graphs\n",
    "        - Complexity for accessing all vertices in dense graphs\n",
    "    - Sample:\n",
    "        - <img src=\"https://github.com/MaryamZahiri/LC-Algorithms/assets/52676399/3a8504fe-9943-4e95-a53a-1ca5e241aff5\" width=\"460\">\n",
    "    - Explanation:\n",
    "        - [[node, neighbor], ...]"
   ]
  },
  {
   "cell_type": "code",
   "execution_count": null,
   "metadata": {},
   "outputs": [],
   "source": [
    "# Example:\n",
    "edge_list = [[1,2], [2,3], [1,3]]"
   ]
  },
  {
   "cell_type": "markdown",
   "metadata": {},
   "source": [
    "- ### Adjacency Matrix\n",
    "    - Explanation: exactly which vertices/nodes in a graph have edges between -> [0, there is an edge, there is an edge]\n",
    "    - Example: List[List(int)]: [[0, 0or1, 0or1], [0or1, 0, 0or1], ...]\n",
    "    - Time Complexity: \n",
    "        - O(1) for adding, removing, lookup is constant-time\n",
    "        - Check connectivity: O(V) ->  In the worst case, you might visit all vertices for finding all vertices reachable from a given vertex.\n",
    "    - Pros: \n",
    "        - Constant Time for lookup, insertion, removal of edges\n",
    "        - Direct access to adjacency\n",
    "    - Cons:\n",
    "        - Space complexity: O(V^2)\n",
    "        - Higher Time complexity for checking connectivity to travese all graph\n",
    "    - Sample:\n",
    "        - <img src=\"https://github.com/MaryamZahiri/LC-Algorithms/assets/52676399/6484c99d-3316-4d6a-992c-ff7a491fb80c\" width=\"460\">\n",
    "    - Explanation:\n",
    "        - 1: value 1 means that node 1 and node 2 have edges between them\n",
    "        - 0: value 0 means that there is no edge \n",
    "        - [0, 1, 1] = [0, there is an edge, there is an edge]"
   ]
  },
  {
   "cell_type": "code",
   "execution_count": null,
   "metadata": {},
   "outputs": [],
   "source": [
    "# Example\n",
    "matrix = [[0,1,1],[1,0,1],[1,1,0]]"
   ]
  },
  {
   "cell_type": "markdown",
   "metadata": {},
   "source": [
    "> Notes: Why (V^2) Edges in graph?\n",
    "\n",
    "> Direct Correlation: Each edge connects exactly two vertices. Therefore, for a graph to be complete, it must have enough edges to ensure that every possible pair of vertices is connected. Since there are (V) ways to choose the first vertex and (V - 1) ways to choose the second vertex (to avoid choosing the same vertex twice), the total number of edges needed is (V \\times (V - 1) / 2). This formula represents the combination formula for choosing 2 items out of (V), which simplifies to approximately (V^2 / 2) for large (V), but in the context of complete graphs, we often consider the upper bound as (V^2), especially when discussing the density of connections in a graph"
   ]
  },
  {
   "cell_type": "markdown",
   "metadata": {},
   "source": [
    "## 1. Generate Graph"
   ]
  },
  {
   "cell_type": "markdown",
   "metadata": {},
   "source": [
    "### Generate Graph (Adjacency List) with nodes and edges"
   ]
  },
  {
   "cell_type": "code",
   "execution_count": 1,
   "metadata": {},
   "outputs": [],
   "source": [
    "class Graph:\n",
    "    def generateAdjacency(self, n: int, edges: list[list[int]]):\n",
    "        adjacency_list = [[] for _ in range(n)]\n",
    "\n",
    "        for node, neighbor in edges:\n",
    "            adjacency_list[node].append(neighbor)\n",
    "            adjacency_list[neighbor].append(node)\n",
    "        \n",
    "        return adjacency_list"
   ]
  },
  {
   "cell_type": "code",
   "execution_count": 2,
   "metadata": {},
   "outputs": [
    {
     "name": "stdout",
     "output_type": "stream",
     "text": [
      "Adjacency List:  [[1, 2], [0, 2], [1, 0]]\n"
     ]
    }
   ],
   "source": [
    "node = 3\n",
    "# edges: [node, neighbor]\n",
    "edges = [[0, 1], [1, 2], [2, 0]]\n",
    "\n",
    "# adjacency lists: node (index) -> [neighbor 1, neighbor 2]\n",
    "graph = Graph()\n",
    "print(\"Adjacency List: \", graph.generateAdjacency(node, edges))"
   ]
  },
  {
   "cell_type": "markdown",
   "metadata": {},
   "source": [
    "### Generate Graph (Adjacency Dictionary)"
   ]
  },
  {
   "cell_type": "markdown",
   "metadata": {},
   "source": [
    "#### Approach 1: Generate Graph (Adjacency Dictionary)"
   ]
  },
  {
   "cell_type": "markdown",
   "metadata": {},
   "source": [
    "Default Dict: defaultdict allows that if a key is not found in the dictionary, then instead of a KeyError being thrown, a new entry is created. "
   ]
  },
  {
   "cell_type": "code",
   "execution_count": 20,
   "metadata": {},
   "outputs": [],
   "source": [
    "from collections import defaultdict\n",
    "\n",
    "class Graph:\n",
    "    def addEdge(self, graph, node, neighbor):\n",
    "        graph[node].append(neighbor)"
   ]
  },
  {
   "cell_type": "code",
   "execution_count": 21,
   "metadata": {},
   "outputs": [
    {
     "name": "stdout",
     "output_type": "stream",
     "text": [
      "defaultdict(<class 'list'>, {'a': ['c'], 'b': ['c', 'e'], 'c': ['d', 'e', 'a', 'b']})\n"
     ]
    }
   ],
   "source": [
    "graph = defaultdict(list)\n",
    "\n",
    "generation = Graph()\n",
    "generation.addEdge(graph, \"a\", \"c\")\n",
    "generation.addEdge(graph, \"b\", \"c\")\n",
    "generation.addEdge(graph, \"b\", \"e\")\n",
    "generation.addEdge(graph, \"c\", \"d\")\n",
    "generation.addEdge(graph, \"c\", \"e\")\n",
    "generation.addEdge(graph, \"c\", \"a\")\n",
    "generation.addEdge(graph, \"c\", \"b\")\n",
    "\n",
    "# node -> neighbor 1, neighbor 2\n",
    "print(\"Adjacency Dictionary: \", graph)"
   ]
  },
  {
   "cell_type": "markdown",
   "metadata": {},
   "source": [
    "#### Approach 2: Generate Graph (Adjacency Dictionary)"
   ]
  },
  {
   "cell_type": "code",
   "execution_count": 2,
   "metadata": {},
   "outputs": [],
   "source": [
    "class Graph:\n",
    "    def addEdge(self, graph, node, neighbor):\n",
    "        if node not in graph:\n",
    "            graph[node] = []\n",
    "        graph[node].append(neighbor)"
   ]
  },
  {
   "cell_type": "code",
   "execution_count": 3,
   "metadata": {},
   "outputs": [
    {
     "name": "stdout",
     "output_type": "stream",
     "text": [
      "Adjacency Dictionary:  {'a': ['c'], 'b': ['c', 'e'], 'c': ['d', 'e', 'a', 'b']}\n"
     ]
    }
   ],
   "source": [
    "graph = {}\n",
    "\n",
    "generation = Graph()\n",
    "generation.addEdge(graph, \"a\", \"c\")\n",
    "generation.addEdge(graph, \"b\", \"c\")\n",
    "generation.addEdge(graph, \"b\", \"e\")\n",
    "generation.addEdge(graph, \"c\", \"d\")\n",
    "generation.addEdge(graph, \"c\", \"e\")\n",
    "generation.addEdge(graph, \"c\", \"a\")\n",
    "generation.addEdge(graph, \"c\", \"b\")\n",
    "\n",
    "print(\"Adjacency Dictionary: \", graph)"
   ]
  },
  {
   "cell_type": "markdown",
   "metadata": {},
   "source": [
    "### Generate Graph (Edge Lists by Adjacency Dictionary)"
   ]
  },
  {
   "cell_type": "markdown",
   "metadata": {},
   "source": [
    "> Note that since we have taken example of an undirected graph, we print the same edge twice say as (‘a’,’c’) and (‘c’,’a’). This issue can be fixed using a directed graph."
   ]
  },
  {
   "cell_type": "code",
   "execution_count": 27,
   "metadata": {},
   "outputs": [],
   "source": [
    "class Graph:\n",
    "    def addEdge(self, graph, node, neighbor):\n",
    "        if node not in graph:\n",
    "            graph[node] = []\n",
    "        graph[node].append(neighbor)\n",
    "\n",
    "    def generateEdges(self, graph):\n",
    "        edges = []\n",
    "        for node in graph:\n",
    "            for neighbor in graph[node]:\n",
    "                edges.append([node, neighbor])\n",
    "        return edges\n",
    "    "
   ]
  },
  {
   "cell_type": "code",
   "execution_count": 29,
   "metadata": {},
   "outputs": [
    {
     "name": "stdout",
     "output_type": "stream",
     "text": [
      "Adjacency Dictionary:  {'a': ['c'], 'b': ['c', 'e'], 'c': ['d', 'e', 'a', 'b']}\n",
      "Edge Lists:  [['a', 'c'], ['b', 'c'], ['b', 'e'], ['c', 'd'], ['c', 'e'], ['c', 'a'], ['c', 'b']]\n"
     ]
    }
   ],
   "source": [
    "\n",
    "graph = {}\n",
    "\n",
    "generation = Graph()\n",
    "generation.addEdge(graph, \"a\", \"c\")\n",
    "generation.addEdge(graph, \"b\", \"c\")\n",
    "generation.addEdge(graph, \"b\", \"e\")\n",
    "generation.addEdge(graph, \"c\", \"d\")\n",
    "generation.addEdge(graph, \"c\", \"e\")\n",
    "generation.addEdge(graph, \"c\", \"a\")\n",
    "generation.addEdge(graph, \"c\", \"b\")\n",
    "print(\"Adjacency Dictionary: \", graph)\n",
    "\n",
    "edges = generation.generateEdges(graph)\n",
    "print(\"Edge Lists: \", edges)"
   ]
  },
  {
   "cell_type": "markdown",
   "metadata": {},
   "source": [
    "## 2. Find Paths"
   ]
  },
  {
   "cell_type": "markdown",
   "metadata": {},
   "source": [
    "### Find the path from one node to destination node"
   ]
  },
  {
   "cell_type": "markdown",
   "metadata": {},
   "source": [
    "### Find all the possible paths from one node to the other"
   ]
  },
  {
   "cell_type": "markdown",
   "metadata": {},
   "source": [
    "### Find shortest path"
   ]
  }
 ],
 "metadata": {
  "kernelspec": {
   "display_name": "Python 3",
   "language": "python",
   "name": "python3"
  },
  "language_info": {
   "codemirror_mode": {
    "name": "ipython",
    "version": 3
   },
   "file_extension": ".py",
   "mimetype": "text/x-python",
   "name": "python",
   "nbconvert_exporter": "python",
   "pygments_lexer": "ipython3",
   "version": "3.10.5"
  }
 },
 "nbformat": 4,
 "nbformat_minor": 2
}
