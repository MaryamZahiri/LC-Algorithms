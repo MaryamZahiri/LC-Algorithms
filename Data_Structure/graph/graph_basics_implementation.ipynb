{
 "cells": [
  {
   "cell_type": "markdown",
   "metadata": {},
   "source": [
    "Graph Implementation:\n",
    "- Adjacency List \n",
    "    - Example: List[List(int)]: [[neighbor1, neighbor2], [neighbor1, neighbor2], ...] \n",
    "    - Accessable: \n",
    "        - ```for neighbor1, neighbor2 in adjacency_list[node]```\n",
    "    - Explanation: node(index) -> [neighbor1, neighbor2]\n",
    "    - Pros: \n",
    "        - Space Efficiency only for existing edges (less than Vertices^2) - more space-efficient than adjacency matrices, especially for sparse graphs where the number of edges is much less than (V^2)\n",
    "    - Cons: \n",
    "        - Time Comlexity for lookup all edges to a vertex: O(V) - In contrast, adjacency matrices provide constant-time lookup for any edge. (Not Suitable for Dense Graphs where the number of edges is close to the maximum possible)\n",
    "        - Complexity in Representation: more complex than with adjacency matrices, especially when dealing with directed acyclic graphs (DAGs) or multigraphs where there might be multiple edges between two nodes.\n",
    "        - Complex code: Unlike adjacency matrices, accessing an element directly by row and column indices is not possible with adjacency lists.\n",
    "- Edge List\n",
    "- Adjacency Matrix"
   ]
  },
  {
   "cell_type": "markdown",
   "metadata": {},
   "source": [
    "Adjacency List\n",
    "\n",
    "<img src=\"https://github.com/MaryamZahiri/LC-Algorithms/assets/52676399/244a5781-e7c5-4ae5-9e66-e7797b388688\" width=\"460\">"
   ]
  },
  {
   "cell_type": "markdown",
   "metadata": {},
   "source": [
    "node(index + 1) -> [neighbor1, neighbor2]"
   ]
  },
  {
   "cell_type": "code",
   "execution_count": null,
   "metadata": {},
   "outputs": [],
   "source": [
    "adjacency_list = [[2,3], [3,1], [1,2]]"
   ]
  },
  {
   "cell_type": "markdown",
   "metadata": {},
   "source": [
    "Edge List\n",
    "\n",
    "<img src=\"https://github.com/MaryamZahiri/LC-Algorithms/assets/52676399/3a8504fe-9943-4e95-a53a-1ca5e241aff5\" width=\"460\">"
   ]
  },
  {
   "cell_type": "markdown",
   "metadata": {},
   "source": [
    "[[node, neighbor], ...]"
   ]
  },
  {
   "cell_type": "code",
   "execution_count": null,
   "metadata": {},
   "outputs": [],
   "source": [
    "edge_list = [[1,2], [2,3], [1,3]]"
   ]
  },
  {
   "cell_type": "markdown",
   "metadata": {},
   "source": [
    "Adjacency Matrix\n",
    "\n",
    "<img src=\"https://github.com/MaryamZahiri/LC-Algorithms/assets/52676399/6484c99d-3316-4d6a-992c-ff7a491fb80c\" width=\"460\">"
   ]
  },
  {
   "cell_type": "markdown",
   "metadata": {},
   "source": [
    "node 1 and 2 -> edge: 1 = [0, edge, edge]"
   ]
  },
  {
   "cell_type": "code",
   "execution_count": null,
   "metadata": {},
   "outputs": [],
   "source": [
    "matrix = [[0,1,1],[1,0,1],[1,1,0]]"
   ]
  },
  {
   "cell_type": "markdown",
   "metadata": {},
   "source": [
    "> Notes: Why (V^2) Edges in graph?\n",
    "\n",
    "> Direct Correlation: Each edge connects exactly two vertices. Therefore, for a graph to be complete, it must have enough edges to ensure that every possible pair of vertices is connected. Since there are (V) ways to choose the first vertex and (V - 1) ways to choose the second vertex (to avoid choosing the same vertex twice), the total number of edges needed is (V \\times (V - 1) / 2). This formula represents the combination formula for choosing 2 items out of (V), which simplifies to approximately (V^2 / 2) for large (V), but in the context of complete graphs, we often consider the upper bound as (V^2), especially when discussing the density of connections in a graph"
   ]
  },
  {
   "cell_type": "markdown",
   "metadata": {},
   "source": [
    "1. Generate Graph"
   ]
  },
  {
   "cell_type": "markdown",
   "metadata": {},
   "source": [
    "*Generate Graph (Adjacency List) with nodes and edges*"
   ]
  },
  {
   "cell_type": "code",
   "execution_count": 1,
   "metadata": {},
   "outputs": [],
   "source": [
    "class Graph:\n",
    "    def generateAdjacency(self, n: int, edges: list[list[int]]):\n",
    "        adjacency_list = [[] for _ in range(n)]\n",
    "\n",
    "        for node, neighbor in edges:\n",
    "            adjacency_list[node].append(neighbor)\n",
    "            adjacency_list[neighbor].append(node)\n",
    "        \n",
    "        return adjacency_list"
   ]
  },
  {
   "cell_type": "code",
   "execution_count": 2,
   "metadata": {},
   "outputs": [
    {
     "name": "stdout",
     "output_type": "stream",
     "text": [
      "Adjacency List:  [[1, 2], [0, 2], [1, 0]]\n"
     ]
    }
   ],
   "source": [
    "node = 3\n",
    "# edges: [node, neighbor]\n",
    "edges = [[0, 1], [1, 2], [2, 0]]\n",
    "\n",
    "# adjacency lists: node (index) -> [neighbor 1, neighbor 2]\n",
    "graph = Graph()\n",
    "print(\"Adjacency List: \", graph.generateAdjacency(node, edges))"
   ]
  },
  {
   "cell_type": "markdown",
   "metadata": {},
   "source": [
    "*Generate Graph (Adjacency Dictionary)*"
   ]
  },
  {
   "cell_type": "markdown",
   "metadata": {},
   "source": [
    "Approach 1: Generate Graph (Adjacency Dictionary)"
   ]
  },
  {
   "cell_type": "markdown",
   "metadata": {},
   "source": [
    "Default Dict: defaultdict allows that if a key is not found in the dictionary, then instead of a KeyError being thrown, a new entry is created. "
   ]
  },
  {
   "cell_type": "code",
   "execution_count": 20,
   "metadata": {},
   "outputs": [],
   "source": [
    "from collections import defaultdict\n",
    "\n",
    "class Graph:\n",
    "    def addEdge(self, graph, node, neighbor):\n",
    "        graph[node].append(neighbor)"
   ]
  },
  {
   "cell_type": "code",
   "execution_count": 21,
   "metadata": {},
   "outputs": [
    {
     "name": "stdout",
     "output_type": "stream",
     "text": [
      "defaultdict(<class 'list'>, {'a': ['c'], 'b': ['c', 'e'], 'c': ['d', 'e', 'a', 'b']})\n"
     ]
    }
   ],
   "source": [
    "graph = defaultdict(list)\n",
    "\n",
    "generation = Graph()\n",
    "generation.addEdge(graph, \"a\", \"c\")\n",
    "generation.addEdge(graph, \"b\", \"c\")\n",
    "generation.addEdge(graph, \"b\", \"e\")\n",
    "generation.addEdge(graph, \"c\", \"d\")\n",
    "generation.addEdge(graph, \"c\", \"e\")\n",
    "generation.addEdge(graph, \"c\", \"a\")\n",
    "generation.addEdge(graph, \"c\", \"b\")\n",
    "\n",
    "# node -> neighbor 1, neighbor 2\n",
    "print(\"Adjacency Dictionary: \", graph)"
   ]
  },
  {
   "cell_type": "markdown",
   "metadata": {},
   "source": [
    "Approach 2: Generate Graph (Adjacency Dictionary)"
   ]
  },
  {
   "cell_type": "code",
   "execution_count": 2,
   "metadata": {},
   "outputs": [],
   "source": [
    "class Graph:\n",
    "    def addEdge(self, graph, node, neighbor):\n",
    "        if node not in graph:\n",
    "            graph[node] = []\n",
    "        graph[node].append(neighbor)"
   ]
  },
  {
   "cell_type": "code",
   "execution_count": 3,
   "metadata": {},
   "outputs": [
    {
     "name": "stdout",
     "output_type": "stream",
     "text": [
      "Adjacency Dictionary:  {'a': ['c'], 'b': ['c', 'e'], 'c': ['d', 'e', 'a', 'b']}\n"
     ]
    }
   ],
   "source": [
    "graph = {}\n",
    "\n",
    "generation = Graph()\n",
    "generation.addEdge(graph, \"a\", \"c\")\n",
    "generation.addEdge(graph, \"b\", \"c\")\n",
    "generation.addEdge(graph, \"b\", \"e\")\n",
    "generation.addEdge(graph, \"c\", \"d\")\n",
    "generation.addEdge(graph, \"c\", \"e\")\n",
    "generation.addEdge(graph, \"c\", \"a\")\n",
    "generation.addEdge(graph, \"c\", \"b\")\n",
    "\n",
    "print(\"Adjacency Dictionary: \", graph)"
   ]
  },
  {
   "cell_type": "markdown",
   "metadata": {},
   "source": [
    "*Generate Graph (Edge Lists by Adjacency Dictionary)*"
   ]
  },
  {
   "cell_type": "markdown",
   "metadata": {},
   "source": [
    "> Note that since we have taken example of an undirected graph, we print the same edge twice say as (‘a’,’c’) and (‘c’,’a’). This issue can be fixed using a directed graph."
   ]
  },
  {
   "cell_type": "code",
   "execution_count": 27,
   "metadata": {},
   "outputs": [],
   "source": [
    "class Graph:\n",
    "    def addEdge(self, graph, node, neighbor):\n",
    "        if node not in graph:\n",
    "            graph[node] = []\n",
    "        graph[node].append(neighbor)\n",
    "\n",
    "    def generateEdges(self, graph):\n",
    "        edges = []\n",
    "        for node in graph:\n",
    "            for neighbor in graph[node]:\n",
    "                edges.append([node, neighbor])\n",
    "        return edges\n",
    "    "
   ]
  },
  {
   "cell_type": "code",
   "execution_count": 29,
   "metadata": {},
   "outputs": [
    {
     "name": "stdout",
     "output_type": "stream",
     "text": [
      "Adjacency Dictionary:  {'a': ['c'], 'b': ['c', 'e'], 'c': ['d', 'e', 'a', 'b']}\n",
      "Edge Lists:  [['a', 'c'], ['b', 'c'], ['b', 'e'], ['c', 'd'], ['c', 'e'], ['c', 'a'], ['c', 'b']]\n"
     ]
    }
   ],
   "source": [
    "\n",
    "graph = {}\n",
    "\n",
    "generation = Graph()\n",
    "generation.addEdge(graph, \"a\", \"c\")\n",
    "generation.addEdge(graph, \"b\", \"c\")\n",
    "generation.addEdge(graph, \"b\", \"e\")\n",
    "generation.addEdge(graph, \"c\", \"d\")\n",
    "generation.addEdge(graph, \"c\", \"e\")\n",
    "generation.addEdge(graph, \"c\", \"a\")\n",
    "generation.addEdge(graph, \"c\", \"b\")\n",
    "print(\"Adjacency Dictionary: \", graph)\n",
    "\n",
    "edges = generation.generateEdges(graph)\n",
    "print(\"Edge Lists: \", edges)"
   ]
  },
  {
   "cell_type": "markdown",
   "metadata": {},
   "source": [
    "2. Find Paths"
   ]
  },
  {
   "cell_type": "markdown",
   "metadata": {},
   "source": [
    "Find the path from one node to destination node"
   ]
  },
  {
   "cell_type": "markdown",
   "metadata": {},
   "source": [
    "Find all the possible paths from one node to the other"
   ]
  },
  {
   "cell_type": "markdown",
   "metadata": {},
   "source": [
    "Find shortest path"
   ]
  }
 ],
 "metadata": {
  "kernelspec": {
   "display_name": "Python 3",
   "language": "python",
   "name": "python3"
  },
  "language_info": {
   "codemirror_mode": {
    "name": "ipython",
    "version": 3
   },
   "file_extension": ".py",
   "mimetype": "text/x-python",
   "name": "python",
   "nbconvert_exporter": "python",
   "pygments_lexer": "ipython3",
   "version": "3.10.5"
  }
 },
 "nbformat": 4,
 "nbformat_minor": 2
}
