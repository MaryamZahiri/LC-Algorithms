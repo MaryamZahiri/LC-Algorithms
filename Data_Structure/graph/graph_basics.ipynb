{
 "cells": [
  {
   "cell_type": "markdown",
   "metadata": {},
   "source": [
    "Graph Implementation:\n",
    "- Adjacency List\n",
    "- Edge List\n",
    "- Adjacency Matrix"
   ]
  },
  {
   "cell_type": "markdown",
   "metadata": {},
   "source": [
    "1. Generate Graph"
   ]
  },
  {
   "cell_type": "markdown",
   "metadata": {},
   "source": [
    "*Generate Graph (Adgacency Dictionary)*"
   ]
  },
  {
   "cell_type": "markdown",
   "metadata": {},
   "source": [
    "Approach 1: Generate Graph (Adgacency Dictionary)"
   ]
  },
  {
   "cell_type": "markdown",
   "metadata": {},
   "source": [
    "Default Dict: defaultdict allows that if a key is not found in the dictionary, then instead of a KeyError being thrown, a new entry is created. "
   ]
  },
  {
   "cell_type": "code",
   "execution_count": 20,
   "metadata": {},
   "outputs": [],
   "source": [
    "from collections import defaultdict\n",
    "\n",
    "class Graph:\n",
    "    def addEdge(self, graph, node, neighbor):\n",
    "        graph[node].append(neighbor)"
   ]
  },
  {
   "cell_type": "code",
   "execution_count": 21,
   "metadata": {},
   "outputs": [
    {
     "name": "stdout",
     "output_type": "stream",
     "text": [
      "defaultdict(<class 'list'>, {'a': ['c'], 'b': ['c', 'e'], 'c': ['d', 'e', 'a', 'b']})\n"
     ]
    }
   ],
   "source": [
    "graph = defaultdict(list)\n",
    "\n",
    "generation = Graph()\n",
    "generation.addEdge(graph, \"a\", \"c\")\n",
    "generation.addEdge(graph, \"b\", \"c\")\n",
    "generation.addEdge(graph, \"b\", \"e\")\n",
    "generation.addEdge(graph, \"c\", \"d\")\n",
    "generation.addEdge(graph, \"c\", \"e\")\n",
    "generation.addEdge(graph, \"c\", \"a\")\n",
    "generation.addEdge(graph, \"c\", \"b\")\n",
    "\n",
    "# node -> neighbor 1, neighbor 2\n",
    "print(\"Adjacency Dictionary: \", graph)"
   ]
  },
  {
   "cell_type": "markdown",
   "metadata": {},
   "source": [
    "Approach 2: Generate Graph (Adgacency Dictionary)"
   ]
  },
  {
   "cell_type": "code",
   "execution_count": 2,
   "metadata": {},
   "outputs": [],
   "source": [
    "class Graph:\n",
    "    def addEdge(self, graph, node, neighbor):\n",
    "        if node not in graph:\n",
    "            graph[node] = []\n",
    "        graph[node].append(neighbor)"
   ]
  },
  {
   "cell_type": "code",
   "execution_count": 3,
   "metadata": {},
   "outputs": [
    {
     "name": "stdout",
     "output_type": "stream",
     "text": [
      "Adjacency Dictionary:  {'a': ['c'], 'b': ['c', 'e'], 'c': ['d', 'e', 'a', 'b']}\n"
     ]
    }
   ],
   "source": [
    "graph = {}\n",
    "\n",
    "generation = Graph()\n",
    "generation.addEdge(graph, \"a\", \"c\")\n",
    "generation.addEdge(graph, \"b\", \"c\")\n",
    "generation.addEdge(graph, \"b\", \"e\")\n",
    "generation.addEdge(graph, \"c\", \"d\")\n",
    "generation.addEdge(graph, \"c\", \"e\")\n",
    "generation.addEdge(graph, \"c\", \"a\")\n",
    "generation.addEdge(graph, \"c\", \"b\")\n",
    "\n",
    "print(\"Adjacency Dictionary: \", graph)"
   ]
  },
  {
   "cell_type": "markdown",
   "metadata": {},
   "source": [
    "*Generate Graph (Edge Lists by Adjacency Dictionary)*"
   ]
  },
  {
   "cell_type": "markdown",
   "metadata": {},
   "source": [
    "> Note that since we have taken example of an undirected graph, we print the same edge twice say as (‘a’,’c’) and (‘c’,’a’). This issue can be fixed using a directed graph."
   ]
  },
  {
   "cell_type": "code",
   "execution_count": 27,
   "metadata": {},
   "outputs": [],
   "source": [
    "class Graph:\n",
    "    def addEdge(self, graph, node, neighbor):\n",
    "        if node not in graph:\n",
    "            graph[node] = []\n",
    "        graph[node].append(neighbor)\n",
    "\n",
    "    def generateEdges(self, graph):\n",
    "        edges = []\n",
    "        for node in graph:\n",
    "            for neighbor in graph[node]:\n",
    "                edges.append([node, neighbor])\n",
    "        return edges\n",
    "    "
   ]
  },
  {
   "cell_type": "code",
   "execution_count": 29,
   "metadata": {},
   "outputs": [
    {
     "name": "stdout",
     "output_type": "stream",
     "text": [
      "Adjacency Dictionary:  {'a': ['c'], 'b': ['c', 'e'], 'c': ['d', 'e', 'a', 'b']}\n",
      "Edge Lists:  [['a', 'c'], ['b', 'c'], ['b', 'e'], ['c', 'd'], ['c', 'e'], ['c', 'a'], ['c', 'b']]\n"
     ]
    }
   ],
   "source": [
    "\n",
    "graph = {}\n",
    "\n",
    "generation = Graph()\n",
    "generation.addEdge(graph, \"a\", \"c\")\n",
    "generation.addEdge(graph, \"b\", \"c\")\n",
    "generation.addEdge(graph, \"b\", \"e\")\n",
    "generation.addEdge(graph, \"c\", \"d\")\n",
    "generation.addEdge(graph, \"c\", \"e\")\n",
    "generation.addEdge(graph, \"c\", \"a\")\n",
    "generation.addEdge(graph, \"c\", \"b\")\n",
    "print(\"Adjacency Dictionary: \", graph)\n",
    "\n",
    "edges = generation.generateEdges(graph)\n",
    "print(\"Edge Lists: \", edges)"
   ]
  },
  {
   "cell_type": "markdown",
   "metadata": {},
   "source": [
    "*Generate Graph (Adjacency List) with nodes and edges*"
   ]
  },
  {
   "cell_type": "code",
   "execution_count": 30,
   "metadata": {},
   "outputs": [],
   "source": [
    "class Graph:\n",
    "    def generateAdjacency(self, n: int, edges: list[list[int]]):\n",
    "        adjacency_list = [[] for _ in range(n)]\n",
    "\n",
    "        for node, neighbor in edges:\n",
    "            adjacency_list[node].append(neighbor)\n",
    "            adjacency_list[neighbor].append(node)\n",
    "        \n",
    "        return adjacency_list"
   ]
  },
  {
   "cell_type": "code",
   "execution_count": 31,
   "metadata": {},
   "outputs": [
    {
     "name": "stdout",
     "output_type": "stream",
     "text": [
      "Adjacency List:  [[1, 2], [0, 2], [1, 0]]\n"
     ]
    }
   ],
   "source": [
    "node = 3\n",
    "# edges: [node, neighbor]\n",
    "edges = [[0, 1], [1, 2], [2, 0]]\n",
    "\n",
    "# adjacency lists: node (index) -> [neighbor 1, neighbor 2]\n",
    "graph = Graph()\n",
    "print(\"Adjacency List: \", graph.generateAdjacency(node, edges))"
   ]
  },
  {
   "cell_type": "markdown",
   "metadata": {},
   "source": [
    "2. Find Paths"
   ]
  },
  {
   "cell_type": "markdown",
   "metadata": {},
   "source": [
    "Find the path from one node to destination node"
   ]
  },
  {
   "cell_type": "markdown",
   "metadata": {},
   "source": [
    "Find all the possible paths from one node to the other"
   ]
  },
  {
   "cell_type": "markdown",
   "metadata": {},
   "source": [
    "Find shortest path"
   ]
  }
 ],
 "metadata": {
  "kernelspec": {
   "display_name": "Python 3",
   "language": "python",
   "name": "python3"
  },
  "language_info": {
   "codemirror_mode": {
    "name": "ipython",
    "version": 3
   },
   "file_extension": ".py",
   "mimetype": "text/x-python",
   "name": "python",
   "nbconvert_exporter": "python",
   "pygments_lexer": "ipython3",
   "version": "3.9.6"
  }
 },
 "nbformat": 4,
 "nbformat_minor": 2
}
