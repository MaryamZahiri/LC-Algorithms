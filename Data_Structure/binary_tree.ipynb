{
 "cells": [
  {
   "cell_type": "markdown",
   "metadata": {},
   "source": [
    "Binary Tree:\n",
    "- a nonlinear data structure \n",
    "- each node has at most two children\n",
    "- Chidren are referred to as the left child and the right child.\n",
    "Concepts in tree:\n",
    "- There are three important properties of trees: height, depth and level, together with edge and path"
   ]
  },
  {
   "cell_type": "markdown",
   "metadata": {},
   "source": [
    "Edge:\n",
    "- an edge is a line between two nodes, or a node and a leaf"
   ]
  },
  {
   "cell_type": "markdown",
   "metadata": {},
   "source": [
    "Path:\n",
    "- a sequence of nodes and edges connecting"
   ]
  },
  {
   "cell_type": "markdown",
   "metadata": {},
   "source": [
    "Height:\n",
    "- number of edges on the longest downward path between that node and a leaf\n",
    "- Base line: Bottom\n",
    "- what is the max number of nodes a tree can have if the height of the tree is h?. Of course the answer is 2h−1"
   ]
  },
  {
   "cell_type": "markdown",
   "metadata": {},
   "source": [
    "Depth:\n",
    "- number of edges from the node to the tree’s root node\n",
    "- Base line: Up"
   ]
  },
  {
   "cell_type": "markdown",
   "metadata": {},
   "source": [
    "Level:\n",
    "- Depth + 1"
   ]
  },
  {
   "cell_type": "markdown",
   "metadata": {},
   "source": [
    "Implementation a tree with only a root:"
   ]
  },
  {
   "cell_type": "code",
   "execution_count": 1,
   "metadata": {},
   "outputs": [],
   "source": [
    "class Node:\n",
    "    def __init__(self, data):\n",
    "        self.left = None\n",
    "        self.data = data\n",
    "        self.right = None\n",
    "    \n",
    "    def PrintTree(self):\n",
    "        if self.left:\n",
    "            print(self.left)\n",
    "\n",
    "        print(self.data)\n",
    "\n",
    "        if self.right: \n",
    "            print(self.right)"
   ]
  },
  {
   "cell_type": "code",
   "execution_count": 2,
   "metadata": {},
   "outputs": [
    {
     "name": "stdout",
     "output_type": "stream",
     "text": [
      "10\n"
     ]
    }
   ],
   "source": [
    "root = Node(10)\n",
    "root.PrintTree()"
   ]
  },
  {
   "cell_type": "markdown",
   "metadata": {},
   "source": []
  }
 ],
 "metadata": {
  "kernelspec": {
   "display_name": "Python 3",
   "language": "python",
   "name": "python3"
  },
  "language_info": {
   "codemirror_mode": {
    "name": "ipython",
    "version": 3
   },
   "file_extension": ".py",
   "mimetype": "text/x-python",
   "name": "python",
   "nbconvert_exporter": "python",
   "pygments_lexer": "ipython3",
   "version": "3.9.6"
  }
 },
 "nbformat": 4,
 "nbformat_minor": 2
}
