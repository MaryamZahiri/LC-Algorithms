{
 "cells": [
  {
   "cell_type": "markdown",
   "metadata": {},
   "source": [
    "Binary Tree:\n",
    "- a nonlinear data structure \n",
    "- each node has at most two children\n",
    "- Chidren are referred to as the left child and the right child.\n",
    "\n",
    "Concepts in tree:\n",
    "- There are three important properties of trees: \n",
    "  - height, \n",
    "  - depth and \n",
    "  - level, together with edge and path"
   ]
  },
  {
   "cell_type": "markdown",
   "metadata": {},
   "source": [
    "Edge:\n",
    "- an edge is a line between two nodes, or a node and a leaf"
   ]
  },
  {
   "cell_type": "markdown",
   "metadata": {},
   "source": [
    "Path:\n",
    "- a sequence of nodes and edges connecting"
   ]
  },
  {
   "cell_type": "markdown",
   "metadata": {},
   "source": [
    "Height:\n",
    "- number of edges on the longest downward path between that node and a leaf\n",
    "- Base line: Bottom\n",
    "- what is the max number of nodes a tree can have if the height of the tree is h?. Of course the answer is 2h−1"
   ]
  },
  {
   "cell_type": "markdown",
   "metadata": {},
   "source": [
    "Depth:\n",
    "- number of edges from the node to the tree’s root node\n",
    "- Base line: Up"
   ]
  },
  {
   "cell_type": "markdown",
   "metadata": {},
   "source": [
    "Level:\n",
    "- Depth + 1"
   ]
  },
  {
   "cell_type": "markdown",
   "metadata": {},
   "source": [
    "Size:\n",
    "- total number of nodes "
   ]
  },
  {
   "cell_type": "markdown",
   "metadata": {},
   "source": [
    "Create Root:\n",
    "- Implementation a tree with only a root"
   ]
  },
  {
   "cell_type": "code",
   "execution_count": 1,
   "metadata": {},
   "outputs": [],
   "source": [
    "class Node:\n",
    "    def __init__(self, data):\n",
    "        self.left = None\n",
    "        self.data = data\n",
    "        self.right = None\n",
    "    \n",
    "    def PrintTree(self):\n",
    "        print(self.data)"
   ]
  },
  {
   "cell_type": "code",
   "execution_count": 2,
   "metadata": {},
   "outputs": [
    {
     "name": "stdout",
     "output_type": "stream",
     "text": [
      "10\n"
     ]
    }
   ],
   "source": [
    "root = Node(10)\n",
    "root.PrintTree()"
   ]
  },
  {
   "cell_type": "markdown",
   "metadata": {},
   "source": [
    "Inserting to a Tree:\n",
    "- Compares the value of the node to the parent node and decides to add it as a left node or a right node."
   ]
  },
  {
   "cell_type": "code",
   "execution_count": 2,
   "metadata": {},
   "outputs": [],
   "source": [
    "class Node:\n",
    "    def __init__(self, data):\n",
    "        self.left = None\n",
    "        self.data = data\n",
    "        self.right = None\n",
    "\n",
    "    def insert(self, data):\n",
    "        if self.data:\n",
    "            if data < self.data:\n",
    "                if self.left is None:\n",
    "                    self.left = Node(data)\n",
    "                else:\n",
    "                    self.left.insert(data)\n",
    "            elif data > self.data:\n",
    "                if self.right is None:\n",
    "                    self.right = Node(data)\n",
    "                else:\n",
    "                    self.right.insert(data)\n",
    "        else:\n",
    "            self.data = data\n",
    "\n",
    "    def print_tree(self):\n",
    "        if self.left:\n",
    "            self.left.print_tree()\n",
    "        print(self.data)\n",
    "        if self.right:\n",
    "            self.right.print_tree()"
   ]
  },
  {
   "cell_type": "code",
   "execution_count": 4,
   "metadata": {},
   "outputs": [
    {
     "name": "stdout",
     "output_type": "stream",
     "text": [
      "1\n",
      "12\n",
      "15\n"
     ]
    }
   ],
   "source": [
    "root = Node(12)\n",
    "root.insert(1)\n",
    "root.insert(15)\n",
    "root.print_tree()"
   ]
  },
  {
   "cell_type": "markdown",
   "metadata": {},
   "source": [
    "Travers:\n",
    "- deciding on a sequence to visit each node\n",
    "\n",
    "Three ways to traverse tree:\n",
    "- In-order Traversal\n",
    "- Pre-order Traversal\n",
    "- Post-order Traversal"
   ]
  },
  {
   "cell_type": "markdown",
   "metadata": {},
   "source": [
    "In-order Traversal:\n",
    "- the left subtree is visited first, then the root and later the right subtree"
   ]
  },
  {
   "cell_type": "code",
   "execution_count": 5,
   "metadata": {},
   "outputs": [],
   "source": [
    "class Node:\n",
    "    def __init__(self, data):\n",
    "        self.left = None\n",
    "        self.data = data \n",
    "        self.right = None\n",
    "\n",
    "    def insert(self, data):\n",
    "        if self.data:\n",
    "            if data < self.data:\n",
    "                if self.left is None:\n",
    "                    self.left = Node(data)\n",
    "                else:\n",
    "                    self.left.insert(data)\n",
    "            elif data > self.data:\n",
    "                if self.right is None:\n",
    "                    self.right = Node(data)\n",
    "                else:\n",
    "                    self.right.insert(data)\n",
    "        else: \n",
    "            self.data = data\n",
    "        \n",
    "    def inorderTraversal(self, root):\n",
    "        result = []\n",
    "        if root:\n",
    "            result = self.inorderTraversal(root.left)\n",
    "            result.append(root.data)\n",
    "            result += self.inorderTraversal(root.right)\n",
    "\n",
    "        return result"
   ]
  },
  {
   "cell_type": "code",
   "execution_count": 6,
   "metadata": {},
   "outputs": [
    {
     "name": "stdout",
     "output_type": "stream",
     "text": [
      "[3, 5, 20, 23, 30]\n"
     ]
    }
   ],
   "source": [
    "root = Node(20)\n",
    "root.insert(3)\n",
    "root.insert(5)\n",
    "root.insert(23)\n",
    "root.insert(30)\n",
    "inorder_traverse = root.inorderTraversal(root)\n",
    "print(inorder_traverse)"
   ]
  },
  {
   "cell_type": "markdown",
   "metadata": {},
   "source": [
    "Pre-order Traversal:\n",
    "- the root node is visited first, then the left subtree and finally the right subtree"
   ]
  },
  {
   "cell_type": "code",
   "execution_count": 11,
   "metadata": {},
   "outputs": [],
   "source": [
    "class Node:\n",
    "    def __init__(self, data):\n",
    "        self.left = None\n",
    "        self.data = data\n",
    "        self.right = None \n",
    "\n",
    "    def insert(self, data):\n",
    "        if self.data:\n",
    "            if data < self.data:\n",
    "                if self.left is None:\n",
    "                    self.left = Node(data)\n",
    "                else:\n",
    "                    self.left.insert(data)\n",
    "            elif data > self.data:\n",
    "                if self.right is None:\n",
    "                    self.right = Node(data)\n",
    "                else:\n",
    "                    self.right.insert(data)\n",
    "        else: \n",
    "            self.data = data\n",
    "    \n",
    "    def preorderTraversal(self, root):\n",
    "        result = []\n",
    "        if root:\n",
    "            result.append(root.data)\n",
    "            result += self.preorderTraversal(root.left)\n",
    "            result += self.preorderTraversal(root.right)\n",
    "        return result"
   ]
  },
  {
   "cell_type": "code",
   "execution_count": 12,
   "metadata": {},
   "outputs": [
    {
     "name": "stdout",
     "output_type": "stream",
     "text": [
      "[20, 3, 5, 23, 30]\n"
     ]
    }
   ],
   "source": [
    "root = Node(20)\n",
    "root.insert(3)\n",
    "root.insert(5)\n",
    "root.insert(23)\n",
    "root.insert(30)\n",
    "preorder_traversal = root.preorderTraversal(root)\n",
    "print(preorder_traversal)"
   ]
  }
 ],
 "metadata": {
  "kernelspec": {
   "display_name": "Python 3",
   "language": "python",
   "name": "python3"
  },
  "language_info": {
   "codemirror_mode": {
    "name": "ipython",
    "version": 3
   },
   "file_extension": ".py",
   "mimetype": "text/x-python",
   "name": "python",
   "nbconvert_exporter": "python",
   "pygments_lexer": "ipython3",
   "version": "3.9.6"
  }
 },
 "nbformat": 4,
 "nbformat_minor": 2
}
