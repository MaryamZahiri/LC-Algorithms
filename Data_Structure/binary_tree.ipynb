{
 "cells": [
  {
   "cell_type": "markdown",
   "metadata": {},
   "source": [
    "**Binary Tree:**\n",
    "- a nonlinear data structure \n",
    "- each node has at most two children\n",
    "- Chidren are referred to as the left child and the right child.\n",
    "- value of nodes in left subtree is lesser\n",
    "- value of nodes in right subtree is greater \n",
    "\n",
    "Concepts in tree:\n",
    "\n",
    "<img src = \"https://github.com/user-attachments/assets/1d3fbcf1-b32a-4e6f-a95c-da51057b1bd0\" width=\"460\">\n",
    "\n",
    "- There are three important properties of trees: \n",
    "  - height, \n",
    "  - depth and \n",
    "  - level, together with edge and path"
   ]
  },
  {
   "cell_type": "markdown",
   "metadata": {},
   "source": [
    "*Edge:*\n",
    "- an edge is a line between two nodes, or a node and a leaf"
   ]
  },
  {
   "cell_type": "markdown",
   "metadata": {},
   "source": [
    "*Path:*\n",
    "- a sequence of nodes and edges connecting"
   ]
  },
  {
   "cell_type": "markdown",
   "metadata": {},
   "source": [
    "*Height:*\n",
    "- number of edges on the longest downward path between that node and a leaf\n",
    "- Base line: Bottom\n",
    "- what is the max number of nodes a tree can have if the height of the tree is h?. Of course the answer is 2h−1"
   ]
  },
  {
   "cell_type": "markdown",
   "metadata": {},
   "source": [
    "*Depth:*\n",
    "- number of edges from the node to the tree’s root node\n",
    "- Base line: Up"
   ]
  },
  {
   "cell_type": "markdown",
   "metadata": {},
   "source": [
    "Level:\n",
    "- Depth + 1"
   ]
  },
  {
   "cell_type": "markdown",
   "metadata": {},
   "source": [
    "*Size:*\n",
    "- total number of nodes "
   ]
  },
  {
   "cell_type": "markdown",
   "metadata": {},
   "source": [
    "**Create Root:**\n",
    "- Implementation a tree with only a root"
   ]
  },
  {
   "cell_type": "code",
   "execution_count": 1,
   "metadata": {},
   "outputs": [],
   "source": [
    "class Node:\n",
    "    def __init__(self, data):\n",
    "        self.left = None\n",
    "        self.data = data\n",
    "        self.right = None\n",
    "    \n",
    "    def PrintTree(self):\n",
    "        print(self.data)"
   ]
  },
  {
   "cell_type": "code",
   "execution_count": 2,
   "metadata": {},
   "outputs": [
    {
     "name": "stdout",
     "output_type": "stream",
     "text": [
      "10\n"
     ]
    }
   ],
   "source": [
    "root = Node(10)\n",
    "root.PrintTree()"
   ]
  },
  {
   "cell_type": "markdown",
   "metadata": {},
   "source": [
    "**Inserting to a Tree:**\n",
    "- Compares the value of the node to the parent node and decides to add it as a left node or a right node."
   ]
  },
  {
   "cell_type": "code",
   "execution_count": 2,
   "metadata": {},
   "outputs": [],
   "source": [
    "class Node:\n",
    "    def __init__(self, data):\n",
    "        self.left = None\n",
    "        self.data = data\n",
    "        self.right = None\n",
    "\n",
    "    def insert(self, data):\n",
    "        if self.data:\n",
    "            if data < self.data:\n",
    "                if self.left is None:\n",
    "                    self.left = Node(data)\n",
    "                else:\n",
    "                    self.left.insert(data)\n",
    "            elif data > self.data:\n",
    "                if self.right is None:\n",
    "                    self.right = Node(data)\n",
    "                else:\n",
    "                    self.right.insert(data)\n",
    "        else:\n",
    "            self.data = data\n",
    "\n",
    "    def print_tree(self):\n",
    "        if self.left:\n",
    "            self.left.print_tree()\n",
    "        print(self.data)\n",
    "        if self.right:\n",
    "            self.right.print_tree()"
   ]
  },
  {
   "cell_type": "code",
   "execution_count": 4,
   "metadata": {},
   "outputs": [
    {
     "name": "stdout",
     "output_type": "stream",
     "text": [
      "1\n",
      "12\n",
      "15\n"
     ]
    }
   ],
   "source": [
    "root = Node(12)\n",
    "root.insert(1)\n",
    "root.insert(15)\n",
    "root.print_tree()"
   ]
  },
  {
   "cell_type": "markdown",
   "metadata": {},
   "source": [
    "**Travers:**\n",
    "- deciding on a sequence to visit each node\n",
    "\n",
    "Three ways to traverse tree:\n",
    "- In-order Traversal\n",
    "- Pre-order Traversal\n",
    "- Post-order Traversal"
   ]
  },
  {
   "cell_type": "markdown",
   "metadata": {},
   "source": [
    "**In-order Traversal:**\n",
    "- the left subtree is visited first, then the root and later the right subtree"
   ]
  },
  {
   "cell_type": "code",
   "execution_count": 13,
   "metadata": {},
   "outputs": [],
   "source": [
    "class Node:\n",
    "    def __init__(self, data):\n",
    "        self.left = None\n",
    "        self.data = data \n",
    "        self.right = None\n",
    "\n",
    "    def insert(self, data):\n",
    "        if self.data:\n",
    "            if data < self.data:\n",
    "                if self.left is None:\n",
    "                    self.left = Node(data)\n",
    "                else:\n",
    "                    self.left.insert(data)\n",
    "            elif data > self.data:\n",
    "                if self.right is None:\n",
    "                    self.right = Node(data)\n",
    "                else:\n",
    "                    self.right.insert(data)\n",
    "        else: \n",
    "            self.data = data\n",
    "        \n",
    "    def inorderTraversal(self, root):\n",
    "        result = []\n",
    "        if root:\n",
    "            result = self.inorderTraversal(root.left)\n",
    "            result.append(root.data)\n",
    "            result += self.inorderTraversal(root.right)\n",
    "\n",
    "        return result"
   ]
  },
  {
   "cell_type": "code",
   "execution_count": 14,
   "metadata": {},
   "outputs": [
    {
     "name": "stdout",
     "output_type": "stream",
     "text": [
      "[10, 14, 19, 27, 31, 35, 42]\n"
     ]
    }
   ],
   "source": [
    "root = Node(27)\n",
    "root.insert(14)\n",
    "root.insert(35)\n",
    "root.insert(10)\n",
    "root.insert(19)\n",
    "root.insert(31)\n",
    "root.insert(42)\n",
    "inorder_traverse = root.inorderTraversal(root)\n",
    "print(inorder_traverse)"
   ]
  },
  {
   "cell_type": "markdown",
   "metadata": {},
   "source": [
    "**Pre-order Traversal:**\n",
    "- the root node is visited first, then the left subtree and finally the right subtree"
   ]
  },
  {
   "cell_type": "code",
   "execution_count": 15,
   "metadata": {},
   "outputs": [],
   "source": [
    "class Node:\n",
    "    def __init__(self, data):\n",
    "        self.left = None\n",
    "        self.data = data\n",
    "        self.right = None \n",
    "\n",
    "    def insert(self, data):\n",
    "        if self.data:\n",
    "            if data < self.data:\n",
    "                if self.left is None:\n",
    "                    self.left = Node(data)\n",
    "                else:\n",
    "                    self.left.insert(data)\n",
    "            elif data > self.data:\n",
    "                if self.right is None:\n",
    "                    self.right = Node(data)\n",
    "                else:\n",
    "                    self.right.insert(data)\n",
    "        else: \n",
    "            self.data = data\n",
    "    \n",
    "    def preorderTraversal(self, root):\n",
    "        result = []\n",
    "        if root:\n",
    "            result.append(root.data)\n",
    "            result += self.preorderTraversal(root.left)\n",
    "            result += self.preorderTraversal(root.right)\n",
    "        return result"
   ]
  },
  {
   "cell_type": "code",
   "execution_count": 16,
   "metadata": {},
   "outputs": [
    {
     "name": "stdout",
     "output_type": "stream",
     "text": [
      "[27, 14, 10, 19, 35, 31, 42]\n"
     ]
    }
   ],
   "source": [
    "root = Node(27)\n",
    "root.insert(14)\n",
    "root.insert(35)\n",
    "root.insert(10)\n",
    "root.insert(19)\n",
    "root.insert(31)\n",
    "root.insert(42)\n",
    "preorder_traversal = root.preorderTraversal(root)\n",
    "print(preorder_traversal)"
   ]
  },
  {
   "cell_type": "markdown",
   "metadata": {},
   "source": [
    "**Post-Order Traversal:**\n",
    "- we traverse the left subtree, then the right subtree and finally the root node."
   ]
  },
  {
   "cell_type": "code",
   "execution_count": 18,
   "metadata": {},
   "outputs": [],
   "source": [
    "class Node:\n",
    "    def __init__(self, data):\n",
    "        self.left = None\n",
    "        self.data = data\n",
    "        self.right = None\n",
    "\n",
    "    def insert(self, data):\n",
    "        if self.data:\n",
    "            if data < self.data:\n",
    "                if self.left is None:\n",
    "                    self.left = Node(data)\n",
    "                else:\n",
    "                    self.left.insert(data)\n",
    "            if data > self.data:\n",
    "                if self.right is None:\n",
    "                    self.right = Node(data)\n",
    "                else:\n",
    "                    self.right.insert(data)\n",
    "        else:\n",
    "            self.data = data\n",
    "\n",
    "    def postorderTraversal(self, root):\n",
    "        result = []\n",
    "        if root:\n",
    "            result += self.postorderTraversal(root.left)\n",
    "            result += self.postorderTraversal(root.right)\n",
    "            result.append(root.data)\n",
    "\n",
    "        return result"
   ]
  },
  {
   "cell_type": "code",
   "execution_count": 19,
   "metadata": {},
   "outputs": [
    {
     "name": "stdout",
     "output_type": "stream",
     "text": [
      "[10, 19, 14, 31, 42, 35, 27]\n"
     ]
    }
   ],
   "source": [
    "root = Node(27)\n",
    "root.insert(14)\n",
    "root.insert(35)\n",
    "root.insert(10)\n",
    "root.insert(19)\n",
    "root.insert(31)\n",
    "root.insert(42)\n",
    "postorder_traversal = root.postorderTraversal(root)\n",
    "print(postorder_traversal)"
   ]
  },
  {
   "cell_type": "markdown",
   "metadata": {},
   "source": [
    "**Summary:**"
   ]
  },
  {
   "cell_type": "code",
   "execution_count": 20,
   "metadata": {},
   "outputs": [],
   "source": [
    "class Tree:\n",
    "    def __init__(self, data):\n",
    "        self.left = None\n",
    "        self.data = data\n",
    "        self.right = None\n",
    "\n",
    "root_node = Tree(1)\n",
    "left_node = Tree(2)\n",
    "right_node = Tree(3)\n",
    "\n",
    "root_node.left = left_node\n",
    "root_node.right = right_node"
   ]
  },
  {
   "cell_type": "code",
   "execution_count": 23,
   "metadata": {},
   "outputs": [],
   "source": [
    "# In order traversal: (left, root, right)\n",
    "def inorderTraversal(root):\n",
    "    result = []\n",
    "    if not root:\n",
    "        return result\n",
    "    \n",
    "    def traverse(node: Tree):\n",
    "        if not node:\n",
    "            return \n",
    "        \n",
    "        traverse(node.left)\n",
    "        result.append(node.data)\n",
    "        traverse(node.right)\n",
    "\n",
    "    traverse(root)\n",
    "    return result"
   ]
  },
  {
   "cell_type": "code",
   "execution_count": 24,
   "metadata": {},
   "outputs": [
    {
     "name": "stdout",
     "output_type": "stream",
     "text": [
      "In Order Traversal:  [2, 1, 3]\n"
     ]
    }
   ],
   "source": [
    "print(\"In Order Traversal: \", inorderTraversal(root_node))"
   ]
  },
  {
   "cell_type": "code",
   "execution_count": 25,
   "metadata": {},
   "outputs": [],
   "source": [
    "# Pre order traversal: (root, left, right)\n",
    "def preorderTraversal(root):\n",
    "    result = []\n",
    "    if not root:\n",
    "        return result\n",
    "    \n",
    "    def traverse(node: Tree):\n",
    "        if not node:\n",
    "            return \n",
    "        \n",
    "        result.append(node.data)\n",
    "        traverse(node.left)\n",
    "        traverse(node.right)\n",
    "\n",
    "    traverse(root)\n",
    "    return result    "
   ]
  },
  {
   "cell_type": "code",
   "execution_count": 26,
   "metadata": {},
   "outputs": [
    {
     "name": "stdout",
     "output_type": "stream",
     "text": [
      "Pre Order Traversal:  [1, 2, 3]\n"
     ]
    }
   ],
   "source": [
    "print(\"Pre Order Traversal: \", preorderTraversal(root_node))"
   ]
  },
  {
   "cell_type": "code",
   "execution_count": 27,
   "metadata": {},
   "outputs": [],
   "source": [
    "# Post order traversal: (left, right, root)\n",
    "def postorderTraversal(root):\n",
    "    result = []\n",
    "    if not root:\n",
    "        return result\n",
    "    \n",
    "    def traverse(node):\n",
    "        if not node:\n",
    "            return \n",
    "        \n",
    "        traverse(node.left)\n",
    "        traverse(node.right)\n",
    "        result.append(node.data)\n",
    "\n",
    "    traverse(root)\n",
    "    return result"
   ]
  },
  {
   "cell_type": "code",
   "execution_count": 28,
   "metadata": {},
   "outputs": [
    {
     "name": "stdout",
     "output_type": "stream",
     "text": [
      "Post Order Traversal:  [2, 3, 1]\n"
     ]
    }
   ],
   "source": [
    "print(\"Post Order Traversal: \", postorderTraversal(root_node))"
   ]
  }
 ],
 "metadata": {
  "kernelspec": {
   "display_name": "Python 3",
   "language": "python",
   "name": "python3"
  },
  "language_info": {
   "codemirror_mode": {
    "name": "ipython",
    "version": 3
   },
   "file_extension": ".py",
   "mimetype": "text/x-python",
   "name": "python",
   "nbconvert_exporter": "python",
   "pygments_lexer": "ipython3",
   "version": "3.9.6"
  }
 },
 "nbformat": 4,
 "nbformat_minor": 2
}
