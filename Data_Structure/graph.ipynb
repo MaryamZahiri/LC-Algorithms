{
 "cells": [
  {
   "cell_type": "markdown",
   "metadata": {},
   "source": [
    "# Graph\n",
    "Non-linear data structure\n",
    "\n",
    "Nodes and edges - no rules\n",
    "\n",
    "## Types of “graphs”\n",
    "### Undirected graphs\n",
    "> Facebook Network | G = {V, E}\n",
    "\n",
    "<img src=\"https://github.com/MaryamZahiri/LC-Algorithms/assets/52676399/290ca436-9b2c-4597-b44e-0ed37f7297ca\" width=\"460\">\n",
    "\n",
    "### Directed graphs\n",
    "> Google Webs | G = (V, E)\n",
    "\n",
    "<img src=\"https://github.com/MaryamZahiri/LC-Algorithms/assets/52676399/9071661c-7c2d-484d-bff0-97df650912e0\" width=\"460\">\n",
    "\n",
    "### Weighted graphs\n",
    "> Road map network (weight = distances)\n",
    "\n",
    "<img src=\"https://github.com/MaryamZahiri/LC-Algorithms/assets/52676399/32e6a102-1577-493c-9035-88829b986e3e\" width=\"460\">\n",
    "\n",
    "## Properties of Graph\n",
    "\n",
    "<img src=\"https://github.com/MaryamZahiri/LC-Algorithms/assets/52676399/289568f3-0c49-4315-8124-c69c0952a3cf\" width=\"460\">\n",
    "\n",
    "## Graph implementation\n",
    "1. Edge List\n",
    "2. Adjancy Matrix\n",
    "3. Adjancy List\n",
    "\n",
    "## Graph Algorithm\n",
    "### 1. [Traversing all Vertices](https://github.com/MaryamZahiri/LC-Algorithms/blob/master/graph/Example%201%20-%20DFS%20vs%20BFS%20-%20Traversing%20all%20Vertices%20Example%201.md)\n",
    "\n",
    "### 2. [Traversing all paths between two vertices vs Shortest Path Between Two Vertices](https://github.com/MaryamZahiri/LC-Algorithms/blob/master/graph/Example%202%20-%20DFS%20vs%20BFS%20-%20Traversing%20all%20paths%20between%20two%20vertices.md)\n",
    "\n",
    "## Sources\n",
    "[Explore Graph from Leedcode](https://leetcode.com/explore/learn/card/graph/)\n",
    "\n",
    "[Data Structure](https://www.youtube.com/watch?v=ZdY1Fp9dKzs&list=PL2_aWCzGMAwI3W_JlcBbtYTwiQSsOTa6P&index=40)\n",
    "\n",
    "[Neetcode](https://www.youtube.com/@NeetCode)\n",
    "\n",
    "[Lintcode](https://www.lintcode.com/)"
   ]
  }
 ],
 "metadata": {
  "kernelspec": {
   "display_name": "Python 3",
   "language": "python",
   "name": "python3"
  },
  "language_info": {
   "codemirror_mode": {
    "name": "ipython",
    "version": 3
   },
   "file_extension": ".py",
   "mimetype": "text/x-python",
   "name": "python",
   "nbconvert_exporter": "python",
   "pygments_lexer": "ipython3",
   "version": "3.10.5"
  }
 },
 "nbformat": 4,
 "nbformat_minor": 2
}
