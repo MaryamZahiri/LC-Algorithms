{
 "cells": [
  {
   "cell_type": "code",
   "execution_count": 1,
   "metadata": {},
   "outputs": [
    {
     "data": {
      "text/plain": [
       "'1_'"
      ]
     },
     "execution_count": 1,
     "metadata": {},
     "output_type": "execute_result"
    }
   ],
   "source": [
    "sample = ['1', '_']\n",
    "''.join(sample)"
   ]
  },
  {
   "cell_type": "code",
   "execution_count": null,
   "metadata": {},
   "outputs": [],
   "source": [
    "# List of Strings:\n",
    "words = [\"Hello\", \"world\"]\n",
    "result = \" \".join(words)  # \"Hello world\"\n",
    "\n",
    "# Tuple of Strings:\n",
    "phrases = (\"Join\", \"these\", \"words\")\n",
    "result = \"-\".join(phrases)  # \"Join-these-words\"\n",
    "\n",
    "# Set of Strings (order may vary):\n",
    "items = {\"apple\", \"banana\", \"cherry\"}\n",
    "result = \", \".join(items)  # \"apple, banana, cherry\" (order not guaranteed)\n",
    "\n",
    "# Generator of Strings:\n",
    "numbers = (str(i) for i in range(5))\n",
    "result = \" \".join(numbers)  # \"0 1 2 3 4\"\n",
    "\n",
    "'''\n",
    "These examples show join() combining elements from various iterable types as long as they’re all strings.\n",
    "'''"
   ]
  },
  {
   "cell_type": "code",
   "execution_count": null,
   "metadata": {},
   "outputs": [],
   "source": [
    "'''\n",
    "The .split() method is used to divide a string into a list of substrings based on a specified delimiter. Here are some examples:\n",
    "Basic Split (by Space):\n",
    "'''\n",
    "\n",
    "text = \"Hello world\"\n",
    "result = text.split()  # ['Hello', 'world']\n",
    "\n",
    "# Split by a Specific Character:\n",
    "csv = \"apple,banana,cherry\"\n",
    "result = csv.split(\",\")  # ['apple', 'banana', 'cherry']\n",
    "\n",
    "\n",
    "#Split with Limit on Number of Splits:\n",
    "text = \"one two three four\"\n",
    "result = text.split(\" \", 2)  # ['one', 'two', 'three four']\n",
    "\n",
    "#Split by Newline:\n",
    "multiline = \"line1\\nline2\\nline3\"\n",
    "result = multiline.split(\"\\n\")  # ['line1', 'line2', 'line3']"
   ]
  },
  {
   "cell_type": "code",
   "execution_count": 5,
   "metadata": {},
   "outputs": [
    {
     "name": "stdout",
     "output_type": "stream",
     "text": [
      "Hello World!\n",
      "H              W\n"
     ]
    }
   ],
   "source": [
    "# It removes the spaces (and possibly tabs or newlines) at the start and end of s\n",
    "s = \"   Hello World!   \"\n",
    "s = s.strip()\n",
    "# Output: \"Hello World!\"\n",
    "print(s)\n",
    "\n",
    "s = \"     H              W \"\n",
    "s= s.strip()\n",
    "print(s)"
   ]
  },
  {
   "cell_type": "code",
   "execution_count": 6,
   "metadata": {},
   "outputs": [
    {
     "name": "stdout",
     "output_type": "stream",
     "text": [
      "This is a test sentence.\n"
     ]
    }
   ],
   "source": [
    "# The function re.sub(pattern, replacement, string, count=0, flags=0) is used to search for a pattern in a string and replace it with a given value.\n",
    "# regex = regular expression\n",
    "# ' +' → Matches one or more spaces.\n",
    "# Replaces them with a single space (' ').\n",
    "import re\n",
    "\n",
    "sentence = \"This    is  a   test   sentence.\"\n",
    "cleaned = re.sub(' +', ' ', sentence)  # Replaces multiple spaces with a single space\n",
    "\n",
    "print(cleaned)"
   ]
  },
  {
   "cell_type": "code",
   "execution_count": null,
   "metadata": {},
   "outputs": [
    {
     "name": "stdout",
     "output_type": "stream",
     "text": [
      "True\n",
      "True\n",
      "False\n",
      "hello\n"
     ]
    }
   ],
   "source": [
    "test = \"test12\"\n",
    "print(test.isalnum())\n",
    "test = \"test\"\n",
    "print(test.isalpha())\n",
    "test = \"12test\"\n",
    "print(test.isdigit())\n",
    "\n",
    "lower_case = \"Hello\"\n",
    "# only of alphanumeric characters (letters and numbers)\n",
    "print(lower_case.lower())\n",
    "\n",
    "# binary string\n",
    "count_0 = test.count(\"0\")\n",
    "count_1 = len(test) - count_0"
   ]
  },
  {
   "cell_type": "code",
   "execution_count": 3,
   "metadata": {},
   "outputs": [
    {
     "name": "stdout",
     "output_type": "stream",
     "text": [
      "a\n",
      "0\n",
      "{'a': 1, 'b': 2, 'c': 3}\n",
      "{'b': 2, 'c': 3}\n"
     ]
    }
   ],
   "source": [
    "# Dictionary\n",
    "cache = {\"a\": 1, \"b\": 2, \"c\": 3}\n",
    "oldest_key = next(iter(cache))\n",
    "print(oldest_key)\n",
    "\n",
    "# default value - return value 0 \n",
    "print(cache.pop(\"d\", 0))\n",
    "print(cache)\n",
    "\n",
    "# no return \n",
    "del cache[\"a\"]\n",
    "print(cache)"
   ]
  },
  {
   "cell_type": "code",
   "execution_count": null,
   "metadata": {},
   "outputs": [],
   "source": [
    "from functools import lru_cache\n",
    "\n",
    "@lru_cache(None)\n",
    "# recursive function"
   ]
  },
  {
   "cell_type": "code",
   "execution_count": null,
   "metadata": {},
   "outputs": [],
   "source": [
    "# abc = abstract basic class - to keep consistancy in subclass\n",
    "from abc import ABC, abstractmethod\n",
    "\n",
    "class Node(ABC):\n",
    "    # to keep consistancy in code and force subclasses to implement - (look at tree - expression tree example)\n",
    "    @abstractmethod\n",
    "    def anyImplementedMethod(self):\n",
    "        pass\n",
    "\n",
    "# subcalsses ...\n",
    "class Subclass(Node):\n",
    "    def __init__(self):\n",
    "        pass\n",
    "\n",
    "    def anyImplementedMethod(self):\n",
    "        return None\n",
    "    \n",
    "# implemented abstract method\n",
    "Subclass(0)"
   ]
  },
  {
   "cell_type": "code",
   "execution_count": null,
   "metadata": {},
   "outputs": [],
   "source": [
    "numbers = [10, 20, 30, 40, 50]\n",
    "\n",
    "# .index(value) finds the first index of \"value\" in the list\n",
    "idx = numbers.index(30)  # returns 2\n",
    "print(idx)  # 2\n",
    "\n",
    "# But note: list.index() is O(n), so if called many times on a large list,\n",
    "# it can be slow. For frequent lookups, consider a dictionary:\n",
    "positions = {val: i for i, val in enumerate(numbers)}\n",
    "print(positions[30])  # 2  (O(1) lookup)\n"
   ]
  }
 ],
 "metadata": {
  "kernelspec": {
   "display_name": "Python 3",
   "language": "python",
   "name": "python3"
  },
  "language_info": {
   "codemirror_mode": {
    "name": "ipython",
    "version": 3
   },
   "file_extension": ".py",
   "mimetype": "text/x-python",
   "name": "python",
   "nbconvert_exporter": "python",
   "pygments_lexer": "ipython3",
   "version": "3.10.5"
  }
 },
 "nbformat": 4,
 "nbformat_minor": 2
}
