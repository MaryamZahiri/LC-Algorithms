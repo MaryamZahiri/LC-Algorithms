{
 "cells": [
  {
   "cell_type": "code",
   "execution_count": null,
   "metadata": {},
   "outputs": [],
   "source": [
    "sample = ['1', '_']\n",
    "''.join(sample)"
   ]
  },
  {
   "cell_type": "code",
   "execution_count": null,
   "metadata": {},
   "outputs": [],
   "source": [
    "# List of Strings:\n",
    "words = [\"Hello\", \"world\"]\n",
    "result = \" \".join(words)  # \"Hello world\"\n",
    "\n",
    "# Tuple of Strings:\n",
    "phrases = (\"Join\", \"these\", \"words\")\n",
    "result = \"-\".join(phrases)  # \"Join-these-words\"\n",
    "\n",
    "# Set of Strings (order may vary):\n",
    "items = {\"apple\", \"banana\", \"cherry\"}\n",
    "result = \", \".join(items)  # \"apple, banana, cherry\" (order not guaranteed)\n",
    "\n",
    "# Generator of Strings:\n",
    "numbers = (str(i) for i in range(5))\n",
    "result = \" \".join(numbers)  # \"0 1 2 3 4\"\n",
    "\n",
    "'''\n",
    "These examples show join() combining elements from various iterable types as long as they’re all strings.\n",
    "'''"
   ]
  },
  {
   "cell_type": "code",
   "execution_count": null,
   "metadata": {},
   "outputs": [],
   "source": [
    "'''\n",
    "The .split() method is used to divide a string into a list of substrings based on a specified delimiter. Here are some examples:\n",
    "Basic Split (by Space):\n",
    "'''\n",
    "\n",
    "text = \"Hello world\"\n",
    "result = text.split()  # ['Hello', 'world']\n",
    "\n",
    "# Split by a Specific Character:\n",
    "csv = \"apple,banana,cherry\"\n",
    "result = csv.split(\",\")  # ['apple', 'banana', 'cherry']\n",
    "\n",
    "\n",
    "#Split with Limit on Number of Splits:\n",
    "text = \"one two three four\"\n",
    "result = text.split(\" \", 2)  # ['one', 'two', 'three four']\n",
    "\n",
    "#Split by Newline:\n",
    "multiline = \"line1\\nline2\\nline3\"\n",
    "result = multiline.split(\"\\n\")  # ['line1', 'line2', 'line3']"
   ]
  }
 ],
 "metadata": {
  "language_info": {
   "name": "python"
  }
 },
 "nbformat": 4,
 "nbformat_minor": 2
}
