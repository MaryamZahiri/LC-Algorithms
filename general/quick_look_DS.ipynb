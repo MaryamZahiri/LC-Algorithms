{
 "cells": [
  {
   "cell_type": "markdown",
   "metadata": {},
   "source": [
    "Set, Dictionary, Tuple and List"
   ]
  },
  {
   "cell_type": "markdown",
   "metadata": {},
   "source": [
    "![image](https://github.com/user-attachments/assets/1c5d4e06-2920-4dae-827e-b90b3707a560)"
   ]
  },
  {
   "cell_type": "markdown",
   "metadata": {},
   "source": [
    ".extend: Appends elements individually to a list.\n",
    "\n",
    ".update: Merges elements into a set or dictionary, handling uniqueness or key replacement."
   ]
  },
  {
   "cell_type": "code",
   "execution_count": null,
   "metadata": {},
   "outputs": [
    {
     "name": "stdout",
     "output_type": "stream",
     "text": [
      "[1, 2, 3, 4]\n",
      "extend:  [1, 2, 3, 4, 5, 6]\n",
      "append:  [1, 2, 3, 4, 5, 6, [7, 8]]\n"
     ]
    }
   ],
   "source": [
    "my_list = [1, 2]\n",
    "my_list.extend([3, 4])  # Adds 3, 4 to the list\n",
    "print(my_list)  # Output: [1, 2, 3, 4]\n",
    "\n",
    "my_list = my_list + [5, 6]\n",
    "print(\"extend: \", my_list)\n",
    "\n",
    "# append() modifies the list in place and returns None, so print(my_list.append([7,8])) prints None\n",
    "my_list.append([7,8])\n",
    "print(\"append: \", my_list)"
   ]
  },
  {
   "cell_type": "code",
   "execution_count": null,
   "metadata": {},
   "outputs": [],
   "source": [
    "my_set = {1, 2}\n",
    "my_set.update([3, 4, 2])  # Adds 3, 4 (ignores duplicate 2)\n",
    "print(my_set)  # Output: {1, 2, 3, 4}\n"
   ]
  },
  {
   "cell_type": "code",
   "execution_count": null,
   "metadata": {},
   "outputs": [],
   "source": [
    "my_dict = {\"a\": 1, \"b\": 2}\n",
    "my_dict.update({\"b\": 3, \"c\": 4})  # Updates 'b', adds 'c'\n",
    "print(my_dict)  # Output: {'a': 1, 'b': 3, 'c': 4}\n"
   ]
  }
 ],
 "metadata": {
  "kernelspec": {
   "display_name": "Python 3",
   "language": "python",
   "name": "python3"
  },
  "language_info": {
   "codemirror_mode": {
    "name": "ipython",
    "version": 3
   },
   "file_extension": ".py",
   "mimetype": "text/x-python",
   "name": "python",
   "nbconvert_exporter": "python",
   "pygments_lexer": "ipython3",
   "version": "3.10.5"
  }
 },
 "nbformat": 4,
 "nbformat_minor": 2
}
